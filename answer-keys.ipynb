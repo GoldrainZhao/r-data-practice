{
 "cells": [
  {
   "cell_type": "markdown",
   "metadata": {},
   "source": [
    "# Readme"
   ]
  },
  {
   "cell_type": "markdown",
   "metadata": {},
   "source": [
    "> **Update Jan 6, 2020**\n",
    ">\n",
    "> Ex 1-5 目前已经完成校对。\n",
    "> Ex 6 没有校对。\n",
    "\n",
    "- 题目按照由易到难的顺序排列，最后几题真的比较有挑战性。\n",
    "\n",
    "- 每题我们先给出代码，再给出代码解析。\n",
    "\n",
    "- 为了方便浏览，对于每一题的答案我们只会输出**前5行**。对应在代码中，我们会在所有代码的最后加上`[1:5]`，例如`dt[1:5]`。\n",
    "\n",
    "- 为了充分发挥`data.table`的优点，我们争取所有题目都*只用一行代码解答*。当然这样做会一定程度上导致代码可读性变差，不利于初学者理解。我们在公众号会提供分多行解答的版本。\n",
    "\n",
    "- 如果一题有多个答案，我们会分别列出。\n",
    "\n",
    "- 欢迎大家关注我们的微信公众号**大猫的R语言课堂**。\n",
    "\n",
    "- 如有任何问题请在我们的Github主页开issue。最后感谢renkun！"
   ]
  },
  {
   "cell_type": "markdown",
   "metadata": {},
   "source": [
    "# Import Data"
   ]
  },
  {
   "cell_type": "code",
   "execution_count": 10,
   "metadata": {
    "scrolled": true
   },
   "outputs": [
    {
     "data": {
      "text/html": [
       "<table>\n",
       "<caption>A data.table: 5 × 15</caption>\n",
       "<thead>\n",
       "\t<tr><th scope=col>symbol</th><th scope=col>date</th><th scope=col>pre_close</th><th scope=col>open</th><th scope=col>high</th><th scope=col>low</th><th scope=col>close</th><th scope=col>volume</th><th scope=col>amount</th><th scope=col>adj_factor</th><th scope=col>capt</th><th scope=col>index_w50</th><th scope=col>index_w300</th><th scope=col>index_w500</th><th scope=col>industry</th></tr>\n",
       "\t<tr><th scope=col>&lt;chr&gt;</th><th scope=col>&lt;int&gt;</th><th scope=col>&lt;dbl&gt;</th><th scope=col>&lt;dbl&gt;</th><th scope=col>&lt;dbl&gt;</th><th scope=col>&lt;dbl&gt;</th><th scope=col>&lt;dbl&gt;</th><th scope=col>&lt;dbl&gt;</th><th scope=col>&lt;dbl&gt;</th><th scope=col>&lt;dbl&gt;</th><th scope=col>&lt;dbl&gt;</th><th scope=col>&lt;dbl&gt;</th><th scope=col>&lt;dbl&gt;</th><th scope=col>&lt;dbl&gt;</th><th scope=col>&lt;chr&gt;</th></tr>\n",
       "</thead>\n",
       "<tbody>\n",
       "\t<tr><td>600000.SH</td><td>20120104</td><td>8.49</td><td>8.54</td><td>8.56</td><td>8.39</td><td>8.41</td><td> 34201379</td><td> 290229551</td><td>6.655275</td><td>125500555680</td><td>0.04640928</td><td>0.02125936</td><td>0</td><td>BANKS</td></tr>\n",
       "\t<tr><td>600000.SH</td><td>20120105</td><td>8.41</td><td>8.47</td><td>8.82</td><td>8.47</td><td>8.65</td><td>132116203</td><td>1144753023</td><td>6.655275</td><td>129082022192</td><td>0.04640928</td><td>0.02125936</td><td>0</td><td>BANKS</td></tr>\n",
       "\t<tr><td>600000.SH</td><td>20120106</td><td>8.65</td><td>8.63</td><td>8.78</td><td>8.62</td><td>8.71</td><td> 61778687</td><td> 537043761</td><td>6.655275</td><td>129977388820</td><td>0.04640928</td><td>0.02125936</td><td>0</td><td>BANKS</td></tr>\n",
       "\t<tr><td>600000.SH</td><td>20120109</td><td>8.71</td><td>8.72</td><td>8.99</td><td>8.68</td><td>8.95</td><td> 80136249</td><td> 711429611</td><td>6.655275</td><td>133558855331</td><td>0.04640928</td><td>0.02125936</td><td>0</td><td>BANKS</td></tr>\n",
       "\t<tr><td>600000.SH</td><td>20120110</td><td>8.95</td><td>8.95</td><td>9.10</td><td>8.88</td><td>9.07</td><td> 72004632</td><td> 647206633</td><td>6.655275</td><td>135349588587</td><td>0.04640928</td><td>0.02125936</td><td>0</td><td>BANKS</td></tr>\n",
       "</tbody>\n",
       "</table>\n"
      ],
      "text/latex": [
       "A data.table: 5 × 15\n",
       "\\begin{tabular}{r|lllllllllllllll}\n",
       " symbol & date & pre\\_close & open & high & low & close & volume & amount & adj\\_factor & capt & index\\_w50 & index\\_w300 & index\\_w500 & industry\\\\\n",
       " <chr> & <int> & <dbl> & <dbl> & <dbl> & <dbl> & <dbl> & <dbl> & <dbl> & <dbl> & <dbl> & <dbl> & <dbl> & <dbl> & <chr>\\\\\n",
       "\\hline\n",
       "\t 600000.SH & 20120104 & 8.49 & 8.54 & 8.56 & 8.39 & 8.41 &  34201379 &  290229551 & 6.655275 & 125500555680 & 0.04640928 & 0.02125936 & 0 & BANKS\\\\\n",
       "\t 600000.SH & 20120105 & 8.41 & 8.47 & 8.82 & 8.47 & 8.65 & 132116203 & 1144753023 & 6.655275 & 129082022192 & 0.04640928 & 0.02125936 & 0 & BANKS\\\\\n",
       "\t 600000.SH & 20120106 & 8.65 & 8.63 & 8.78 & 8.62 & 8.71 &  61778687 &  537043761 & 6.655275 & 129977388820 & 0.04640928 & 0.02125936 & 0 & BANKS\\\\\n",
       "\t 600000.SH & 20120109 & 8.71 & 8.72 & 8.99 & 8.68 & 8.95 &  80136249 &  711429611 & 6.655275 & 133558855331 & 0.04640928 & 0.02125936 & 0 & BANKS\\\\\n",
       "\t 600000.SH & 20120110 & 8.95 & 8.95 & 9.10 & 8.88 & 9.07 &  72004632 &  647206633 & 6.655275 & 135349588587 & 0.04640928 & 0.02125936 & 0 & BANKS\\\\\n",
       "\\end{tabular}\n"
      ],
      "text/markdown": [
       "\n",
       "A data.table: 5 × 15\n",
       "\n",
       "| symbol &lt;chr&gt; | date &lt;int&gt; | pre_close &lt;dbl&gt; | open &lt;dbl&gt; | high &lt;dbl&gt; | low &lt;dbl&gt; | close &lt;dbl&gt; | volume &lt;dbl&gt; | amount &lt;dbl&gt; | adj_factor &lt;dbl&gt; | capt &lt;dbl&gt; | index_w50 &lt;dbl&gt; | index_w300 &lt;dbl&gt; | index_w500 &lt;dbl&gt; | industry &lt;chr&gt; |\n",
       "|---|---|---|---|---|---|---|---|---|---|---|---|---|---|---|\n",
       "| 600000.SH | 20120104 | 8.49 | 8.54 | 8.56 | 8.39 | 8.41 |  34201379 |  290229551 | 6.655275 | 125500555680 | 0.04640928 | 0.02125936 | 0 | BANKS |\n",
       "| 600000.SH | 20120105 | 8.41 | 8.47 | 8.82 | 8.47 | 8.65 | 132116203 | 1144753023 | 6.655275 | 129082022192 | 0.04640928 | 0.02125936 | 0 | BANKS |\n",
       "| 600000.SH | 20120106 | 8.65 | 8.63 | 8.78 | 8.62 | 8.71 |  61778687 |  537043761 | 6.655275 | 129977388820 | 0.04640928 | 0.02125936 | 0 | BANKS |\n",
       "| 600000.SH | 20120109 | 8.71 | 8.72 | 8.99 | 8.68 | 8.95 |  80136249 |  711429611 | 6.655275 | 133558855331 | 0.04640928 | 0.02125936 | 0 | BANKS |\n",
       "| 600000.SH | 20120110 | 8.95 | 8.95 | 9.10 | 8.88 | 9.07 |  72004632 |  647206633 | 6.655275 | 135349588587 | 0.04640928 | 0.02125936 | 0 | BANKS |\n",
       "\n"
      ],
      "text/plain": [
       "  symbol    date     pre_close open high low  close volume    amount    \n",
       "1 600000.SH 20120104 8.49      8.54 8.56 8.39 8.41   34201379  290229551\n",
       "2 600000.SH 20120105 8.41      8.47 8.82 8.47 8.65  132116203 1144753023\n",
       "3 600000.SH 20120106 8.65      8.63 8.78 8.62 8.71   61778687  537043761\n",
       "4 600000.SH 20120109 8.71      8.72 8.99 8.68 8.95   80136249  711429611\n",
       "5 600000.SH 20120110 8.95      8.95 9.10 8.88 9.07   72004632  647206633\n",
       "  adj_factor capt         index_w50  index_w300 index_w500 industry\n",
       "1 6.655275   125500555680 0.04640928 0.02125936 0          BANKS   \n",
       "2 6.655275   129082022192 0.04640928 0.02125936 0          BANKS   \n",
       "3 6.655275   129977388820 0.04640928 0.02125936 0          BANKS   \n",
       "4 6.655275   133558855331 0.04640928 0.02125936 0          BANKS   \n",
       "5 6.655275   135349588587 0.04640928 0.02125936 0          BANKS   "
      ]
     },
     "metadata": {},
     "output_type": "display_data"
    }
   ],
   "source": [
    "# We only need two packages here\n",
    "library(data.table)\n",
    "library(stringr)\n",
    "\n",
    "# set `data_path` to your dir\n",
    "data_path <- \"C:/Users/rossz/OneDrive/App/R/stock-datatable-key/data\"\n",
    "setwd(data_path)\n",
    "\n",
    "# read into data\n",
    "data <- readRDS(\"stock-market-data.rds\")\n",
    "data[1:5] # show top 5 obs"
   ]
  },
  {
   "cell_type": "markdown",
   "metadata": {},
   "source": [
    "- 数据集为“面板数据”：包含多个股票（横截面），而每个股票则有多个按照日期排序的变量（时间序列）\n",
    "\n",
    "- 股票代码`symbol` 和日期`date`共同组成了数据集的key，也即每个唯一的`symbol` 和`date`组合决定了一个唯一的观测。\n",
    "\n",
    "- 整个数据集首先按照代码`symbol`排列，其次按照日期`date`排列。\n",
    "\n",
    "- 若干主要变量说明：\n",
    "    - `symbol`：股票代码。.SH 结尾的是沪股，.SZ 结尾的是深股\n",
    "    - `date`：日期\n",
    "    - `pre_close`： 昨收盘\n",
    "    - `open`：开盘价\n",
    "    - `high`：最高价（日内）\n",
    "    - `low`：最低价（日内）\n",
    "    - `close`：收盘价\n",
    "    - `volume`：成交量\n",
    "    - `amount`：成交金额\n",
    "    - `industry`：行业"
   ]
  },
  {
   "cell_type": "markdown",
   "metadata": {},
   "source": [
    "# Answer Keys"
   ]
  },
  {
   "cell_type": "markdown",
   "metadata": {},
   "source": [
    "## 1. 哪些股票的代码中包含\"8\"这个数字？"
   ]
  },
  {
   "cell_type": "markdown",
   "metadata": {},
   "source": [
    "首先，我们需要把股票代码`symbol`中包含8的那些观测找出来。我们可以借助`stringr`这个字符串处理包。这一步不难，稍微有些挑战的是去重。如果我们不去重，那么我们会得到非常多的重复观测。例如股票600128，如果它一共有100天的观测，那么我们会出现100个重复结果。为了去重，我们需要借助于`data.table`中的`unique`函数。代码如下。"
   ]
  },
  {
   "cell_type": "code",
   "execution_count": 12,
   "metadata": {
    "scrolled": true
   },
   "outputs": [
    {
     "data": {
      "text/html": [
       "<ol class=list-inline>\n",
       "\t<li>'600008.SH'</li>\n",
       "\t<li>'600018.SH'</li>\n",
       "\t<li>'600028.SH'</li>\n",
       "\t<li>'600038.SH'</li>\n",
       "\t<li>'600048.SH'</li>\n",
       "</ol>\n"
      ],
      "text/latex": [
       "\\begin{enumerate*}\n",
       "\\item '600008.SH'\n",
       "\\item '600018.SH'\n",
       "\\item '600028.SH'\n",
       "\\item '600038.SH'\n",
       "\\item '600048.SH'\n",
       "\\end{enumerate*}\n"
      ],
      "text/markdown": [
       "1. '600008.SH'\n",
       "2. '600018.SH'\n",
       "3. '600028.SH'\n",
       "4. '600038.SH'\n",
       "5. '600048.SH'\n",
       "\n",
       "\n"
      ],
      "text/plain": [
       "[1] \"600008.SH\" \"600018.SH\" \"600028.SH\" \"600038.SH\" \"600048.SH\""
      ]
     },
     "metadata": {},
     "output_type": "display_data"
    }
   ],
   "source": [
    "data[str_detect(symbol, \"8\"), unique(symbol)\n",
    "    ][1:5]"
   ]
  },
  {
   "cell_type": "markdown",
   "metadata": {},
   "source": [
    "- `str_detect`函数来自`stringr`包，它的输入是一个char vector，输出则是boolean vector，长度与原向量相同。`str_detect(symbol, \"8\")`含义为：对于`symbol`向量，判断其是否含有字符8，如果有，则为True，否则Faulse。\n",
    "\n",
    "- `unique`：找出`symbol`中不重复的值。\n",
    "\n",
    "- 在`data.table`的语法中，**先选择行，再对列进行处理**。所以上述语句会先执行`str_detect`，再执行`unique`。"
   ]
  },
  {
   "cell_type": "markdown",
   "metadata": {},
   "source": [
    "## 2. 每天上涨和下跌的股票各有多少？"
   ]
  },
  {
   "cell_type": "markdown",
   "metadata": {},
   "source": [
    "这一题需要引入分组的概念，并且按照“先分组，后统计”两步走。首先按照题意，我们需要为每个交易日`date`建立一个“组”。其次，对于每个组，我们需要生成两个统计数字：一个统计上涨的个数，一个统计下跌的个数。从下面的结果preview中可以看到，每个`date`都对应了两个观测，一个是“UP”，一个是“DOWN”。"
   ]
  },
  {
   "cell_type": "code",
   "execution_count": 4,
   "metadata": {
    "scrolled": true
   },
   "outputs": [
    {
     "data": {
      "text/html": [
       "<table>\n",
       "<thead><tr><th scope=col>date</th><th scope=col>updown</th><th scope=col>num</th></tr></thead>\n",
       "<tbody>\n",
       "\t<tr><td>20120104</td><td>DOWN    </td><td>2129    </td></tr>\n",
       "\t<tr><td>20120104</td><td>UP      </td><td> 191    </td></tr>\n",
       "\t<tr><td>20120105</td><td>DOWN    </td><td>2188    </td></tr>\n",
       "\t<tr><td>20120105</td><td>UP      </td><td> 132    </td></tr>\n",
       "\t<tr><td>20120106</td><td>DOWN    </td><td> 879    </td></tr>\n",
       "</tbody>\n",
       "</table>\n"
      ],
      "text/latex": [
       "\\begin{tabular}{r|lll}\n",
       " date & updown & num\\\\\n",
       "\\hline\n",
       "\t 20120104 & DOWN     & 2129    \\\\\n",
       "\t 20120104 & UP       &  191    \\\\\n",
       "\t 20120105 & DOWN     & 2188    \\\\\n",
       "\t 20120105 & UP       &  132    \\\\\n",
       "\t 20120106 & DOWN     &  879    \\\\\n",
       "\\end{tabular}\n"
      ],
      "text/markdown": [
       "\n",
       "| date | updown | num |\n",
       "|---|---|---|\n",
       "| 20120104 | DOWN     | 2129     |\n",
       "| 20120104 | UP       |  191     |\n",
       "| 20120105 | DOWN     | 2188     |\n",
       "| 20120105 | UP       |  132     |\n",
       "| 20120106 | DOWN     |  879     |\n",
       "\n"
      ],
      "text/plain": [
       "  date     updown num \n",
       "1 20120104 DOWN   2129\n",
       "2 20120104 UP      191\n",
       "3 20120105 DOWN   2188\n",
       "4 20120105 UP      132\n",
       "5 20120106 DOWN    879"
      ]
     },
     "metadata": {},
     "output_type": "display_data"
    }
   ],
   "source": [
    "data[, \n",
    "     .(num = uniqueN(symbol)), \n",
    "     keyby = .(date, updown = ifelse(close - pre_close > 0, \"UP\", \"DOWN\"))\n",
    "    ][1:5]"
   ]
  },
  {
   "cell_type": "markdown",
   "metadata": {},
   "source": [
    "- 代码第一行只有一个逗号。这是因为`data.table`的第一个语句用来对列进行选择，由于我们这里需要对所有列进行统计，所以不需要进行任何操作。\n",
    "\n",
    "- `keyby`用来进行分组，是整个代码的核心。先来看`keyby = .(date, updown)`这个结构，他的意思是，把整个数据集按照`date`和`updown`两个变量进行分组，并依次排序。其中，`updown`是我们新建的字符变量，用来表示分组，它只取两个值：UP, DOWN。这其中的难点是建立`updown`这个变量。我们使用了`ifelse`这个函数。`ifelse(close - pre_close > 0, \"UP\", \"DOWN\")`的意思是，如果今天的收盘价高于昨天的收盘价，那么取值UP，反之取值DOWN。\n",
    "\n",
    "- 代码第二行生成了一个新变量`num`。由于在`keyby`语句中我们已经按照日期与涨跌进行了分组，所以这一步我们只需要统计每个组有多少个股票就可以了。我们在这里使用了`uniqueN`这个函数。它是`data.table`内置函数之一，和`unique`几乎执行相同的操作，唯一不同的是，`unique`返回的是不重复的item（是一个向量），而`uniqueN`返回的是不重复的数量（是一个数字）。\n",
    "\n",
    "- 整个代码的执行顺序是：**先选择行（逗号空白行），再分组（`keyby`语句），最后进行组间统计（`num`语句）**。\n",
    "\n",
    "- 我们的答案中，行、列以及分组三条语句各占一行，实际上这仅仅是为了让代码更直观。如果你愿意，`data.table`允许你把所有的代码都写在同一行，就像这样："
   ]
  },
  {
   "cell_type": "code",
   "execution_count": null,
   "metadata": {},
   "outputs": [],
   "source": [
    "data[, .(num = uniqueN(symbol)), keyby = .(date, updown = ifelse(close - pre_close > 0, \"UP\", \"DOWN\"))]"
   ]
  },
  {
   "cell_type": "markdown",
   "metadata": {},
   "source": [
    "## 3. 每天每个交易所上涨、下跌的股票各有多少？"
   ]
  },
  {
   "cell_type": "markdown",
   "metadata": {},
   "source": [
    "这题和`Ex-2`非常类似，唯一的不同就是分组变量多了一个：对于每个交易日，我们不仅需要根据涨跌`updown`分组，还要根据交易所分组。也即，每个交易日都会产生四个subgroup：`SH-DOWN`, `SH-UP`, `SZ-DOWN`, `SZ-UP`.\n",
    "\n",
    "由于股票代码`symbol`的最后两个字符表示交易所（例如，`600123.SH`表示上海交易所，股票代码600123），我们在建立分组变量时需要使用`str_sub`函数截取最后两个字符。"
   ]
  },
  {
   "cell_type": "code",
   "execution_count": 5,
   "metadata": {
    "scrolled": true
   },
   "outputs": [
    {
     "data": {
      "text/html": [
       "<table>\n",
       "<thead><tr><th scope=col>date</th><th scope=col>exchange</th><th scope=col>updown</th><th scope=col>num</th></tr></thead>\n",
       "<tbody>\n",
       "\t<tr><td>20120104</td><td>SH      </td><td>DOWN    </td><td> 836    </td></tr>\n",
       "\t<tr><td>20120104</td><td>SH      </td><td>UP      </td><td>  85    </td></tr>\n",
       "\t<tr><td>20120104</td><td>SZ      </td><td>DOWN    </td><td>1293    </td></tr>\n",
       "\t<tr><td>20120104</td><td>SZ      </td><td>UP      </td><td> 106    </td></tr>\n",
       "\t<tr><td>20120105</td><td>SH      </td><td>DOWN    </td><td> 847    </td></tr>\n",
       "</tbody>\n",
       "</table>\n"
      ],
      "text/latex": [
       "\\begin{tabular}{r|llll}\n",
       " date & exchange & updown & num\\\\\n",
       "\\hline\n",
       "\t 20120104 & SH       & DOWN     &  836    \\\\\n",
       "\t 20120104 & SH       & UP       &   85    \\\\\n",
       "\t 20120104 & SZ       & DOWN     & 1293    \\\\\n",
       "\t 20120104 & SZ       & UP       &  106    \\\\\n",
       "\t 20120105 & SH       & DOWN     &  847    \\\\\n",
       "\\end{tabular}\n"
      ],
      "text/markdown": [
       "\n",
       "| date | exchange | updown | num |\n",
       "|---|---|---|---|\n",
       "| 20120104 | SH       | DOWN     |  836     |\n",
       "| 20120104 | SH       | UP       |   85     |\n",
       "| 20120104 | SZ       | DOWN     | 1293     |\n",
       "| 20120104 | SZ       | UP       |  106     |\n",
       "| 20120105 | SH       | DOWN     |  847     |\n",
       "\n"
      ],
      "text/plain": [
       "  date     exchange updown num \n",
       "1 20120104 SH       DOWN    836\n",
       "2 20120104 SH       UP       85\n",
       "3 20120104 SZ       DOWN   1293\n",
       "4 20120104 SZ       UP      106\n",
       "5 20120105 SH       DOWN    847"
      ]
     },
     "metadata": {},
     "output_type": "display_data"
    }
   ],
   "source": [
    "data[, .(num = uniqueN(symbol)), \n",
    "     keyby = .(date, \n",
    "               exchange = str_sub(symbol, start = -2, end = -1), \n",
    "               updown = ifelse(close - pre_close > 0, \"UP\", \"DOWN\"))\n",
    "    ][1:5]"
   ]
  },
  {
   "cell_type": "markdown",
   "metadata": {},
   "source": [
    "- 在`keyby`语句中，我们创建了三个分组变量，首先是日期`date`，其次是交易所`exchange`（只取SH/SZ两个值），最后是涨跌`updown`。注意这三个变量的先后顺序非常重要，不能颠倒。\n",
    "\n",
    "- 字符串截取函数`str_sub`来自`stringr`包。`str_sub(symbol, start = -2, end = -1)`的意思是截取`symbol`最后两个字符（注意`start`/`end`取了负值）。"
   ]
  },
  {
   "cell_type": "markdown",
   "metadata": {},
   "source": [
    "## 4. 沪深300成分股中，每天上涨、下跌的股票各有多少？"
   ]
  },
  {
   "cell_type": "markdown",
   "metadata": {},
   "source": [
    "本题仍旧是`Ex-2`的拓展，只不过要求我们进行行选择操作。在`data.table`的`dt[i,j,by]`语法中，`i`代表行选择操作。\n",
    "\n",
    "为了选出沪深300成分股，我们需要用到`index_w300`这个变量。`index_w300`表示一个股票在沪深300指数中的权重，如果大于零，说明它是成分股；如果为零，说明不是成分股。"
   ]
  },
  {
   "cell_type": "code",
   "execution_count": 6,
   "metadata": {
    "scrolled": true
   },
   "outputs": [
    {
     "data": {
      "text/html": [
       "<table>\n",
       "<thead><tr><th scope=col>date</th><th scope=col>updown</th><th scope=col>num</th></tr></thead>\n",
       "<tbody>\n",
       "\t<tr><td>20120104</td><td>DOWN    </td><td>280     </td></tr>\n",
       "\t<tr><td>20120104</td><td>UP      </td><td> 20     </td></tr>\n",
       "\t<tr><td>20120105</td><td>DOWN    </td><td>250     </td></tr>\n",
       "\t<tr><td>20120105</td><td>UP      </td><td> 50     </td></tr>\n",
       "\t<tr><td>20120106</td><td>DOWN    </td><td> 98     </td></tr>\n",
       "</tbody>\n",
       "</table>\n"
      ],
      "text/latex": [
       "\\begin{tabular}{r|lll}\n",
       " date & updown & num\\\\\n",
       "\\hline\n",
       "\t 20120104 & DOWN     & 280     \\\\\n",
       "\t 20120104 & UP       &  20     \\\\\n",
       "\t 20120105 & DOWN     & 250     \\\\\n",
       "\t 20120105 & UP       &  50     \\\\\n",
       "\t 20120106 & DOWN     &  98     \\\\\n",
       "\\end{tabular}\n"
      ],
      "text/markdown": [
       "\n",
       "| date | updown | num |\n",
       "|---|---|---|\n",
       "| 20120104 | DOWN     | 280      |\n",
       "| 20120104 | UP       |  20      |\n",
       "| 20120105 | DOWN     | 250      |\n",
       "| 20120105 | UP       |  50      |\n",
       "| 20120106 | DOWN     |  98      |\n",
       "\n"
      ],
      "text/plain": [
       "  date     updown num\n",
       "1 20120104 DOWN   280\n",
       "2 20120104 UP      20\n",
       "3 20120105 DOWN   250\n",
       "4 20120105 UP      50\n",
       "5 20120106 DOWN    98"
      ]
     },
     "metadata": {},
     "output_type": "display_data"
    }
   ],
   "source": [
    "data[index_w300 > 0, \n",
    "     .(num = uniqueN(symbol)), \n",
    "     keyby = .(date, updown = ifelse(close - pre_close > 0, \"UP\", \"DOWN\"))\n",
    "    ][1:5]"
   ]
  },
  {
   "cell_type": "markdown",
   "metadata": {},
   "source": [
    "- 为了选出沪深300成分股，我们使用了`index_w300 > 0`这个语句。`index_w300`是一个数值变量，与零进行比较运算后会生成一列与原向量等长的**布尔向量**（例如 `c(True, False False, True...)`）。`data.table`只会选择为`True`的那些元素。\n",
    "\n",
    "- 在`data.table`的`dt[i,j,by]`语法中，先执行行选择操作`i`, 再执行分组操作`by`, 最后执行列操作`j`。因此上述代码的执行顺序为：先`index_w300 > 0`，然后`keyby`, 最后生成`num`."
   ]
  },
  {
   "cell_type": "markdown",
   "metadata": {},
   "source": [
    "## 5. 每天每个行业各有多少只股票？"
   ]
  },
  {
   "cell_type": "markdown",
   "metadata": {},
   "source": [
    "仍旧是`Ex-2`的拓展，而且更为简单。我们只需要按照`date`和`industry`进行分组，然后统计每个subgroup的个数即可。"
   ]
  },
  {
   "cell_type": "code",
   "execution_count": 16,
   "metadata": {
    "scrolled": true
   },
   "outputs": [
    {
     "data": {
      "text/html": [
       "<table>\n",
       "<thead><tr><th scope=col>date</th><th scope=col>industry</th><th scope=col>stk_num</th></tr></thead>\n",
       "<tbody>\n",
       "\t<tr><td>20120104</td><td>AERODEF </td><td>10      </td></tr>\n",
       "\t<tr><td>20120104</td><td>AIRLINE </td><td>12      </td></tr>\n",
       "\t<tr><td>20120104</td><td>AUTO    </td><td>85      </td></tr>\n",
       "\t<tr><td>20120104</td><td>BANKS   </td><td>16      </td></tr>\n",
       "\t<tr><td>20120104</td><td>BEV     </td><td>30      </td></tr>\n",
       "</tbody>\n",
       "</table>\n"
      ],
      "text/latex": [
       "\\begin{tabular}{r|lll}\n",
       " date & industry & stk\\_num\\\\\n",
       "\\hline\n",
       "\t 20120104 & AERODEF  & 10      \\\\\n",
       "\t 20120104 & AIRLINE  & 12      \\\\\n",
       "\t 20120104 & AUTO     & 85      \\\\\n",
       "\t 20120104 & BANKS    & 16      \\\\\n",
       "\t 20120104 & BEV      & 30      \\\\\n",
       "\\end{tabular}\n"
      ],
      "text/markdown": [
       "\n",
       "| date | industry | stk_num |\n",
       "|---|---|---|\n",
       "| 20120104 | AERODEF  | 10       |\n",
       "| 20120104 | AIRLINE  | 12       |\n",
       "| 20120104 | AUTO     | 85       |\n",
       "| 20120104 | BANKS    | 16       |\n",
       "| 20120104 | BEV      | 30       |\n",
       "\n"
      ],
      "text/plain": [
       "  date     industry stk_num\n",
       "1 20120104 AERODEF  10     \n",
       "2 20120104 AIRLINE  12     \n",
       "3 20120104 AUTO     85     \n",
       "4 20120104 BANKS    16     \n",
       "5 20120104 BEV      30     "
      ]
     },
     "metadata": {},
     "output_type": "display_data"
    }
   ],
   "source": [
    "data[, .(stk_num = uniqueN(symbol)), \n",
    "     keyby = .(date, industry)\n",
    "    ][1:5]"
   ]
  },
  {
   "cell_type": "markdown",
   "metadata": {},
   "source": [
    "- 我们生成一个新的变量`stk_num`用来表示每天每个行业的股票数。"
   ]
  },
  {
   "cell_type": "markdown",
   "metadata": {
    "toc-hr-collapsed": false
   },
   "source": [
    "## 6. 股票数最大的行业和总成交额最大的行业是否总是同一个行业？"
   ]
  },
  {
   "cell_type": "markdown",
   "metadata": {},
   "source": [
    "### Key 1"
   ]
  },
  {
   "cell_type": "code",
   "execution_count": 8,
   "metadata": {
    "scrolled": true
   },
   "outputs": [
    {
     "data": {
      "text/html": [
       "<table>\n",
       "<thead><tr><th scope=col>date</th><th scope=col>industry</th><th scope=col>trd_amount</th><th scope=col>stk_num</th></tr></thead>\n",
       "<tbody>\n",
       "\t<tr><td>20120104  </td><td>AERODEF   </td><td> 493331236</td><td>10        </td></tr>\n",
       "\t<tr><td>20120104  </td><td>AIRLINE   </td><td> 359576492</td><td>12        </td></tr>\n",
       "\t<tr><td>20120104  </td><td>AUTO      </td><td>2299263905</td><td>85        </td></tr>\n",
       "\t<tr><td>20120104  </td><td>BANKS     </td><td>3612012715</td><td>16        </td></tr>\n",
       "\t<tr><td>20120104  </td><td>BEV       </td><td>2946962800</td><td>30        </td></tr>\n",
       "</tbody>\n",
       "</table>\n"
      ],
      "text/latex": [
       "\\begin{tabular}{r|llll}\n",
       " date & industry & trd\\_amount & stk\\_num\\\\\n",
       "\\hline\n",
       "\t 20120104   & AERODEF    &  493331236 & 10        \\\\\n",
       "\t 20120104   & AIRLINE    &  359576492 & 12        \\\\\n",
       "\t 20120104   & AUTO       & 2299263905 & 85        \\\\\n",
       "\t 20120104   & BANKS      & 3612012715 & 16        \\\\\n",
       "\t 20120104   & BEV        & 2946962800 & 30        \\\\\n",
       "\\end{tabular}\n"
      ],
      "text/markdown": [
       "\n",
       "| date | industry | trd_amount | stk_num |\n",
       "|---|---|---|---|\n",
       "| 20120104   | AERODEF    |  493331236 | 10         |\n",
       "| 20120104   | AIRLINE    |  359576492 | 12         |\n",
       "| 20120104   | AUTO       | 2299263905 | 85         |\n",
       "| 20120104   | BANKS      | 3612012715 | 16         |\n",
       "| 20120104   | BEV        | 2946962800 | 30         |\n",
       "\n"
      ],
      "text/plain": [
       "  date     industry trd_amount stk_num\n",
       "1 20120104 AERODEF   493331236 10     \n",
       "2 20120104 AIRLINE   359576492 12     \n",
       "3 20120104 AUTO     2299263905 85     \n",
       "4 20120104 BANKS    3612012715 16     \n",
       "5 20120104 BEV      2946962800 30     "
      ]
     },
     "metadata": {},
     "output_type": "display_data"
    }
   ],
   "source": [
    "data1 <- data[, .(trd_amount = sum(amount), stk_num = uniqueN(symbol)), \n",
    "    keyby = .(date, industry)]\n",
    "data1[1:5]"
   ]
  },
  {
   "cell_type": "code",
   "execution_count": null,
   "metadata": {},
   "outputs": [],
   "source": [
    "result <- data1[data1[, .I[trd_amount == max(trd_amount)], by = date]$V1]$industry == data1[data1[, .I[stk_num == max(stk_num)], by = date]$V1]$industry\n",
    "\n",
    "result[1:5]"
   ]
  },
  {
   "cell_type": "markdown",
   "metadata": {},
   "source": [
    "### Key 2"
   ]
  },
  {
   "cell_type": "code",
   "execution_count": 23,
   "metadata": {
    "scrolled": true
   },
   "outputs": [
    {
     "data": {
      "text/html": [
       "<table>\n",
       "<thead><tr><th scope=col>date</th><th scope=col>industry</th></tr></thead>\n",
       "<tbody>\n",
       "\t<tr><td>20120104</td><td>HDWRSEMI</td></tr>\n",
       "\t<tr><td>20120106</td><td>HDWRSEMI</td></tr>\n",
       "\t<tr><td>20120213</td><td>HDWRSEMI</td></tr>\n",
       "\t<tr><td>20120216</td><td>HDWRSEMI</td></tr>\n",
       "\t<tr><td>20120217</td><td>HDWRSEMI</td></tr>\n",
       "</tbody>\n",
       "</table>\n"
      ],
      "text/latex": [
       "\\begin{tabular}{r|ll}\n",
       " date & industry\\\\\n",
       "\\hline\n",
       "\t 20120104 & HDWRSEMI\\\\\n",
       "\t 20120106 & HDWRSEMI\\\\\n",
       "\t 20120213 & HDWRSEMI\\\\\n",
       "\t 20120216 & HDWRSEMI\\\\\n",
       "\t 20120217 & HDWRSEMI\\\\\n",
       "\\end{tabular}\n"
      ],
      "text/markdown": [
       "\n",
       "| date | industry |\n",
       "|---|---|\n",
       "| 20120104 | HDWRSEMI |\n",
       "| 20120106 | HDWRSEMI |\n",
       "| 20120213 | HDWRSEMI |\n",
       "| 20120216 | HDWRSEMI |\n",
       "| 20120217 | HDWRSEMI |\n",
       "\n"
      ],
      "text/plain": [
       "  date     industry\n",
       "1 20120104 HDWRSEMI\n",
       "2 20120106 HDWRSEMI\n",
       "3 20120213 HDWRSEMI\n",
       "4 20120216 HDWRSEMI\n",
       "5 20120217 HDWRSEMI"
      ]
     },
     "metadata": {},
     "output_type": "display_data"
    }
   ],
   "source": [
    "data[, .(trd_amount = sum(amount), stk_num = uniqueN(symbol)), keyby = .(date, industry)\n",
    "    ][, .SD[trd_amount == max(trd_amount) & stk_num == max(stk_num), .(industry)], \n",
    "      keyby = .(date)\n",
    "    ][1:5]"
   ]
  },
  {
   "cell_type": "markdown",
   "metadata": {},
   "source": [
    "## 7. 每天涨幅超过5%、跌幅超过5%的股票各有多少？"
   ]
  },
  {
   "cell_type": "markdown",
   "metadata": {},
   "source": [
    "这一题的关键思路还是`Ex-2`中的分组。首先，我们自然要对日期分组，然后按照`updown`进行分组。`updown`是用户新建的变量，只取`up5%+`和`down5%+`两个值，一个表示涨幅超过5%，一个表示跌幅超过5%。最后，我们统计每个subgroup的个数"
   ]
  },
  {
   "cell_type": "code",
   "execution_count": 7,
   "metadata": {},
   "outputs": [
    {
     "data": {
      "text/html": [
       "<table>\n",
       "<thead><tr><th scope=col>date</th><th scope=col>updown</th><th scope=col>symbol_amount</th></tr></thead>\n",
       "<tbody>\n",
       "\t<tr><td>20120104</td><td>down5%+ </td><td>277     </td></tr>\n",
       "\t<tr><td>20120104</td><td>up5%+   </td><td> 17     </td></tr>\n",
       "\t<tr><td>20120105</td><td>down5%+ </td><td>885     </td></tr>\n",
       "\t<tr><td>20120105</td><td>up5%+   </td><td> 10     </td></tr>\n",
       "\t<tr><td>20120106</td><td>down5%+ </td><td> 66     </td></tr>\n",
       "</tbody>\n",
       "</table>\n"
      ],
      "text/latex": [
       "\\begin{tabular}{r|lll}\n",
       " date & updown & symbol\\_amount\\\\\n",
       "\\hline\n",
       "\t 20120104  & down5\\%+ & 277      \\\\\n",
       "\t 20120104  & up5\\%+   &  17      \\\\\n",
       "\t 20120105  & down5\\%+ & 885      \\\\\n",
       "\t 20120105  & up5\\%+   &  10      \\\\\n",
       "\t 20120106  & down5\\%+ &  66      \\\\\n",
       "\\end{tabular}\n"
      ],
      "text/markdown": [
       "\n",
       "| date | updown | symbol_amount |\n",
       "|---|---|---|\n",
       "| 20120104 | down5%+  | 277      |\n",
       "| 20120104 | up5%+    |  17      |\n",
       "| 20120105 | down5%+  | 885      |\n",
       "| 20120105 | up5%+    |  10      |\n",
       "| 20120106 | down5%+  |  66      |\n",
       "\n"
      ],
      "text/plain": [
       "  date     updown  symbol_amount\n",
       "1 20120104 down5%+ 277          \n",
       "2 20120104 up5%+    17          \n",
       "3 20120105 down5%+ 885          \n",
       "4 20120105 up5%+    10          \n",
       "5 20120106 down5%+  66          "
      ]
     },
     "metadata": {},
     "output_type": "display_data"
    }
   ],
   "source": [
    "data[, ':='(ret = (close - pre_close)/pre_close)\n",
    "    ][ret > 0.05 | ret < -0.05, \n",
    "     .(symbol_amount = uniqueN(symbol)), \n",
    "     keyby = .(date, updown = ifelse(ret > 0.05, \"up5%+\", \"down5%+\"))\n",
    "    ][1:5]"
   ]
  },
  {
   "cell_type": "markdown",
   "metadata": {},
   "source": [
    "- 为了方便计算，我们首先在原数据集中新增一个变量`ret`，表示股票的日收益率。`':='(ret = (close - pre_close)/pre_close)`即为新建收益率的语句，其定义为今日收盘价减去昨日收盘价，再除以昨日收盘价\n",
    "\n",
    "- `ret > 0.05 | ret < -0.05`用来删选出收益率超过5%或小于-5%的观测。注意以上运算的结果是一个取值为`True`或`False`的向量，`data.table`最终会挑选出为`True`的那些行。\n",
    "\n",
    "- 我们仍旧使用`ifelse`函数生成`updown`这个变量。`ifelse(ret > 0.05, \"up5%+\", \"down5%+\")`的意思是，如果条件（`ret > 0.05`）成立，那么取值`up5%+`，否则取值`down5%+`."
   ]
  },
  {
   "cell_type": "markdown",
   "metadata": {},
   "source": [
    "## 8. 每天涨幅前10的股票的总成交额和跌幅前10的股票的总成交额比例是多少？"
   ]
  },
  {
   "cell_type": "markdown",
   "metadata": {},
   "source": [
    "首先，我们需要按照日期进行分组，然后对于每一个交易日，我们需要三个统计值：\n",
    "- `top10`：涨幅前十的股票的总成交额\n",
    "- `bottom10`：跌幅前十的股票的总成交额\n",
    "- `ratio`：`top10/bottom10`"
   ]
  },
  {
   "cell_type": "code",
   "execution_count": 11,
   "metadata": {},
   "outputs": [
    {
     "data": {
      "text/html": [
       "<table>\n",
       "<thead><tr><th scope=col>date</th><th scope=col>top10</th><th scope=col>bottom10</th><th scope=col>ratio</th></tr></thead>\n",
       "<tbody>\n",
       "\t<tr><td>20120104  </td><td> 456926638</td><td> 937764644</td><td>0.4872509 </td></tr>\n",
       "\t<tr><td>20120105  </td><td> 383022701</td><td> 787215168</td><td>0.4865540 </td></tr>\n",
       "\t<tr><td>20120106  </td><td> 703279194</td><td>1097633048</td><td>0.6407234 </td></tr>\n",
       "\t<tr><td>20120109  </td><td> 558059840</td><td>1638363635</td><td>0.3406203 </td></tr>\n",
       "\t<tr><td>20120110  </td><td>2948836472</td><td>1676319162</td><td>1.7591140 </td></tr>\n",
       "</tbody>\n",
       "</table>\n"
      ],
      "text/latex": [
       "\\begin{tabular}{r|llll}\n",
       " date & top10 & bottom10 & ratio\\\\\n",
       "\\hline\n",
       "\t 20120104   &  456926638 &  937764644 & 0.4872509 \\\\\n",
       "\t 20120105   &  383022701 &  787215168 & 0.4865540 \\\\\n",
       "\t 20120106   &  703279194 & 1097633048 & 0.6407234 \\\\\n",
       "\t 20120109   &  558059840 & 1638363635 & 0.3406203 \\\\\n",
       "\t 20120110   & 2948836472 & 1676319162 & 1.7591140 \\\\\n",
       "\\end{tabular}\n"
      ],
      "text/markdown": [
       "\n",
       "| date | top10 | bottom10 | ratio |\n",
       "|---|---|---|---|\n",
       "| 20120104   |  456926638 |  937764644 | 0.4872509  |\n",
       "| 20120105   |  383022701 |  787215168 | 0.4865540  |\n",
       "| 20120106   |  703279194 | 1097633048 | 0.6407234  |\n",
       "| 20120109   |  558059840 | 1638363635 | 0.3406203  |\n",
       "| 20120110   | 2948836472 | 1676319162 | 1.7591140  |\n",
       "\n"
      ],
      "text/plain": [
       "  date     top10      bottom10   ratio    \n",
       "1 20120104  456926638  937764644 0.4872509\n",
       "2 20120105  383022701  787215168 0.4865540\n",
       "3 20120106  703279194 1097633048 0.6407234\n",
       "4 20120109  558059840 1638363635 0.3406203\n",
       "5 20120110 2948836472 1676319162 1.7591140"
      ]
     },
     "metadata": {},
     "output_type": "display_data"
    }
   ],
   "source": [
    "data[, ':='(ret = (close - pre_close)/pre_close)\n",
    "    ][order(date, ret)\n",
    "    ][, .(top10 = sum(amount[1:10]), bottom10 = sum(amount[(.N-10):.N])),\n",
    "      keyby = date\n",
    "    ][, ':='(ratio = top10/bottom10)\n",
    "    ][1:5]"
   ]
  },
  {
   "cell_type": "markdown",
   "metadata": {},
   "source": [
    "- 原数据集中，成交量对应变量`amount`。\n",
    "- 第一步，我们为数据集新增一个变量`ret`，表示股票的日收益，对应的语句为`':='(ret = (close - pre_close)/pre_close)`\n",
    "- 其次，我们先按照时间`date`，再按照收益率`ret`从低到高排序，这是为了方便后续计算，对应语句为`order(date, ret)`。其中，`order`是`data.table`中的快速排序函数。\n",
    "- 接着，我们按照日期**分组**，然后计算每一天涨幅前十和跌幅前十的股票的成交额。`amount[1:10]`的意思是取`amount`的前十个观测，`amount[(.N-10):.N]`则表示`amount`的倒数10个观测。由于上一步中我们已经按照收益率`ret`进行了排序，所以`amount[1:10]`就对应了*`ret`最小的10个股票它们对应的成交额*。\n",
    "- `sum`为求和函数。"
   ]
  },
  {
   "cell_type": "markdown",
   "metadata": {},
   "source": [
    "## 9. 每天开盘涨停的股票与收盘涨停的股票各有多少？（涨停按照收益率超过1.5%的标准计算）"
   ]
  },
  {
   "cell_type": "markdown",
   "metadata": {},
   "source": [
    "### key 1"
   ]
  },
  {
   "cell_type": "markdown",
   "metadata": {},
   "source": [
    "还是老样子，首先按照`date`进行分组，然后找出每个交易日中收盘涨停与开盘涨停的股票，最后统计个数。只是题目中把涨停定义为1.5%，似乎和平日里说的10%不一致。不过不影响做题，题目怎么说我们怎么做就行。"
   ]
  },
  {
   "cell_type": "code",
   "execution_count": 13,
   "metadata": {},
   "outputs": [
    {
     "data": {
      "text/html": [
       "<table>\n",
       "<thead><tr><th scope=col>date</th><th scope=col>n_openlimit</th><th scope=col>n_closelimit</th></tr></thead>\n",
       "<tbody>\n",
       "\t<tr><td>20120104</td><td>325     </td><td>  70    </td></tr>\n",
       "\t<tr><td>20120105</td><td> 27     </td><td>  60    </td></tr>\n",
       "\t<tr><td>20120106</td><td> 56     </td><td> 743    </td></tr>\n",
       "\t<tr><td>20120109</td><td> 73     </td><td>2142    </td></tr>\n",
       "\t<tr><td>20120110</td><td> 95     </td><td>2125    </td></tr>\n",
       "</tbody>\n",
       "</table>\n"
      ],
      "text/latex": [
       "\\begin{tabular}{r|lll}\n",
       " date & n\\_openlimit & n\\_closelimit\\\\\n",
       "\\hline\n",
       "\t 20120104 & 325      &   70    \\\\\n",
       "\t 20120105 &  27      &   60    \\\\\n",
       "\t 20120106 &  56      &  743    \\\\\n",
       "\t 20120109 &  73      & 2142    \\\\\n",
       "\t 20120110 &  95      & 2125    \\\\\n",
       "\\end{tabular}\n"
      ],
      "text/markdown": [
       "\n",
       "| date | n_openlimit | n_closelimit |\n",
       "|---|---|---|\n",
       "| 20120104 | 325      |   70     |\n",
       "| 20120105 |  27      |   60     |\n",
       "| 20120106 |  56      |  743     |\n",
       "| 20120109 |  73      | 2142     |\n",
       "| 20120110 |  95      | 2125     |\n",
       "\n"
      ],
      "text/plain": [
       "  date     n_openlimit n_closelimit\n",
       "1 20120104 325           70        \n",
       "2 20120105  27           60        \n",
       "3 20120106  56          743        \n",
       "4 20120109  73         2142        \n",
       "5 20120110  95         2125        "
      ]
     },
     "metadata": {},
     "output_type": "display_data"
    }
   ],
   "source": [
    "data[, ':='(ret_open = open/pre_close - 1, \n",
    "            ret_close = close/pre_close - 1)\n",
    "    ][, .(n_openlimit = sum(ret_open > 0.015),\n",
    "          n_closelimit = sum(ret_close > 0.015)),\n",
    "      keyby = date\n",
    "    ][1:5]"
   ]
  },
  {
   "cell_type": "markdown",
   "metadata": {},
   "source": [
    "- line 1-2: 首先我们在原数据集中新增两个变量`ret_open`与`ret_close`，分别表示开盘涨幅与收盘涨幅。\n",
    "- line 3-5: 接着我们按照日期`date`进行分组(`keyby`语句)，然后在每组之内建立两个新的变量`n_openlimit`与`n_closelimit`用来统计开收盘涨停的股票数。这里**比较有技巧的是`sum(ret_open > 0.015)`语句**。首先我们看`ret_open > 0.015`，他的意思是把`ret_open`这个向量的**每一个分量**与1.5%进行比较，如果成立返回`True`，否则`False`。这种比较的最终的结果仍旧是一个向量。`sum(ret_open > 0.015)`则是把这个向量的所有分量相加，要知道`True`在数值计算中被转化成`1`，`False`则转化为`0`，因此`sum(ret_open > 0.015)`最终做的事情是*统计`ret_open`这个向量中有多少个分量是大于0.015的*。\n",
    "- 以上技巧是非常实用的，你也可以自己验证一下，`sum(c(True, False, False))`的结果是不是等于`1`？"
   ]
  },
  {
   "cell_type": "markdown",
   "metadata": {},
   "source": [
    "### Key 2 (村长的答案)"
   ]
  },
  {
   "cell_type": "code",
   "execution_count": 9,
   "metadata": {},
   "outputs": [
    {
     "data": {
      "text/html": [
       "<table>\n",
       "<thead><tr><th scope=col>tag</th><th scope=col>date</th><th scope=col>V1</th></tr></thead>\n",
       "<tbody>\n",
       "\t<tr><td>closelimit</td><td>20120104  </td><td>  70      </td></tr>\n",
       "\t<tr><td>closelimit</td><td>20120105  </td><td>  60      </td></tr>\n",
       "\t<tr><td>closelimit</td><td>20120106  </td><td> 743      </td></tr>\n",
       "\t<tr><td>closelimit</td><td>20120109  </td><td>2142      </td></tr>\n",
       "\t<tr><td>closelimit</td><td>20120110  </td><td>2125      </td></tr>\n",
       "</tbody>\n",
       "</table>\n"
      ],
      "text/latex": [
       "\\begin{tabular}{r|lll}\n",
       " tag & date & V1\\\\\n",
       "\\hline\n",
       "\t closelimit & 20120104   &   70      \\\\\n",
       "\t closelimit & 20120105   &   60      \\\\\n",
       "\t closelimit & 20120106   &  743      \\\\\n",
       "\t closelimit & 20120109   & 2142      \\\\\n",
       "\t closelimit & 20120110   & 2125      \\\\\n",
       "\\end{tabular}\n"
      ],
      "text/markdown": [
       "\n",
       "| tag | date | V1 |\n",
       "|---|---|---|\n",
       "| closelimit | 20120104   |   70       |\n",
       "| closelimit | 20120105   |   60       |\n",
       "| closelimit | 20120106   |  743       |\n",
       "| closelimit | 20120109   | 2142       |\n",
       "| closelimit | 20120110   | 2125       |\n",
       "\n"
      ],
      "text/plain": [
       "  tag        date     V1  \n",
       "1 closelimit 20120104   70\n",
       "2 closelimit 20120105   60\n",
       "3 closelimit 20120106  743\n",
       "4 closelimit 20120109 2142\n",
       "5 closelimit 20120110 2125"
      ]
     },
     "metadata": {},
     "output_type": "display_data"
    }
   ],
   "source": [
    "data[(close/pre_close - 1) > 0.015 | (open/pre_close - 1) > 0.015, .SD, \n",
    "     by = .(date, symbol, tag = ifelse((close/pre_close - 1) > 0.015, \"closelimit\", \"openlimit\"))\n",
    "    ][, uniqueN(symbol), keyby = .(tag, date)\n",
    "    ][1:5]"
   ]
  },
  {
   "cell_type": "markdown",
   "metadata": {},
   "source": [
    "## 10. 每天统计最近3天出现过开盘涨停的股票各有多少只？"
   ]
  },
  {
   "cell_type": "markdown",
   "metadata": {},
   "source": [
    "为了避免歧义，我们首先定义最近三天如下：如果今天是`t`日，那么最近三天则为`[t-3, t-2, t-1]`这三天。当然读者可以有不同理解，这并不影响解题。\n",
    "\n",
    "这题是`Ex-9`的衍生，且具有一定难度，难点在于我们需要进行滚动计算：当处于`t`日时，我们需要取到`n_openlimit[(t-3):(t-1)]`的值（注意`n_openlimit`在`Ex-9`中已经求得，它表示的是每日开收盘涨停的股票数）。我们使用一个非常巧妙与高效的组内循环来解决它。"
   ]
  },
  {
   "cell_type": "code",
   "execution_count": 13,
   "metadata": {},
   "outputs": [
    {
     "data": {
      "text/html": [
       "<table>\n",
       "<thead><tr><th scope=col>date</th><th scope=col>n_openlimit_3d</th></tr></thead>\n",
       "<tbody>\n",
       "\t<tr><td>20120104</td><td> NA     </td></tr>\n",
       "\t<tr><td>20120105</td><td> NA     </td></tr>\n",
       "\t<tr><td>20120106</td><td> NA     </td></tr>\n",
       "\t<tr><td>20120109</td><td>408     </td></tr>\n",
       "\t<tr><td>20120110</td><td>156     </td></tr>\n",
       "</tbody>\n",
       "</table>\n"
      ],
      "text/latex": [
       "\\begin{tabular}{r|ll}\n",
       " date & n\\_openlimit\\_3d\\\\\n",
       "\\hline\n",
       "\t 20120104 &  NA     \\\\\n",
       "\t 20120105 &  NA     \\\\\n",
       "\t 20120106 &  NA     \\\\\n",
       "\t 20120109 & 408     \\\\\n",
       "\t 20120110 & 156     \\\\\n",
       "\\end{tabular}\n"
      ],
      "text/markdown": [
       "\n",
       "| date | n_openlimit_3d |\n",
       "|---|---|\n",
       "| 20120104 |  NA      |\n",
       "| 20120105 |  NA      |\n",
       "| 20120106 |  NA      |\n",
       "| 20120109 | 408      |\n",
       "| 20120110 | 156      |\n",
       "\n"
      ],
      "text/plain": [
       "  date     n_openlimit_3d\n",
       "1 20120104  NA           \n",
       "2 20120105  NA           \n",
       "3 20120106  NA           \n",
       "4 20120109 408           \n",
       "5 20120110 156           "
      ]
     },
     "metadata": {},
     "output_type": "display_data"
    }
   ],
   "source": [
    "data_ex9 <- data[, ':='(ret_open = open/pre_close - 1, \n",
    "            ret_close = close/pre_close - 1)\n",
    "    ][, .(n_openlimit = sum(ret_open > 0.015),\n",
    "          n_closelimit = sum(ret_close > 0.015)),\n",
    "      keyby = date]\n",
    "\n",
    "data_ex9[, \n",
    "     .(date, \n",
    "       n_openlimit_3d = {\n",
    "           l = vector()\n",
    "           for (t in 4:.N) {\n",
    "               l[t] = sum(n_openlimit[(t-3):(t-1)])\n",
    "           }\n",
    "           l\n",
    "       })\n",
    "    ][1:5]"
   ]
  },
  {
   "cell_type": "markdown",
   "metadata": {},
   "source": [
    "- line 1-9 重复了`Ex-9`的代码，因为我们的计算需要依赖于`Ex-9`的结果\n",
    "- line 8-15 是关键。先不看大括号中的部分，line 8-15的结构是这样的：\n",
    "    ```\n",
    "    .(date, n_openlimit={...})\n",
    "    ```\n",
    "    我们可以看到，这一步的目的是新建两个变量，一个是`date`，它是原数据集就有的，我们直接拿过来；另一个是`n_openlimit_3d`，它是我们在这一步新建的，表示过去三天开盘涨停的股票数。（答案只计算了开盘涨停股票数，但是读者可以自行计算收盘涨停股票数，它们的代码非常相似。）\n",
    "- 我们接着来看`n_openlimit_3d`是如何建立的（大括号中的部分）。首先我们建立一个空的向量（`l = vector()`， line 10），它的每个元素都是`NA`。我们将会**填充**这个空向量`l`，最终让它变成我们的目标向量`n_openlimit_3d`。\n",
    "- line 11-13 是具体的填充过程。因为我们需要向前追溯三天，也就是说，最开头的三天是不会产生有效值的，只有第四天开始才会有值。因此，我们只需要从第四个元素起填充，一直填到最后一个元素，这就是`for (t in 4:.N)`所做的事。其中`.N`是`data.table`自带的特殊变量，表示这个数据集的长度。\n",
    "- line 12 是最关键的一行。首先通过 line 11 的循环，我们得到了一个变量`t`，它表示*当前我们所处的天数*。其次，我们使用`n_openlimit[(t-3):(t-1)]`来获得`[(t-3):(t-1)]`区间的开盘涨停股票数。我们可以看到，`n_openlimit[(t-3):(t-1)]`的结果将是**一个长度为三向量**，每个分量表示某一天的开盘涨停股票数。我们最后使用`sum`对其求和，就得到了过去三天涨停股票的总数。\n",
    "- line 14是为了语法要求而存在的。读者可以把它理解为一个`return`语句：它告诉R，在一系列的操作之后，大括号（line 11-13）最终的输出将会是`l`这个向量。"
   ]
  },
  {
   "cell_type": "markdown",
   "metadata": {},
   "source": [
    "### Key 2 （村长的答案）"
   ]
  },
  {
   "cell_type": "code",
   "execution_count": 27,
   "metadata": {
    "scrolled": true
   },
   "outputs": [
    {
     "data": {
      "text/html": [
       "<table>\n",
       "<thead><tr><th scope=col>tag</th><th scope=col>symbol_amount</th><th scope=col>date</th></tr></thead>\n",
       "<tbody>\n",
       "\t<tr><td>closelimit</td><td>  NA      </td><td>20120104  </td></tr>\n",
       "\t<tr><td>closelimit</td><td>  NA      </td><td>20120105  </td></tr>\n",
       "\t<tr><td>closelimit</td><td>  NA      </td><td>20120106  </td></tr>\n",
       "\t<tr><td>closelimit</td><td> 873      </td><td>20120109  </td></tr>\n",
       "\t<tr><td>closelimit</td><td>2945      </td><td>20120110  </td></tr>\n",
       "</tbody>\n",
       "</table>\n"
      ],
      "text/latex": [
       "\\begin{tabular}{r|lll}\n",
       " tag & symbol\\_amount & date\\\\\n",
       "\\hline\n",
       "\t closelimit &   NA       & 20120104  \\\\\n",
       "\t closelimit &   NA       & 20120105  \\\\\n",
       "\t closelimit &   NA       & 20120106  \\\\\n",
       "\t closelimit &  873       & 20120109  \\\\\n",
       "\t closelimit & 2945       & 20120110  \\\\\n",
       "\\end{tabular}\n"
      ],
      "text/markdown": [
       "\n",
       "| tag | symbol_amount | date |\n",
       "|---|---|---|\n",
       "| closelimit |   NA       | 20120104   |\n",
       "| closelimit |   NA       | 20120105   |\n",
       "| closelimit |   NA       | 20120106   |\n",
       "| closelimit |  873       | 20120109   |\n",
       "| closelimit | 2945       | 20120110   |\n",
       "\n"
      ],
      "text/plain": [
       "  tag        symbol_amount date    \n",
       "1 closelimit   NA          20120104\n",
       "2 closelimit   NA          20120105\n",
       "3 closelimit   NA          20120106\n",
       "4 closelimit  873          20120109\n",
       "5 closelimit 2945          20120110"
      ]
     },
     "metadata": {},
     "output_type": "display_data"
    }
   ],
   "source": [
    "data[(close/pre_close - 1) > 0.015 | (open/pre_close - 1) > 0.015, .SD, by = .(date, symbol, tag = ifelse((close/pre_close - 1) > 0.015, \"closelimit\", \"openlimit\"))\n",
    "    ][, uniqueN(symbol), keyby = .(tag, date)\n",
    "    ][, .(symbol_amount = {\n",
    "        a <- vector()\n",
    "        for (i in 4:.N) {\n",
    "            a[i] <- sum(V1[(i-3):(i-1)])\n",
    "        }\n",
    "        a\n",
    "    }, date), keyby = .(tag)\n",
    "    ][1:5]"
   ]
  },
  {
   "cell_type": "markdown",
   "metadata": {},
   "source": [
    "## 11. 股票每天的成交额变化率和收益率的相关性如何？"
   ]
  },
  {
   "cell_type": "code",
   "execution_count": 35,
   "metadata": {},
   "outputs": [
    {
     "data": {
      "text/html": [
       "0.163331017090952"
      ],
      "text/latex": [
       "0.163331017090952"
      ],
      "text/markdown": [
       "0.163331017090952"
      ],
      "text/plain": [
       "[1] 0.163331"
      ]
     },
     "metadata": {},
     "output_type": "display_data"
    }
   ],
   "source": [
    "data[, .(amount_change = {\n",
    "    a <- vector()\n",
    "    for (i in 2:.N) {\n",
    "        a[i] <- amount[i]/amount[i-1] - 1\n",
    "    }\n",
    "    a\n",
    "    }, ret = close/pre_close - 1, symbol = symbol)\n",
    "    ][is.finite(amount_change), na.omit(.SD)\n",
    "    ][, cor(amount_change, ret)]"
   ]
  },
  {
   "cell_type": "markdown",
   "metadata": {},
   "source": [
    "## 12. 每天每个行业的总成交额变化率和行业收益率的相关性如何？"
   ]
  },
  {
   "cell_type": "code",
   "execution_count": 34,
   "metadata": {},
   "outputs": [
    {
     "data": {
      "text/html": [
       "0.394216465079625"
      ],
      "text/latex": [
       "0.394216465079625"
      ],
      "text/markdown": [
       "0.394216465079625"
      ],
      "text/plain": [
       "[1] 0.3942165"
      ]
     },
     "metadata": {},
     "output_type": "display_data"
    }
   ],
   "source": [
    "data[, .(ind_amount = sum(amount), weight = capt/sum(capt), ret = close/pre_close - 1), keyby = .(date, industry)\n",
    "    ][, .(ind_ret = sum(weight * ret), ind_amount = ind_amount), keyby = .(industry, date)\n",
    "    ][, unique(.SD)\n",
    "    ][, .(ind_amount_change = {\n",
    "        a <- vector()\n",
    "        for (i in 2:.N) {\n",
    "            a[i] <- ind_amount[i]/ind_amount[i-1] - 1\n",
    "        }\n",
    "        a\n",
    "    }, ind_ret = ind_ret), keyby = .(industry)\n",
    "    ][!is.na(ind_amount_change), cor(ind_amount_change, ind_ret)]"
   ]
  },
  {
   "cell_type": "markdown",
   "metadata": {},
   "source": [
    "## 13. 每天市场的总成交额变化率和市场收益率相关性如何？"
   ]
  },
  {
   "cell_type": "code",
   "execution_count": 33,
   "metadata": {},
   "outputs": [
    {
     "data": {
      "text/html": [
       "0.442459215009143"
      ],
      "text/latex": [
       "0.442459215009143"
      ],
      "text/markdown": [
       "0.442459215009143"
      ],
      "text/plain": [
       "[1] 0.4424592"
      ]
     },
     "metadata": {},
     "output_type": "display_data"
    }
   ],
   "source": [
    "data[, .(mkt_amount = sum(amount), weight = capt/sum(capt), ret = close/pre_close - 1), keyby = date\n",
    "    ][, .(mkt_ret = sum(weight * ret), mkt_amount = mkt_amount), keyby = date\n",
    "    ][, unique(.SD)\n",
    "    ][, .(mkt_amount_change = {\n",
    "        a <- vector()\n",
    "        for (i in 2:.N) {\n",
    "            a[i] <- mkt_amount[i]/mkt_amount[i-1]-1\n",
    "        }\n",
    "        a\n",
    "    }, mkt_ret = mkt_ret)\n",
    "    ][!is.na(mkt_amount_change), cor(mkt_amount_change, mkt_ret)]"
   ]
  },
  {
   "cell_type": "markdown",
   "metadata": {},
   "source": [
    "## 14. 每天市场的总成交额的变化率和所有股票收益率的标准差相关性如何？"
   ]
  },
  {
   "cell_type": "code",
   "execution_count": 32,
   "metadata": {},
   "outputs": [
    {
     "data": {
      "text/html": [
       "-0.191389346045384"
      ],
      "text/latex": [
       "-0.191389346045384"
      ],
      "text/markdown": [
       "-0.191389346045384"
      ],
      "text/plain": [
       "[1] -0.1913893"
      ]
     },
     "metadata": {},
     "output_type": "display_data"
    }
   ],
   "source": [
    "data[, .(mkt_amount = sum(amount), ret = close/pre_close - 1, symbol = symbol), keyby = date\n",
    "    ][, .(ret_sd = unique(sd(ret)), mkt_amount = unique(mkt_amount)), keyby = date\n",
    "    ][, .(mkt_amount_change = {\n",
    "        a <- vector()\n",
    "        for (i in 2:.N) {\n",
    "            a[i] <- mkt_amount[i]/mkt_amount[i-1] - 1\n",
    "        }\n",
    "        a\n",
    "    }, ret_sd = ret_sd)\n",
    "    ][!is.na(mkt_amount_change), cor(mkt_amount_change, ret_sd)]"
   ]
  },
  {
   "cell_type": "markdown",
   "metadata": {},
   "source": [
    "## 15. 每天每个行业的总成交额变化率和行业内股票收益率的标准差相关性如何？"
   ]
  },
  {
   "cell_type": "code",
   "execution_count": 36,
   "metadata": {},
   "outputs": [
    {
     "data": {
      "text/html": [
       "0.104345635868357"
      ],
      "text/latex": [
       "0.104345635868357"
      ],
      "text/markdown": [
       "0.104345635868357"
      ],
      "text/plain": [
       "[1] 0.1043456"
      ]
     },
     "metadata": {},
     "output_type": "display_data"
    }
   ],
   "source": [
    "data[, .(ind_amount = sum(amount), ret = close/pre_close - 1, symbol = symbol), keyby = .(industry, date)\n",
    "    ][, .(ind_ret_sd = unique(sd(ret)), ind_amount = unique(ind_amount)), keyby = .(industry, date)\n",
    "    ][, .(ind_amount_change = {\n",
    "        a <- vector()\n",
    "        for (i in 2:.N) {\n",
    "            a[i] <- ind_amount[i]/ind_amount[i-1] - 1\n",
    "        }\n",
    "        a\n",
    "    }, ind_ret_sd = ind_ret_sd), keyby = industry\n",
    "    ][!is.na(ind_amount_change), cor(ind_ret_sd, ind_amount_change)]"
   ]
  },
  {
   "cell_type": "markdown",
   "metadata": {},
   "source": [
    "## 16. 上证50、沪深300、中证500指数成分股中，沪股和深股各有多少？"
   ]
  },
  {
   "cell_type": "code",
   "execution_count": 7,
   "metadata": {
    "scrolled": true
   },
   "outputs": [
    {
     "data": {
      "text/html": [
       "<table>\n",
       "<caption>A data.table: 5 × 3</caption>\n",
       "<thead>\n",
       "\t<tr><th scope=col>index_name</th><th scope=col>type</th><th scope=col>stkcd_amount</th></tr>\n",
       "\t<tr><th scope=col>&lt;fct&gt;</th><th scope=col>&lt;chr&gt;</th><th scope=col>&lt;int&gt;</th></tr>\n",
       "</thead>\n",
       "<tbody>\n",
       "\t<tr><td>index_w50 </td><td>SH</td><td> 54</td></tr>\n",
       "\t<tr><td>index_w300</td><td>SH</td><td>205</td></tr>\n",
       "\t<tr><td>index_w300</td><td>SZ</td><td> 95</td></tr>\n",
       "\t<tr><td>index_w500</td><td>SH</td><td>297</td></tr>\n",
       "\t<tr><td>index_w500</td><td>SZ</td><td>248</td></tr>\n",
       "</tbody>\n",
       "</table>\n"
      ],
      "text/latex": [
       "A data.table: 5 × 3\n",
       "\\begin{tabular}{r|lll}\n",
       " index\\_name & type & stkcd\\_amount\\\\\n",
       " <fct> & <chr> & <int>\\\\\n",
       "\\hline\n",
       "\t index\\_w50  & SH &  54\\\\\n",
       "\t index\\_w300 & SH & 205\\\\\n",
       "\t index\\_w300 & SZ &  95\\\\\n",
       "\t index\\_w500 & SH & 297\\\\\n",
       "\t index\\_w500 & SZ & 248\\\\\n",
       "\\end{tabular}\n"
      ],
      "text/markdown": [
       "\n",
       "A data.table: 5 × 3\n",
       "\n",
       "| index_name &lt;fct&gt; | type &lt;chr&gt; | stkcd_amount &lt;int&gt; |\n",
       "|---|---|---|\n",
       "| index_w50  | SH |  54 |\n",
       "| index_w300 | SH | 205 |\n",
       "| index_w300 | SZ |  95 |\n",
       "| index_w500 | SH | 297 |\n",
       "| index_w500 | SZ | 248 |\n",
       "\n"
      ],
      "text/plain": [
       "  index_name type stkcd_amount\n",
       "1 index_w50  SH    54         \n",
       "2 index_w300 SH   205         \n",
       "3 index_w300 SZ    95         \n",
       "4 index_w500 SH   297         \n",
       "5 index_w500 SZ   248         "
      ]
     },
     "metadata": {},
     "output_type": "display_data"
    }
   ],
   "source": [
    "data[, melt(.SD, measure.vars = patterns(\"index\"), variable.name = \"index_name\")\n",
    "    ][value > 0, .(stkcd_amount = uniqueN(symbol)), by = .(index_name, type = ifelse(str_detect(symbol, \"SH\"), \"SH\", \"SZ\"))]"
   ]
  },
  {
   "cell_type": "markdown",
   "metadata": {},
   "source": [
    "## 17. 上证50、沪深300、中证500指数成分股中，行业分布如何？"
   ]
  },
  {
   "cell_type": "code",
   "execution_count": 11,
   "metadata": {
    "scrolled": true
   },
   "outputs": [
    {
     "data": {
      "text/html": [
       "<table>\n",
       "<caption>A data.table: 5 × 3</caption>\n",
       "<thead>\n",
       "\t<tr><th scope=col>index_name</th><th scope=col>industry</th><th scope=col>stkcd_amount</th></tr>\n",
       "\t<tr><th scope=col>&lt;fct&gt;</th><th scope=col>&lt;chr&gt;</th><th scope=col>&lt;int&gt;</th></tr>\n",
       "</thead>\n",
       "<tbody>\n",
       "\t<tr><td>index_w50</td><td>BANKS   </td><td>11</td></tr>\n",
       "\t<tr><td>index_w50</td><td>MTLMIN  </td><td>10</td></tr>\n",
       "\t<tr><td>index_w50</td><td>ENERGY  </td><td> 7</td></tr>\n",
       "\t<tr><td>index_w50</td><td>DVFININS</td><td> 6</td></tr>\n",
       "\t<tr><td>index_w50</td><td>MACH    </td><td> 4</td></tr>\n",
       "</tbody>\n",
       "</table>\n"
      ],
      "text/latex": [
       "A data.table: 5 × 3\n",
       "\\begin{tabular}{r|lll}\n",
       " index\\_name & industry & stkcd\\_amount\\\\\n",
       " <fct> & <chr> & <int>\\\\\n",
       "\\hline\n",
       "\t index\\_w50 & BANKS    & 11\\\\\n",
       "\t index\\_w50 & MTLMIN   & 10\\\\\n",
       "\t index\\_w50 & ENERGY   &  7\\\\\n",
       "\t index\\_w50 & DVFININS &  6\\\\\n",
       "\t index\\_w50 & MACH     &  4\\\\\n",
       "\\end{tabular}\n"
      ],
      "text/markdown": [
       "\n",
       "A data.table: 5 × 3\n",
       "\n",
       "| index_name &lt;fct&gt; | industry &lt;chr&gt; | stkcd_amount &lt;int&gt; |\n",
       "|---|---|---|\n",
       "| index_w50 | BANKS    | 11 |\n",
       "| index_w50 | MTLMIN   | 10 |\n",
       "| index_w50 | ENERGY   |  7 |\n",
       "| index_w50 | DVFININS |  6 |\n",
       "| index_w50 | MACH     |  4 |\n",
       "\n"
      ],
      "text/plain": [
       "  index_name industry stkcd_amount\n",
       "1 index_w50  BANKS    11          \n",
       "2 index_w50  MTLMIN   10          \n",
       "3 index_w50  ENERGY    7          \n",
       "4 index_w50  DVFININS  6          \n",
       "5 index_w50  MACH      4          "
      ]
     },
     "metadata": {},
     "output_type": "display_data"
    }
   ],
   "source": [
    "data[, melt(.SD, measure.vars = patterns(\"index\"), variable.name = \"index_name\")\n",
    "    ][value > 0, .(stkcd_amount = uniqueN(symbol)), by = .(index_name, industry)\n",
    "    ][1:5]"
   ]
  },
  {
   "cell_type": "markdown",
   "metadata": {},
   "source": [
    "## 18. 每天上证50、沪深300、中证500指数成分股的总成交额各是多少？"
   ]
  },
  {
   "cell_type": "code",
   "execution_count": 14,
   "metadata": {
    "scrolled": true
   },
   "outputs": [
    {
     "data": {
      "text/html": [
       "<table>\n",
       "<caption>A data.table: 5 × 3</caption>\n",
       "<thead>\n",
       "\t<tr><th scope=col>index_name</th><th scope=col>date</th><th scope=col>amount</th></tr>\n",
       "\t<tr><th scope=col>&lt;fct&gt;</th><th scope=col>&lt;int&gt;</th><th scope=col>&lt;dbl&gt;</th></tr>\n",
       "</thead>\n",
       "<tbody>\n",
       "\t<tr><td>index_w50</td><td>20120104</td><td>11372037211</td></tr>\n",
       "\t<tr><td>index_w50</td><td>20120105</td><td>15174601949</td></tr>\n",
       "\t<tr><td>index_w50</td><td>20120106</td><td>11457969686</td></tr>\n",
       "\t<tr><td>index_w50</td><td>20120109</td><td>19783087939</td></tr>\n",
       "\t<tr><td>index_w50</td><td>20120110</td><td>25840613156</td></tr>\n",
       "</tbody>\n",
       "</table>\n"
      ],
      "text/latex": [
       "A data.table: 5 × 3\n",
       "\\begin{tabular}{r|lll}\n",
       " index\\_name & date & amount\\\\\n",
       " <fct> & <int> & <dbl>\\\\\n",
       "\\hline\n",
       "\t index\\_w50 & 20120104 & 11372037211\\\\\n",
       "\t index\\_w50 & 20120105 & 15174601949\\\\\n",
       "\t index\\_w50 & 20120106 & 11457969686\\\\\n",
       "\t index\\_w50 & 20120109 & 19783087939\\\\\n",
       "\t index\\_w50 & 20120110 & 25840613156\\\\\n",
       "\\end{tabular}\n"
      ],
      "text/markdown": [
       "\n",
       "A data.table: 5 × 3\n",
       "\n",
       "| index_name &lt;fct&gt; | date &lt;int&gt; | amount &lt;dbl&gt; |\n",
       "|---|---|---|\n",
       "| index_w50 | 20120104 | 11372037211 |\n",
       "| index_w50 | 20120105 | 15174601949 |\n",
       "| index_w50 | 20120106 | 11457969686 |\n",
       "| index_w50 | 20120109 | 19783087939 |\n",
       "| index_w50 | 20120110 | 25840613156 |\n",
       "\n"
      ],
      "text/plain": [
       "  index_name date     amount     \n",
       "1 index_w50  20120104 11372037211\n",
       "2 index_w50  20120105 15174601949\n",
       "3 index_w50  20120106 11457969686\n",
       "4 index_w50  20120109 19783087939\n",
       "5 index_w50  20120110 25840613156"
      ]
     },
     "metadata": {},
     "output_type": "display_data"
    }
   ],
   "source": [
    "data[, melt(.SD, measure.vars = patterns(\"index\"), variable.name = \"index_name\")\n",
    "    ][value > 0, .(amount = sum(amount)), by = .(index_name, date)\n",
    "    ][1:5]"
   ]
  },
  {
   "cell_type": "markdown",
   "metadata": {},
   "source": [
    "## 19. 上证50、沪深300、中证500指数日收益率的历史波动率是多少？"
   ]
  },
  {
   "cell_type": "code",
   "execution_count": 18,
   "metadata": {
    "scrolled": true
   },
   "outputs": [
    {
     "data": {
      "text/html": [
       "<table>\n",
       "<caption>A data.table: 3 × 2</caption>\n",
       "<thead>\n",
       "\t<tr><th scope=col>index_name</th><th scope=col>vol</th></tr>\n",
       "\t<tr><th scope=col>&lt;fct&gt;</th><th scope=col>&lt;dbl&gt;</th></tr>\n",
       "</thead>\n",
       "<tbody>\n",
       "\t<tr><td>index_w50 </td><td>0.01234205</td></tr>\n",
       "\t<tr><td>index_w300</td><td>0.01336797</td></tr>\n",
       "\t<tr><td>index_w500</td><td>0.01607531</td></tr>\n",
       "</tbody>\n",
       "</table>\n"
      ],
      "text/latex": [
       "A data.table: 3 × 2\n",
       "\\begin{tabular}{r|ll}\n",
       " index\\_name & vol\\\\\n",
       " <fct> & <dbl>\\\\\n",
       "\\hline\n",
       "\t index\\_w50  & 0.01234205\\\\\n",
       "\t index\\_w300 & 0.01336797\\\\\n",
       "\t index\\_w500 & 0.01607531\\\\\n",
       "\\end{tabular}\n"
      ],
      "text/markdown": [
       "\n",
       "A data.table: 3 × 2\n",
       "\n",
       "| index_name &lt;fct&gt; | vol &lt;dbl&gt; |\n",
       "|---|---|\n",
       "| index_w50  | 0.01234205 |\n",
       "| index_w300 | 0.01336797 |\n",
       "| index_w500 | 0.01607531 |\n",
       "\n"
      ],
      "text/plain": [
       "  index_name vol       \n",
       "1 index_w50  0.01234205\n",
       "2 index_w300 0.01336797\n",
       "3 index_w500 0.01607531"
      ]
     },
     "metadata": {},
     "output_type": "display_data"
    }
   ],
   "source": [
    "data[, melt(.SD, measure.vars = patterns(\"index\"), variable.name = \"index_name\")\n",
    "    ][, .(index_ret = sum(value * (close/pre_close - 1))), by = .(date, index_name)\n",
    "    ][, .(vol = sd(index_ret)), by = .(index_name)]"
   ]
  },
  {
   "cell_type": "markdown",
   "metadata": {},
   "source": [
    "## 20. 上证50、沪深300、中证500指数日收益率的相关系数矩阵？"
   ]
  },
  {
   "cell_type": "code",
   "execution_count": 42,
   "metadata": {
    "scrolled": true
   },
   "outputs": [
    {
     "data": {
      "text/html": [
       "<table>\n",
       "<thead><tr><th></th><th scope=col>index_w50_ret</th><th scope=col>index_w300_ret</th><th scope=col>index_w500_ret</th></tr></thead>\n",
       "<tbody>\n",
       "\t<tr><th scope=row>index_w50_ret</th><td>1.0000000</td><td>0.9760849</td><td>0.8476975</td></tr>\n",
       "\t<tr><th scope=row>index_w300_ret</th><td>0.9760849</td><td>1.0000000</td><td>0.9333580</td></tr>\n",
       "\t<tr><th scope=row>index_w500_ret</th><td>0.8476975</td><td>0.9333580</td><td>1.0000000</td></tr>\n",
       "</tbody>\n",
       "</table>\n"
      ],
      "text/latex": [
       "\\begin{tabular}{r|lll}\n",
       "  & index\\_w50\\_ret & index\\_w300\\_ret & index\\_w500\\_ret\\\\\n",
       "\\hline\n",
       "\tindex\\_w50\\_ret & 1.0000000 & 0.9760849 & 0.8476975\\\\\n",
       "\tindex\\_w300\\_ret & 0.9760849 & 1.0000000 & 0.9333580\\\\\n",
       "\tindex\\_w500\\_ret & 0.8476975 & 0.9333580 & 1.0000000\\\\\n",
       "\\end{tabular}\n"
      ],
      "text/markdown": [
       "\n",
       "| <!--/--> | index_w50_ret | index_w300_ret | index_w500_ret |\n",
       "|---|---|---|---|\n",
       "| index_w50_ret | 1.0000000 | 0.9760849 | 0.8476975 |\n",
       "| index_w300_ret | 0.9760849 | 1.0000000 | 0.9333580 |\n",
       "| index_w500_ret | 0.8476975 | 0.9333580 | 1.0000000 |\n",
       "\n"
      ],
      "text/plain": [
       "               index_w50_ret index_w300_ret index_w500_ret\n",
       "index_w50_ret  1.0000000     0.9760849      0.8476975     \n",
       "index_w300_ret 0.9760849     1.0000000      0.9333580     \n",
       "index_w500_ret 0.8476975     0.9333580      1.0000000     "
      ]
     },
     "metadata": {},
     "output_type": "display_data"
    }
   ],
   "source": [
    "data[, .(index_w50_ret = sum(index_w50 * (close/pre_close - 1)), index_w300_ret = sum(index_w300 * (close/pre_close - 1)), index_w500_ret = sum(index_w500 * (close/pre_close - 1))), keyby = date\n",
    "    ][, cor(.SD[, -1])]"
   ]
  },
  {
   "cell_type": "markdown",
   "metadata": {},
   "source": [
    "## 21. 上证50、沪深300、去除上证50的沪深300指数日收益率的相关系数矩阵？"
   ]
  },
  {
   "cell_type": "code",
   "execution_count": 32,
   "metadata": {
    "scrolled": true
   },
   "outputs": [
    {
     "data": {
      "text/html": [
       "<table>\n",
       "<caption>A matrix: 3 × 3 of type dbl</caption>\n",
       "<thead>\n",
       "\t<tr><th></th><th scope=col>index_w50_ret</th><th scope=col>index_w300_ret</th><th scope=col>index_w300_50_ret</th></tr>\n",
       "</thead>\n",
       "<tbody>\n",
       "\t<tr><th scope=row>index_w50_ret</th><td>1.0000000</td><td>0.9760849</td><td>0.9294381</td></tr>\n",
       "\t<tr><th scope=row>index_w300_ret</th><td>0.9760849</td><td>1.0000000</td><td>0.9874054</td></tr>\n",
       "\t<tr><th scope=row>index_w300_50_ret</th><td>0.9294381</td><td>0.9874054</td><td>1.0000000</td></tr>\n",
       "</tbody>\n",
       "</table>\n"
      ],
      "text/latex": [
       "A matrix: 3 × 3 of type dbl\n",
       "\\begin{tabular}{r|lll}\n",
       "  & index\\_w50\\_ret & index\\_w300\\_ret & index\\_w300\\_50\\_ret\\\\\n",
       "\\hline\n",
       "\tindex\\_w50\\_ret & 1.0000000 & 0.9760849 & 0.9294381\\\\\n",
       "\tindex\\_w300\\_ret & 0.9760849 & 1.0000000 & 0.9874054\\\\\n",
       "\tindex\\_w300\\_50\\_ret & 0.9294381 & 0.9874054 & 1.0000000\\\\\n",
       "\\end{tabular}\n"
      ],
      "text/markdown": [
       "\n",
       "A matrix: 3 × 3 of type dbl\n",
       "\n",
       "| <!--/--> | index_w50_ret | index_w300_ret | index_w300_50_ret |\n",
       "|---|---|---|---|\n",
       "| index_w50_ret | 1.0000000 | 0.9760849 | 0.9294381 |\n",
       "| index_w300_ret | 0.9760849 | 1.0000000 | 0.9874054 |\n",
       "| index_w300_50_ret | 0.9294381 | 0.9874054 | 1.0000000 |\n",
       "\n"
      ],
      "text/plain": [
       "                  index_w50_ret index_w300_ret index_w300_50_ret\n",
       "index_w50_ret     1.0000000     0.9760849      0.9294381        \n",
       "index_w300_ret    0.9760849     1.0000000      0.9874054        \n",
       "index_w300_50_ret 0.9294381     0.9874054      1.0000000        "
      ]
     },
     "metadata": {},
     "output_type": "display_data"
    }
   ],
   "source": [
    "data[, .(index_w50_ret = sum(index_w50 * (close/pre_close - 1)), index_w300_ret = sum(index_w300 * (close/pre_close - 1)), index_w300_50 = ifelse(index_w50 == 0 & index_w300 > 0, index_w300, 0), close = close, pre_close = pre_close), keyby = date       ][, .(index_w50_ret = unique(index_w50_ret), index_w300_ret = unique(index_w300_ret), index_w300_50_ret = sum(index_w300_50 * (close/pre_close - 1)) %>% unique()), keyby = date\n",
    "    ][, cor(.SD[, -1])]"
   ]
  },
  {
   "cell_type": "markdown",
   "metadata": {},
   "source": [
    "## 22. 每天沪深300指数成分占比最大的10只股票是哪些？"
   ]
  },
  {
   "cell_type": "code",
   "execution_count": 43,
   "metadata": {
    "scrolled": true
   },
   "outputs": [
    {
     "data": {
      "text/html": [
       "<table>\n",
       "<thead><tr><th scope=col>date</th><th scope=col>symbol</th></tr></thead>\n",
       "<tbody>\n",
       "\t<tr><td>20120104 </td><td>600004.SH</td></tr>\n",
       "\t<tr><td>20120104 </td><td>600006.SH</td></tr>\n",
       "\t<tr><td>20120104 </td><td>600007.SH</td></tr>\n",
       "\t<tr><td>20120104 </td><td>600011.SH</td></tr>\n",
       "\t<tr><td>20120104 </td><td>600012.SH</td></tr>\n",
       "</tbody>\n",
       "</table>\n"
      ],
      "text/latex": [
       "\\begin{tabular}{r|ll}\n",
       " date & symbol\\\\\n",
       "\\hline\n",
       "\t 20120104  & 600004.SH\\\\\n",
       "\t 20120104  & 600006.SH\\\\\n",
       "\t 20120104  & 600007.SH\\\\\n",
       "\t 20120104  & 600011.SH\\\\\n",
       "\t 20120104  & 600012.SH\\\\\n",
       "\\end{tabular}\n"
      ],
      "text/markdown": [
       "\n",
       "| date | symbol |\n",
       "|---|---|\n",
       "| 20120104  | 600004.SH |\n",
       "| 20120104  | 600006.SH |\n",
       "| 20120104  | 600007.SH |\n",
       "| 20120104  | 600011.SH |\n",
       "| 20120104  | 600012.SH |\n",
       "\n"
      ],
      "text/plain": [
       "  date     symbol   \n",
       "1 20120104 600004.SH\n",
       "2 20120104 600006.SH\n",
       "3 20120104 600007.SH\n",
       "4 20120104 600011.SH\n",
       "5 20120104 600012.SH"
      ]
     },
     "metadata": {},
     "output_type": "display_data"
    }
   ],
   "source": [
    "data[order(date, index_w300), .(symbol = symbol[1:10]), by = .(date)\n",
    "    ][1:5]"
   ]
  },
  {
   "cell_type": "markdown",
   "metadata": {},
   "source": [
    "## 23. 各个行业的平均每日股票数量从大到小排序是什么？"
   ]
  },
  {
   "cell_type": "code",
   "execution_count": 44,
   "metadata": {
    "scrolled": true
   },
   "outputs": [
    {
     "data": {
      "text/html": [
       "<table>\n",
       "<thead><tr><th scope=col>date</th><th scope=col>industry</th><th scope=col>stkcd_amount</th></tr></thead>\n",
       "<tbody>\n",
       "\t<tr><td>20120104</td><td>HDWRSEMI</td><td>224     </td></tr>\n",
       "\t<tr><td>20120104</td><td>CHEM    </td><td>219     </td></tr>\n",
       "\t<tr><td>20120104</td><td>MACH    </td><td>201     </td></tr>\n",
       "\t<tr><td>20120104</td><td>HEALTH  </td><td>172     </td></tr>\n",
       "\t<tr><td>20120104</td><td>ELECEQP </td><td>131     </td></tr>\n",
       "</tbody>\n",
       "</table>\n"
      ],
      "text/latex": [
       "\\begin{tabular}{r|lll}\n",
       " date & industry & stkcd\\_amount\\\\\n",
       "\\hline\n",
       "\t 20120104 & HDWRSEMI & 224     \\\\\n",
       "\t 20120104 & CHEM     & 219     \\\\\n",
       "\t 20120104 & MACH     & 201     \\\\\n",
       "\t 20120104 & HEALTH   & 172     \\\\\n",
       "\t 20120104 & ELECEQP  & 131     \\\\\n",
       "\\end{tabular}\n"
      ],
      "text/markdown": [
       "\n",
       "| date | industry | stkcd_amount |\n",
       "|---|---|---|\n",
       "| 20120104 | HDWRSEMI | 224      |\n",
       "| 20120104 | CHEM     | 219      |\n",
       "| 20120104 | MACH     | 201      |\n",
       "| 20120104 | HEALTH   | 172      |\n",
       "| 20120104 | ELECEQP  | 131      |\n",
       "\n"
      ],
      "text/plain": [
       "  date     industry stkcd_amount\n",
       "1 20120104 HDWRSEMI 224         \n",
       "2 20120104 CHEM     219         \n",
       "3 20120104 MACH     201         \n",
       "4 20120104 HEALTH   172         \n",
       "5 20120104 ELECEQP  131         "
      ]
     },
     "metadata": {},
     "output_type": "display_data"
    }
   ],
   "source": [
    "data[, .(stkcd_amount = uniqueN(symbol)), keyby = .(date, industry)\n",
    "    ][order(date, -stkcd_amount)\n",
    "    ][1:5]"
   ]
  },
  {
   "cell_type": "markdown",
   "metadata": {},
   "source": [
    "## 24. 每个行业每天成交额最大的一只股票代码是什么？"
   ]
  },
  {
   "cell_type": "code",
   "execution_count": 45,
   "metadata": {
    "scrolled": true
   },
   "outputs": [
    {
     "data": {
      "text/html": [
       "<table>\n",
       "<thead><tr><th scope=col>date</th><th scope=col>industry</th><th scope=col>symbol</th></tr></thead>\n",
       "<tbody>\n",
       "\t<tr><td>20120104 </td><td>AERODEF  </td><td>000768.SZ</td></tr>\n",
       "\t<tr><td>20120104 </td><td>AIRLINE  </td><td>600029.SH</td></tr>\n",
       "\t<tr><td>20120104 </td><td>AUTO     </td><td>600104.SH</td></tr>\n",
       "\t<tr><td>20120104 </td><td>BANKS    </td><td>600036.SH</td></tr>\n",
       "\t<tr><td>20120104 </td><td>BEV      </td><td>600519.SH</td></tr>\n",
       "</tbody>\n",
       "</table>\n"
      ],
      "text/latex": [
       "\\begin{tabular}{r|lll}\n",
       " date & industry & symbol\\\\\n",
       "\\hline\n",
       "\t 20120104  & AERODEF   & 000768.SZ\\\\\n",
       "\t 20120104  & AIRLINE   & 600029.SH\\\\\n",
       "\t 20120104  & AUTO      & 600104.SH\\\\\n",
       "\t 20120104  & BANKS     & 600036.SH\\\\\n",
       "\t 20120104  & BEV       & 600519.SH\\\\\n",
       "\\end{tabular}\n"
      ],
      "text/markdown": [
       "\n",
       "| date | industry | symbol |\n",
       "|---|---|---|\n",
       "| 20120104  | AERODEF   | 000768.SZ |\n",
       "| 20120104  | AIRLINE   | 600029.SH |\n",
       "| 20120104  | AUTO      | 600104.SH |\n",
       "| 20120104  | BANKS     | 600036.SH |\n",
       "| 20120104  | BEV       | 600519.SH |\n",
       "\n"
      ],
      "text/plain": [
       "  date     industry symbol   \n",
       "1 20120104 AERODEF  000768.SZ\n",
       "2 20120104 AIRLINE  600029.SH\n",
       "3 20120104 AUTO     600104.SH\n",
       "4 20120104 BANKS    600036.SH\n",
       "5 20120104 BEV      600519.SH"
      ]
     },
     "metadata": {},
     "output_type": "display_data"
    }
   ],
   "source": [
    "data[order(-amount), .(symbol = symbol[1]), keyby = .(date, industry)\n",
    "    ][1:5]"
   ]
  },
  {
   "cell_type": "markdown",
   "metadata": {},
   "source": [
    "## 25. 每个行业每天最大成交额是最小成交额的几倍？"
   ]
  },
  {
   "cell_type": "code",
   "execution_count": 46,
   "metadata": {
    "scrolled": true
   },
   "outputs": [
    {
     "data": {
      "text/html": [
       "<table>\n",
       "<thead><tr><th scope=col>date</th><th scope=col>industry</th><th scope=col>times</th></tr></thead>\n",
       "<tbody>\n",
       "\t<tr><td>20120104  </td><td>AERODEF   </td><td> 1.6822610</td></tr>\n",
       "\t<tr><td>20120104  </td><td>AIRLINE   </td><td>17.0340980</td></tr>\n",
       "\t<tr><td>20120104  </td><td>AUTO      </td><td> 0.3134478</td></tr>\n",
       "\t<tr><td>20120104  </td><td>BANKS     </td><td> 4.5180305</td></tr>\n",
       "\t<tr><td>20120104  </td><td>BEV       </td><td> 0.2922401</td></tr>\n",
       "</tbody>\n",
       "</table>\n"
      ],
      "text/latex": [
       "\\begin{tabular}{r|lll}\n",
       " date & industry & times\\\\\n",
       "\\hline\n",
       "\t 20120104   & AERODEF    &  1.6822610\\\\\n",
       "\t 20120104   & AIRLINE    & 17.0340980\\\\\n",
       "\t 20120104   & AUTO       &  0.3134478\\\\\n",
       "\t 20120104   & BANKS      &  4.5180305\\\\\n",
       "\t 20120104   & BEV        &  0.2922401\\\\\n",
       "\\end{tabular}\n"
      ],
      "text/markdown": [
       "\n",
       "| date | industry | times |\n",
       "|---|---|---|\n",
       "| 20120104   | AERODEF    |  1.6822610 |\n",
       "| 20120104   | AIRLINE    | 17.0340980 |\n",
       "| 20120104   | AUTO       |  0.3134478 |\n",
       "| 20120104   | BANKS      |  4.5180305 |\n",
       "| 20120104   | BEV        |  0.2922401 |\n",
       "\n"
      ],
      "text/plain": [
       "  date     industry times     \n",
       "1 20120104 AERODEF   1.6822610\n",
       "2 20120104 AIRLINE  17.0340980\n",
       "3 20120104 AUTO      0.3134478\n",
       "4 20120104 BANKS     4.5180305\n",
       "5 20120104 BEV       0.2922401"
      ]
     },
     "metadata": {},
     "output_type": "display_data"
    }
   ],
   "source": [
    "data[order(-amount) & amount > 0, .(times = amount[1]/amount[.N]), \n",
    "     keyby = .(date, industry)\n",
    "    ][1:5]"
   ]
  },
  {
   "cell_type": "markdown",
   "metadata": {},
   "source": [
    "## 26. 每个行业每天成交额最大的5只股票和成交额总和是多少？"
   ]
  },
  {
   "cell_type": "code",
   "execution_count": 47,
   "metadata": {
    "scrolled": true
   },
   "outputs": [
    {
     "data": {
      "text/html": [
       "<table>\n",
       "<thead><tr><th scope=col>date</th><th scope=col>industry</th><th scope=col>symbol</th><th scope=col>amount</th></tr></thead>\n",
       "<tbody>\n",
       "\t<tr><td>20120104 </td><td>AERODEF  </td><td>000768.SZ</td><td>384758246</td></tr>\n",
       "\t<tr><td>20120104 </td><td>AERODEF  </td><td>600316.SH</td><td>384758246</td></tr>\n",
       "\t<tr><td>20120104 </td><td>AERODEF  </td><td>002025.SZ</td><td>384758246</td></tr>\n",
       "\t<tr><td>20120104 </td><td>AERODEF  </td><td>600893.SH</td><td>384758246</td></tr>\n",
       "\t<tr><td>20120104 </td><td>AERODEF  </td><td>600118.SH</td><td>384758246</td></tr>\n",
       "</tbody>\n",
       "</table>\n"
      ],
      "text/latex": [
       "\\begin{tabular}{r|llll}\n",
       " date & industry & symbol & amount\\\\\n",
       "\\hline\n",
       "\t 20120104  & AERODEF   & 000768.SZ & 384758246\\\\\n",
       "\t 20120104  & AERODEF   & 600316.SH & 384758246\\\\\n",
       "\t 20120104  & AERODEF   & 002025.SZ & 384758246\\\\\n",
       "\t 20120104  & AERODEF   & 600893.SH & 384758246\\\\\n",
       "\t 20120104  & AERODEF   & 600118.SH & 384758246\\\\\n",
       "\\end{tabular}\n"
      ],
      "text/markdown": [
       "\n",
       "| date | industry | symbol | amount |\n",
       "|---|---|---|---|\n",
       "| 20120104  | AERODEF   | 000768.SZ | 384758246 |\n",
       "| 20120104  | AERODEF   | 600316.SH | 384758246 |\n",
       "| 20120104  | AERODEF   | 002025.SZ | 384758246 |\n",
       "| 20120104  | AERODEF   | 600893.SH | 384758246 |\n",
       "| 20120104  | AERODEF   | 600118.SH | 384758246 |\n",
       "\n"
      ],
      "text/plain": [
       "  date     industry symbol    amount   \n",
       "1 20120104 AERODEF  000768.SZ 384758246\n",
       "2 20120104 AERODEF  600316.SH 384758246\n",
       "3 20120104 AERODEF  002025.SZ 384758246\n",
       "4 20120104 AERODEF  600893.SH 384758246\n",
       "5 20120104 AERODEF  600118.SH 384758246"
      ]
     },
     "metadata": {},
     "output_type": "display_data"
    }
   ],
   "source": [
    "data[order(-amount), .(symbol = symbol[1:5], amount = sum(amount[1:5])),\n",
    "     keyby = .(date, industry)\n",
    "    ][1:5]"
   ]
  },
  {
   "cell_type": "markdown",
   "metadata": {},
   "source": [
    "## 27. 每个行业每天成交额超过该行业中股票成交额80%分位数的股票的平均收益率是多少？"
   ]
  },
  {
   "cell_type": "code",
   "execution_count": 48,
   "metadata": {
    "scrolled": true
   },
   "outputs": [
    {
     "data": {
      "text/html": [
       "<table>\n",
       "<thead><tr><th scope=col>date</th><th scope=col>industry</th><th scope=col>aver_ret</th></tr></thead>\n",
       "<tbody>\n",
       "\t<tr><td>20120104    </td><td>AERODEF     </td><td> 0.005714392</td></tr>\n",
       "\t<tr><td>20120104    </td><td>AIRLINE     </td><td>-0.024726379</td></tr>\n",
       "\t<tr><td>20120104    </td><td>AUTO        </td><td>-0.017813417</td></tr>\n",
       "\t<tr><td>20120104    </td><td>BANKS       </td><td>-0.007846674</td></tr>\n",
       "\t<tr><td>20120104    </td><td>BEV         </td><td>-0.056254460</td></tr>\n",
       "</tbody>\n",
       "</table>\n"
      ],
      "text/latex": [
       "\\begin{tabular}{r|lll}\n",
       " date & industry & aver\\_ret\\\\\n",
       "\\hline\n",
       "\t 20120104     & AERODEF      &  0.005714392\\\\\n",
       "\t 20120104     & AIRLINE      & -0.024726379\\\\\n",
       "\t 20120104     & AUTO         & -0.017813417\\\\\n",
       "\t 20120104     & BANKS        & -0.007846674\\\\\n",
       "\t 20120104     & BEV          & -0.056254460\\\\\n",
       "\\end{tabular}\n"
      ],
      "text/markdown": [
       "\n",
       "| date | industry | aver_ret |\n",
       "|---|---|---|\n",
       "| 20120104     | AERODEF      |  0.005714392 |\n",
       "| 20120104     | AIRLINE      | -0.024726379 |\n",
       "| 20120104     | AUTO         | -0.017813417 |\n",
       "| 20120104     | BANKS        | -0.007846674 |\n",
       "| 20120104     | BEV          | -0.056254460 |\n",
       "\n"
      ],
      "text/plain": [
       "  date     industry aver_ret    \n",
       "1 20120104 AERODEF   0.005714392\n",
       "2 20120104 AIRLINE  -0.024726379\n",
       "3 20120104 AUTO     -0.017813417\n",
       "4 20120104 BANKS    -0.007846674\n",
       "5 20120104 BEV      -0.056254460"
      ]
     },
     "metadata": {},
     "output_type": "display_data"
    }
   ],
   "source": [
    "data[, .(symbol = symbol, ret = close/pre_close - 1, amount = amount, industry, date)\n",
    "    ][, .SD[amount > quantile(amount, 0.8)], keyby = .(date, industry)\n",
    "    ][, .(aver_ret = mean(ret)), keyby = .(date, industry)\n",
    "    ][1:5]"
   ]
  },
  {
   "cell_type": "markdown",
   "metadata": {},
   "source": [
    "## 28. 每天成交额最大的10%的股票的平均收益率和成交额最小的10%的股票的平均收益率的相关系数是多少？"
   ]
  },
  {
   "cell_type": "code",
   "execution_count": 49,
   "metadata": {
    "scrolled": true
   },
   "outputs": [
    {
     "data": {
      "text/html": [
       "<table>\n",
       "<thead><tr><th scope=col>date</th><th scope=col>tag</th><th scope=col>ret_aver</th></tr></thead>\n",
       "<tbody>\n",
       "\t<tr><td>20120104    </td><td>max10%      </td><td>-0.018105729</td></tr>\n",
       "\t<tr><td>20120104    </td><td>min10%      </td><td>-0.017907674</td></tr>\n",
       "\t<tr><td>20120105    </td><td>max10%      </td><td>-0.021758776</td></tr>\n",
       "\t<tr><td>20120105    </td><td>min10%      </td><td>-0.030488091</td></tr>\n",
       "\t<tr><td>20120106    </td><td>max10%      </td><td> 0.005994575</td></tr>\n",
       "</tbody>\n",
       "</table>\n"
      ],
      "text/latex": [
       "\\begin{tabular}{r|lll}\n",
       " date & tag & ret\\_aver\\\\\n",
       "\\hline\n",
       "\t 20120104     & max10\\%     & -0.018105729\\\\\n",
       "\t 20120104     & min10\\%     & -0.017907674\\\\\n",
       "\t 20120105     & max10\\%     & -0.021758776\\\\\n",
       "\t 20120105     & min10\\%     & -0.030488091\\\\\n",
       "\t 20120106     & max10\\%     &  0.005994575\\\\\n",
       "\\end{tabular}\n"
      ],
      "text/markdown": [
       "\n",
       "| date | tag | ret_aver |\n",
       "|---|---|---|\n",
       "| 20120104     | max10%       | -0.018105729 |\n",
       "| 20120104     | min10%       | -0.017907674 |\n",
       "| 20120105     | max10%       | -0.021758776 |\n",
       "| 20120105     | min10%       | -0.030488091 |\n",
       "| 20120106     | max10%       |  0.005994575 |\n",
       "\n"
      ],
      "text/plain": [
       "  date     tag    ret_aver    \n",
       "1 20120104 max10% -0.018105729\n",
       "2 20120104 min10% -0.017907674\n",
       "3 20120105 max10% -0.021758776\n",
       "4 20120105 min10% -0.030488091\n",
       "5 20120106 max10%  0.005994575"
      ]
     },
     "metadata": {},
     "output_type": "display_data"
    }
   ],
   "source": [
    "data[, .(symbol = symbol, ret = close/pre_close - 1, amount = amount, date)\n",
    "    ][, .(ret_aver = mean(ret)), keyby = .(date, tag = ifelse(amount > quantile(amount, 0.9), \"max10%\"，ifelse(amount < quantile(amount, 0.1), \"min10%\", \"others\")))\n",
    "    ][, .SD[-3], keyby = .(date)\n",
    "    ][1:5]"
   ]
  },
  {
   "cell_type": "markdown",
   "metadata": {},
   "source": [
    "## 29. 每天哪些行业的平均成交额高于全市场平均成交额？"
   ]
  },
  {
   "cell_type": "code",
   "execution_count": 50,
   "metadata": {
    "scrolled": true
   },
   "outputs": [
    {
     "data": {
      "text/html": [
       "<table>\n",
       "<thead><tr><th scope=col>date</th><th scope=col>industry</th></tr></thead>\n",
       "<tbody>\n",
       "\t<tr><td>20120104</td><td>AERODEF </td></tr>\n",
       "\t<tr><td>20120104</td><td>BANKS   </td></tr>\n",
       "\t<tr><td>20120104</td><td>BEV     </td></tr>\n",
       "\t<tr><td>20120104</td><td>CONMAT  </td></tr>\n",
       "\t<tr><td>20120104</td><td>DVFININS</td></tr>\n",
       "</tbody>\n",
       "</table>\n"
      ],
      "text/latex": [
       "\\begin{tabular}{r|ll}\n",
       " date & industry\\\\\n",
       "\\hline\n",
       "\t 20120104 & AERODEF \\\\\n",
       "\t 20120104 & BANKS   \\\\\n",
       "\t 20120104 & BEV     \\\\\n",
       "\t 20120104 & CONMAT  \\\\\n",
       "\t 20120104 & DVFININS\\\\\n",
       "\\end{tabular}\n"
      ],
      "text/markdown": [
       "\n",
       "| date | industry |\n",
       "|---|---|\n",
       "| 20120104 | AERODEF  |\n",
       "| 20120104 | BANKS    |\n",
       "| 20120104 | BEV      |\n",
       "| 20120104 | CONMAT   |\n",
       "| 20120104 | DVFININS |\n",
       "\n"
      ],
      "text/plain": [
       "  date     industry\n",
       "1 20120104 AERODEF \n",
       "2 20120104 BANKS   \n",
       "3 20120104 BEV     \n",
       "4 20120104 CONMAT  \n",
       "5 20120104 DVFININS"
      ]
     },
     "metadata": {},
     "output_type": "display_data"
    }
   ],
   "source": [
    "data[, .(amount_aver = mean(amount), industry = industry, amount = amount), keyby = .(date)\n",
    "    ][, .(amount_ind_aver = mean(amount), amount_aver), keyby = .(date, industry)\n",
    "    ][amount_ind_aver > amount_aver, unique(.SD[, 1:2])\n",
    "    ][1:5]"
   ]
  },
  {
   "cell_type": "markdown",
   "metadata": {},
   "source": [
    "## 30. 每天每个股票对市场的超额收益率是多少？"
   ]
  },
  {
   "cell_type": "code",
   "execution_count": 51,
   "metadata": {
    "scrolled": true
   },
   "outputs": [
    {
     "data": {
      "text/html": [
       "<table>\n",
       "<thead><tr><th scope=col>date</th><th scope=col>symbol</th><th scope=col>abnr_ret</th></tr></thead>\n",
       "<tbody>\n",
       "\t<tr><td>20120104    </td><td>000001.SZ   </td><td>-0.007575707</td></tr>\n",
       "\t<tr><td>20120104    </td><td>000002.SZ   </td><td> 0.001264443</td></tr>\n",
       "\t<tr><td>20120104    </td><td>000004.SZ   </td><td>-0.002243615</td></tr>\n",
       "\t<tr><td>20120104    </td><td>000005.SZ   </td><td> 0.020006076</td></tr>\n",
       "\t<tr><td>20120104    </td><td>000006.SZ   </td><td> 0.010249978</td></tr>\n",
       "</tbody>\n",
       "</table>\n"
      ],
      "text/latex": [
       "\\begin{tabular}{r|lll}\n",
       " date & symbol & abnr\\_ret\\\\\n",
       "\\hline\n",
       "\t 20120104     & 000001.SZ    & -0.007575707\\\\\n",
       "\t 20120104     & 000002.SZ    &  0.001264443\\\\\n",
       "\t 20120104     & 000004.SZ    & -0.002243615\\\\\n",
       "\t 20120104     & 000005.SZ    &  0.020006076\\\\\n",
       "\t 20120104     & 000006.SZ    &  0.010249978\\\\\n",
       "\\end{tabular}\n"
      ],
      "text/markdown": [
       "\n",
       "| date | symbol | abnr_ret |\n",
       "|---|---|---|\n",
       "| 20120104     | 000001.SZ    | -0.007575707 |\n",
       "| 20120104     | 000002.SZ    |  0.001264443 |\n",
       "| 20120104     | 000004.SZ    | -0.002243615 |\n",
       "| 20120104     | 000005.SZ    |  0.020006076 |\n",
       "| 20120104     | 000006.SZ    |  0.010249978 |\n",
       "\n"
      ],
      "text/plain": [
       "  date     symbol    abnr_ret    \n",
       "1 20120104 000001.SZ -0.007575707\n",
       "2 20120104 000002.SZ  0.001264443\n",
       "3 20120104 000004.SZ -0.002243615\n",
       "4 20120104 000005.SZ  0.020006076\n",
       "5 20120104 000006.SZ  0.010249978"
      ]
     },
     "metadata": {},
     "output_type": "display_data"
    }
   ],
   "source": [
    "data[, .(stkcd_ret = close/pre_close - 1, weight = capt/sum(capt), symbol), keyby = date\n",
    "    ][, .(mkt_ret = sum(weight*stkcd_ret), stkcd_ret, symbol), keyby = date\n",
    "    ][, .(alpha = coef(lm(stkcd_ret ~ mkt_ret))[1], beta = coef(lm(stkcd_ret ~ mkt_ret))[2], mkt_ret, stkcd_ret, symbol, date)\n",
    "    ][, .(abnr_ret = stkcd_ret - alpha - beta * mkt_ret), keyby = .(date, symbol)\n",
    "    ][1:5]"
   ]
  },
  {
   "cell_type": "markdown",
   "metadata": {},
   "source": [
    "## 31. 每天每个股票对市场去除自身的超额收益率是多少？"
   ]
  },
  {
   "cell_type": "code",
   "execution_count": 52,
   "metadata": {
    "scrolled": true
   },
   "outputs": [
    {
     "data": {
      "text/html": [
       "<table>\n",
       "<thead><tr><th scope=col>date</th><th scope=col>symbol</th><th scope=col>abnr_ret</th></tr></thead>\n",
       "<tbody>\n",
       "\t<tr><td>20120104    </td><td>000001.SZ   </td><td>-0.007762946</td></tr>\n",
       "\t<tr><td>20120104    </td><td>000002.SZ   </td><td> 0.001077204</td></tr>\n",
       "\t<tr><td>20120104    </td><td>000004.SZ   </td><td>-0.002430854</td></tr>\n",
       "\t<tr><td>20120104    </td><td>000005.SZ   </td><td> 0.019818837</td></tr>\n",
       "\t<tr><td>20120104    </td><td>000006.SZ   </td><td> 0.010062739</td></tr>\n",
       "</tbody>\n",
       "</table>\n"
      ],
      "text/latex": [
       "\\begin{tabular}{r|lll}\n",
       " date & symbol & abnr\\_ret\\\\\n",
       "\\hline\n",
       "\t 20120104     & 000001.SZ    & -0.007762946\\\\\n",
       "\t 20120104     & 000002.SZ    &  0.001077204\\\\\n",
       "\t 20120104     & 000004.SZ    & -0.002430854\\\\\n",
       "\t 20120104     & 000005.SZ    &  0.019818837\\\\\n",
       "\t 20120104     & 000006.SZ    &  0.010062739\\\\\n",
       "\\end{tabular}\n"
      ],
      "text/markdown": [
       "\n",
       "| date | symbol | abnr_ret |\n",
       "|---|---|---|\n",
       "| 20120104     | 000001.SZ    | -0.007762946 |\n",
       "| 20120104     | 000002.SZ    |  0.001077204 |\n",
       "| 20120104     | 000004.SZ    | -0.002430854 |\n",
       "| 20120104     | 000005.SZ    |  0.019818837 |\n",
       "| 20120104     | 000006.SZ    |  0.010062739 |\n",
       "\n"
      ],
      "text/plain": [
       "  date     symbol    abnr_ret    \n",
       "1 20120104 000001.SZ -0.007762946\n",
       "2 20120104 000002.SZ  0.001077204\n",
       "3 20120104 000004.SZ -0.002430854\n",
       "4 20120104 000005.SZ  0.019818837\n",
       "5 20120104 000006.SZ  0.010062739"
      ]
     },
     "metadata": {},
     "output_type": "display_data"
    }
   ],
   "source": [
    "data[, .(stkcd_ret = close/pre_close - 1, symbol, weight =  capt/(sum(capt) - capt)),keyby = date\n",
    "    ][, .(mkt_ret = sum(weight*stkcd_ret), stkcd_ret, symbol), keyby = date\n",
    "    ][, .(alpha = coef(lm(stkcd_ret ~ mkt_ret))[1], beta = coef(lm(stkcd_ret ~ mkt_ret))[2], mkt_ret, stkcd_ret, symbol, date)\n",
    "    ][, .(abnr_ret = stkcd_ret - alpha - beta * mkt_ret), keyby = .(date, symbol)\n",
    "    ][1:5]"
   ]
  },
  {
   "cell_type": "markdown",
   "metadata": {},
   "source": [
    "## 32. 每天每个股票对行业的超额收益率是多少？"
   ]
  },
  {
   "cell_type": "code",
   "execution_count": 53,
   "metadata": {
    "scrolled": true
   },
   "outputs": [
    {
     "data": {
      "text/html": [
       "<table>\n",
       "<thead><tr><th scope=col>date</th><th scope=col>symbol</th><th scope=col>abnr_ret</th></tr></thead>\n",
       "<tbody>\n",
       "\t<tr><td>20120104     </td><td>000001.SZ    </td><td>-0.0193325437</td></tr>\n",
       "\t<tr><td>20120104     </td><td>000002.SZ    </td><td> 0.0009002525</td></tr>\n",
       "\t<tr><td>20120104     </td><td>000004.SZ    </td><td> 0.0070727953</td></tr>\n",
       "\t<tr><td>20120104     </td><td>000005.SZ    </td><td> 0.0196418857</td></tr>\n",
       "\t<tr><td>20120104     </td><td>000006.SZ    </td><td> 0.0098857881</td></tr>\n",
       "</tbody>\n",
       "</table>\n"
      ],
      "text/latex": [
       "\\begin{tabular}{r|lll}\n",
       " date & symbol & abnr\\_ret\\\\\n",
       "\\hline\n",
       "\t 20120104      & 000001.SZ     & -0.0193325437\\\\\n",
       "\t 20120104      & 000002.SZ     &  0.0009002525\\\\\n",
       "\t 20120104      & 000004.SZ     &  0.0070727953\\\\\n",
       "\t 20120104      & 000005.SZ     &  0.0196418857\\\\\n",
       "\t 20120104      & 000006.SZ     &  0.0098857881\\\\\n",
       "\\end{tabular}\n"
      ],
      "text/markdown": [
       "\n",
       "| date | symbol | abnr_ret |\n",
       "|---|---|---|\n",
       "| 20120104      | 000001.SZ     | -0.0193325437 |\n",
       "| 20120104      | 000002.SZ     |  0.0009002525 |\n",
       "| 20120104      | 000004.SZ     |  0.0070727953 |\n",
       "| 20120104      | 000005.SZ     |  0.0196418857 |\n",
       "| 20120104      | 000006.SZ     |  0.0098857881 |\n",
       "\n"
      ],
      "text/plain": [
       "  date     symbol    abnr_ret     \n",
       "1 20120104 000001.SZ -0.0193325437\n",
       "2 20120104 000002.SZ  0.0009002525\n",
       "3 20120104 000004.SZ  0.0070727953\n",
       "4 20120104 000005.SZ  0.0196418857\n",
       "5 20120104 000006.SZ  0.0098857881"
      ]
     },
     "metadata": {},
     "output_type": "display_data"
    }
   ],
   "source": [
    "data[, .(stkcd_ret = close/pre_close - 1, symbol, weight = capt/sum(capt)), keyby = .(industry,date)\n",
    "    ][, .(ind_ret = sum(weight*stkcd_ret), stkcd_ret, symbol), keyby = .(industry, date)\n",
    "    ][, .(alpha = coef(lm(stkcd_ret ~ ind_ret))[1], beta = coef(lm(stkcd_ret ~ ind_ret))[2], ind_ret, stkcd_ret, symbol, date), keyby = .(industry)\n",
    "    ][, .(abnr_ret = stkcd_ret - alpha - beta * ind_ret), keyby = .(date, symbol)\n",
    "    ][1:5]"
   ]
  },
  {
   "cell_type": "markdown",
   "metadata": {},
   "source": [
    "## 33. 每天每个股票对行业去除自身的超额收益率是多少？"
   ]
  },
  {
   "cell_type": "code",
   "execution_count": 54,
   "metadata": {
    "scrolled": true
   },
   "outputs": [
    {
     "data": {
      "text/html": [
       "<table>\n",
       "<thead><tr><th scope=col>date</th><th scope=col>symbol</th><th scope=col>abnr_ret</th></tr></thead>\n",
       "<tbody>\n",
       "\t<tr><td>20120104     </td><td>000001.SZ    </td><td>-0.0196847604</td></tr>\n",
       "\t<tr><td>20120104     </td><td>000002.SZ    </td><td> 0.0006789611</td></tr>\n",
       "\t<tr><td>20120104     </td><td>000004.SZ    </td><td> 0.0071187283</td></tr>\n",
       "\t<tr><td>20120104     </td><td>000005.SZ    </td><td> 0.0194205943</td></tr>\n",
       "\t<tr><td>20120104     </td><td>000006.SZ    </td><td> 0.0096644967</td></tr>\n",
       "</tbody>\n",
       "</table>\n"
      ],
      "text/latex": [
       "\\begin{tabular}{r|lll}\n",
       " date & symbol & abnr\\_ret\\\\\n",
       "\\hline\n",
       "\t 20120104      & 000001.SZ     & -0.0196847604\\\\\n",
       "\t 20120104      & 000002.SZ     &  0.0006789611\\\\\n",
       "\t 20120104      & 000004.SZ     &  0.0071187283\\\\\n",
       "\t 20120104      & 000005.SZ     &  0.0194205943\\\\\n",
       "\t 20120104      & 000006.SZ     &  0.0096644967\\\\\n",
       "\\end{tabular}\n"
      ],
      "text/markdown": [
       "\n",
       "| date | symbol | abnr_ret |\n",
       "|---|---|---|\n",
       "| 20120104      | 000001.SZ     | -0.0196847604 |\n",
       "| 20120104      | 000002.SZ     |  0.0006789611 |\n",
       "| 20120104      | 000004.SZ     |  0.0071187283 |\n",
       "| 20120104      | 000005.SZ     |  0.0194205943 |\n",
       "| 20120104      | 000006.SZ     |  0.0096644967 |\n",
       "\n"
      ],
      "text/plain": [
       "  date     symbol    abnr_ret     \n",
       "1 20120104 000001.SZ -0.0196847604\n",
       "2 20120104 000002.SZ  0.0006789611\n",
       "3 20120104 000004.SZ  0.0071187283\n",
       "4 20120104 000005.SZ  0.0194205943\n",
       "5 20120104 000006.SZ  0.0096644967"
      ]
     },
     "metadata": {},
     "output_type": "display_data"
    }
   ],
   "source": [
    "data[, .(stkcd_ret = close/pre_close - 1, symbol, weight = capt/(sum(capt) - capt)), keyby = .(industry,date)\n",
    "    ][, .(ind_ret = sum(weight*stkcd_ret), stkcd_ret, symbol), keyby = .(industry, date)\n",
    "    ][, .(alpha = coef(lm(stkcd_ret ~ ind_ret))[1], beta = coef(lm(stkcd_ret ~ ind_ret))[2], ind_ret, stkcd_ret, symbol, date), keyby = .(industry)\n",
    "    ][, .(abnr_ret = stkcd_ret - alpha - beta * ind_ret), keyby = .(date, symbol)\n",
    "    ][1:5]"
   ]
  },
  {
   "cell_type": "markdown",
   "metadata": {},
   "source": [
    "## 34. 每个股票每天对市场的超额收益率与对行业的超额收益率的相关系数如何？"
   ]
  },
  {
   "cell_type": "code",
   "execution_count": 55,
   "metadata": {},
   "outputs": [
    {
     "data": {
      "text/html": [
       "<table>\n",
       "<thead><tr><th></th><th scope=col>abnr_mkt_ret</th><th scope=col>abnr_ind_ret</th></tr></thead>\n",
       "<tbody>\n",
       "\t<tr><th scope=row>abnr_mkt_ret</th><td>1.000000</td><td>0.946769</td></tr>\n",
       "\t<tr><th scope=row>abnr_ind_ret</th><td>0.946769</td><td>1.000000</td></tr>\n",
       "</tbody>\n",
       "</table>\n"
      ],
      "text/latex": [
       "\\begin{tabular}{r|ll}\n",
       "  & abnr\\_mkt\\_ret & abnr\\_ind\\_ret\\\\\n",
       "\\hline\n",
       "\tabnr\\_mkt\\_ret & 1.000000 & 0.946769\\\\\n",
       "\tabnr\\_ind\\_ret & 0.946769 & 1.000000\\\\\n",
       "\\end{tabular}\n"
      ],
      "text/markdown": [
       "\n",
       "| <!--/--> | abnr_mkt_ret | abnr_ind_ret |\n",
       "|---|---|---|\n",
       "| abnr_mkt_ret | 1.000000 | 0.946769 |\n",
       "| abnr_ind_ret | 0.946769 | 1.000000 |\n",
       "\n"
      ],
      "text/plain": [
       "             abnr_mkt_ret abnr_ind_ret\n",
       "abnr_mkt_ret 1.000000     0.946769    \n",
       "abnr_ind_ret 0.946769     1.000000    "
      ]
     },
     "metadata": {},
     "output_type": "display_data"
    }
   ],
   "source": [
    "mkt <- data[, .(stkcd_ret = close/pre_close - 1, weight = capt/sum(capt), symbol), keyby = date\n",
    "    ][, .(mkt_ret = sum(weight/100*stkcd_ret), stkcd_ret, symbol), keyby = date\n",
    "    ][, .(alpha = coef(lm(stkcd_ret ~ mkt_ret))[1], beta = coef(lm(stkcd_ret ~ mkt_ret))[2], mkt_ret, stkcd_ret, symbol, date)\n",
    "    ][, .(abnr_mkt_ret = stkcd_ret - alpha - beta * mkt_ret), keyby = .(date, symbol)]\n",
    "ind <- data[, .(stkcd_ret = close/pre_close - 1, symbol, weight = capt/sum(capt)), keyby = .(industry,date)\n",
    "    ][, .(ind_ret = sum(weight/100*stkcd_ret), stkcd_ret, symbol), keyby = .(industry, date)\n",
    "    ][, .(alpha = coef(lm(stkcd_ret ~ ind_ret))[1], beta = coef(lm(stkcd_ret ~ ind_ret))[2], ind_ret, stkcd_ret, symbol, date), keyby = .(industry)\n",
    "    ][, .(abnr_ind_ret = stkcd_ret - alpha - beta * ind_ret), \n",
    "      keyby = .(date, symbol)]\n",
    "\n",
    "cor(mkt[ind, on = .(date, symbol)][, 3:4])\n",
    "rm(mkt, ind)"
   ]
  },
  {
   "cell_type": "markdown",
   "metadata": {},
   "source": [
    "## 35. 每天有哪些行业的平均收益率超过市场平均收益率？"
   ]
  },
  {
   "cell_type": "code",
   "execution_count": 56,
   "metadata": {
    "scrolled": true
   },
   "outputs": [
    {
     "data": {
      "text/html": [
       "<table>\n",
       "<thead><tr><th scope=col>date</th><th scope=col>ind_ret</th><th scope=col>mkt_ret</th><th scope=col>industry</th></tr></thead>\n",
       "<tbody>\n",
       "\t<tr><td>20120104    </td><td>-0.008403388</td><td>-0.01581648 </td><td>AERODEF     </td></tr>\n",
       "\t<tr><td>20120104    </td><td>-0.013057659</td><td>-0.01581648 </td><td>AUTO        </td></tr>\n",
       "\t<tr><td>20120104    </td><td>-0.006737250</td><td>-0.01581648 </td><td>BANKS       </td></tr>\n",
       "\t<tr><td>20120104    </td><td>-0.003713831</td><td>-0.01581648 </td><td>ENERGY      </td></tr>\n",
       "\t<tr><td>20120104    </td><td>-0.011340144</td><td>-0.01581648 </td><td>HOUSEDUR    </td></tr>\n",
       "</tbody>\n",
       "</table>\n"
      ],
      "text/latex": [
       "\\begin{tabular}{r|llll}\n",
       " date & ind\\_ret & mkt\\_ret & industry\\\\\n",
       "\\hline\n",
       "\t 20120104     & -0.008403388 & -0.01581648  & AERODEF     \\\\\n",
       "\t 20120104     & -0.013057659 & -0.01581648  & AUTO        \\\\\n",
       "\t 20120104     & -0.006737250 & -0.01581648  & BANKS       \\\\\n",
       "\t 20120104     & -0.003713831 & -0.01581648  & ENERGY      \\\\\n",
       "\t 20120104     & -0.011340144 & -0.01581648  & HOUSEDUR    \\\\\n",
       "\\end{tabular}\n"
      ],
      "text/markdown": [
       "\n",
       "| date | ind_ret | mkt_ret | industry |\n",
       "|---|---|---|---|\n",
       "| 20120104     | -0.008403388 | -0.01581648  | AERODEF      |\n",
       "| 20120104     | -0.013057659 | -0.01581648  | AUTO         |\n",
       "| 20120104     | -0.006737250 | -0.01581648  | BANKS        |\n",
       "| 20120104     | -0.003713831 | -0.01581648  | ENERGY       |\n",
       "| 20120104     | -0.011340144 | -0.01581648  | HOUSEDUR     |\n",
       "\n"
      ],
      "text/plain": [
       "  date     ind_ret      mkt_ret     industry\n",
       "1 20120104 -0.008403388 -0.01581648 AERODEF \n",
       "2 20120104 -0.013057659 -0.01581648 AUTO    \n",
       "3 20120104 -0.006737250 -0.01581648 BANKS   \n",
       "4 20120104 -0.003713831 -0.01581648 ENERGY  \n",
       "5 20120104 -0.011340144 -0.01581648 HOUSEDUR"
      ]
     },
     "metadata": {},
     "output_type": "display_data"
    }
   ],
   "source": [
    "data[, .(stkcd_ret = close/pre_close - 1, symbol, ind_weight = capt/sum(capt), capt), keyby = .(industry,date)\n",
    "    ][, .(ind_ret = sum(ind_weight*stkcd_ret), stkcd_ret, symbol, capt), keyby = .(industry, date)\n",
    "    ][, .(ind_ret, mkt_weight = capt/sum(capt), stkcd_ret, industry), keyby = date\n",
    "    ][, .(ind_ret, mkt_ret = sum(mkt_weight*stkcd_ret), industry), keyby = date\n",
    "    ][ind_ret > mkt_ret, unique(.SD)\n",
    "    ][1:5]"
   ]
  },
  {
   "cell_type": "markdown",
   "metadata": {},
   "source": [
    "## 36. 每天每个行业对市场的超额收益率是多少？"
   ]
  },
  {
   "cell_type": "code",
   "execution_count": 57,
   "metadata": {
    "scrolled": true
   },
   "outputs": [
    {
     "data": {
      "text/html": [
       "<table>\n",
       "<thead><tr><th scope=col>industry</th><th scope=col>abnr_ret</th><th scope=col>date</th></tr></thead>\n",
       "<tbody>\n",
       "\t<tr><td>AERODEF     </td><td> 0.009899362</td><td>20120104    </td></tr>\n",
       "\t<tr><td>AERODEF     </td><td>-0.008739172</td><td>20120105    </td></tr>\n",
       "\t<tr><td>AERODEF     </td><td>-0.028247448</td><td>20120106    </td></tr>\n",
       "\t<tr><td>AERODEF     </td><td>-0.006283080</td><td>20120109    </td></tr>\n",
       "\t<tr><td>AERODEF     </td><td> 0.005342716</td><td>20120110    </td></tr>\n",
       "</tbody>\n",
       "</table>\n"
      ],
      "text/latex": [
       "\\begin{tabular}{r|lll}\n",
       " industry & abnr\\_ret & date\\\\\n",
       "\\hline\n",
       "\t AERODEF      &  0.009899362 & 20120104    \\\\\n",
       "\t AERODEF      & -0.008739172 & 20120105    \\\\\n",
       "\t AERODEF      & -0.028247448 & 20120106    \\\\\n",
       "\t AERODEF      & -0.006283080 & 20120109    \\\\\n",
       "\t AERODEF      &  0.005342716 & 20120110    \\\\\n",
       "\\end{tabular}\n"
      ],
      "text/markdown": [
       "\n",
       "| industry | abnr_ret | date |\n",
       "|---|---|---|\n",
       "| AERODEF      |  0.009899362 | 20120104     |\n",
       "| AERODEF      | -0.008739172 | 20120105     |\n",
       "| AERODEF      | -0.028247448 | 20120106     |\n",
       "| AERODEF      | -0.006283080 | 20120109     |\n",
       "| AERODEF      |  0.005342716 | 20120110     |\n",
       "\n"
      ],
      "text/plain": [
       "  industry abnr_ret     date    \n",
       "1 AERODEF   0.009899362 20120104\n",
       "2 AERODEF  -0.008739172 20120105\n",
       "3 AERODEF  -0.028247448 20120106\n",
       "4 AERODEF  -0.006283080 20120109\n",
       "5 AERODEF   0.005342716 20120110"
      ]
     },
     "metadata": {},
     "output_type": "display_data"
    }
   ],
   "source": [
    "data[, .(stkcd_ret = close/pre_close - 1, symbol, ind_weight = capt/sum(capt), capt), keyby = .(industry,date)\n",
    "    ][, .(ind_ret = sum(ind_weight*stkcd_ret), stkcd_ret, symbol, capt), keyby = .(industry, date)\n",
    "    ][, .(ind_ret, mkt_weight = capt/sum(capt), stkcd_ret, industry), keyby = date\n",
    "    ][, .(ind_ret, mkt_ret = sum(mkt_weight*stkcd_ret), industry), keyby = date\n",
    "    ][, unique(.SD)\n",
    "    ][, .(alpha = coef(lm(ind_ret ~ mkt_ret))[1], beta = coef(lm(ind_ret ~ mkt_ret))[2], ind_ret, mkt_ret, industry, date)\n",
    "    ][, .(abnr_ret = ind_ret - alpha - beta*mkt_ret, date), by = industry\n",
    "    ][1:5]"
   ]
  },
  {
   "cell_type": "markdown",
   "metadata": {},
   "source": [
    "## 37. 每天每个行业对去除本行业后的市场超额收益是多少？"
   ]
  },
  {
   "cell_type": "code",
   "execution_count": 58,
   "metadata": {
    "scrolled": true
   },
   "outputs": [
    {
     "data": {
      "text/html": [
       "<table>\n",
       "<thead><tr><th scope=col>industry</th><th scope=col>abnr_ret</th><th scope=col>date</th></tr></thead>\n",
       "<tbody>\n",
       "\t<tr><td>AERODEF     </td><td> 0.009421348</td><td>20120104    </td></tr>\n",
       "\t<tr><td>AERODEF     </td><td>-0.010103267</td><td>20120105    </td></tr>\n",
       "\t<tr><td>AERODEF     </td><td>-0.028697841</td><td>20120106    </td></tr>\n",
       "\t<tr><td>AERODEF     </td><td>-0.006553974</td><td>20120109    </td></tr>\n",
       "\t<tr><td>AERODEF     </td><td> 0.005790573</td><td>20120110    </td></tr>\n",
       "</tbody>\n",
       "</table>\n"
      ],
      "text/latex": [
       "\\begin{tabular}{r|lll}\n",
       " industry & abnr\\_ret & date\\\\\n",
       "\\hline\n",
       "\t AERODEF      &  0.009421348 & 20120104    \\\\\n",
       "\t AERODEF      & -0.010103267 & 20120105    \\\\\n",
       "\t AERODEF      & -0.028697841 & 20120106    \\\\\n",
       "\t AERODEF      & -0.006553974 & 20120109    \\\\\n",
       "\t AERODEF      &  0.005790573 & 20120110    \\\\\n",
       "\\end{tabular}\n"
      ],
      "text/markdown": [
       "\n",
       "| industry | abnr_ret | date |\n",
       "|---|---|---|\n",
       "| AERODEF      |  0.009421348 | 20120104     |\n",
       "| AERODEF      | -0.010103267 | 20120105     |\n",
       "| AERODEF      | -0.028697841 | 20120106     |\n",
       "| AERODEF      | -0.006553974 | 20120109     |\n",
       "| AERODEF      |  0.005790573 | 20120110     |\n",
       "\n"
      ],
      "text/plain": [
       "  industry abnr_ret     date    \n",
       "1 AERODEF   0.009421348 20120104\n",
       "2 AERODEF  -0.010103267 20120105\n",
       "3 AERODEF  -0.028697841 20120106\n",
       "4 AERODEF  -0.006553974 20120109\n",
       "5 AERODEF   0.005790573 20120110"
      ]
     },
     "metadata": {},
     "output_type": "display_data"
    }
   ],
   "source": [
    "data[, .(stkcd_ret = close/pre_close - 1, symbol, ind_weight = capt/sum(capt), capt), keyby = .(industry,date)\n",
    "    ][, .(ind_ret = sum(ind_weight*stkcd_ret), stkcd_ret, symbol, capt), keyby = .(industry, date)\n",
    "    ][, .(ind_capt = sum(capt), ind_ret), keyby = .(industry, date)\n",
    "    ][, unique(.SD)\n",
    "    ][, .(ind_mkt_weight = ind_capt/(sum(ind_capt)-ind_capt), ind_ret, industry), keyby = date\n",
    "    ][, .(mkt_ret = sum(ind_mkt_weight * ind_ret), ind_ret, industry), by = date\n",
    "    ][, .(alpha = coef(lm(ind_ret ~ mkt_ret))[1], beta = coef(lm(ind_ret ~ mkt_ret))[2], ind_ret, mkt_ret, industry, date)\n",
    "    ][, .(abnr_ret = ind_ret - alpha - beta*mkt_ret, date), by = industry\n",
    "    ][1:5]"
   ]
  },
  {
   "cell_type": "markdown",
   "metadata": {},
   "source": [
    "## 38. 每天分别有多少股票是最近连续3个交易日上涨、下跌的？"
   ]
  },
  {
   "cell_type": "code",
   "execution_count": 59,
   "metadata": {
    "scrolled": true
   },
   "outputs": [
    {
     "data": {
      "text/html": [
       "<table>\n",
       "<thead><tr><th scope=col>date</th><th scope=col>tag</th><th scope=col>stkcd_amount</th></tr></thead>\n",
       "<tbody>\n",
       "\t<tr><td>20120109</td><td>r3day_dn</td><td>17      </td></tr>\n",
       "\t<tr><td>20120109</td><td>r3day_up</td><td>16      </td></tr>\n",
       "\t<tr><td>20120110</td><td>r3day_dn</td><td> 1      </td></tr>\n",
       "\t<tr><td>20120110</td><td>r3day_up</td><td>71      </td></tr>\n",
       "\t<tr><td>20120111</td><td>r3day_dn</td><td> 6      </td></tr>\n",
       "</tbody>\n",
       "</table>\n"
      ],
      "text/latex": [
       "\\begin{tabular}{r|lll}\n",
       " date & tag & stkcd\\_amount\\\\\n",
       "\\hline\n",
       "\t 20120109   & r3day\\_dn & 17        \\\\\n",
       "\t 20120109   & r3day\\_up & 16        \\\\\n",
       "\t 20120110   & r3day\\_dn &  1        \\\\\n",
       "\t 20120110   & r3day\\_up & 71        \\\\\n",
       "\t 20120111   & r3day\\_dn &  6        \\\\\n",
       "\\end{tabular}\n"
      ],
      "text/markdown": [
       "\n",
       "| date | tag | stkcd_amount |\n",
       "|---|---|---|\n",
       "| 20120109 | r3day_dn | 17       |\n",
       "| 20120109 | r3day_up | 16       |\n",
       "| 20120110 | r3day_dn |  1       |\n",
       "| 20120110 | r3day_up | 71       |\n",
       "| 20120111 | r3day_dn |  6       |\n",
       "\n"
      ],
      "text/plain": [
       "  date     tag      stkcd_amount\n",
       "1 20120109 r3day_dn 17          \n",
       "2 20120109 r3day_up 16          \n",
       "3 20120110 r3day_dn  1          \n",
       "4 20120110 r3day_up 71          \n",
       "5 20120111 r3day_dn  6          "
      ]
     },
     "metadata": {},
     "output_type": "display_data"
    }
   ],
   "source": [
    "data[, .(stkcd_ret = close/pre_close - 1), keyby = .(symbol, date)\n",
    "    ][, {\n",
    "        l <- list()\n",
    "        b1 <- stkcd_ret > 0\n",
    "        b2 <- stkcd_ret < 0\n",
    "        for (t in 4:.N) {\n",
    "            l[[t]] <- as.list(c(r3day_up = mean(c(b1[t-1], b1[t-2], b1[t-3])), r3day_dn = mean(c(b2[t-1], b1[t-2], b1[t-3])), date = date[t]))\n",
    "        }\n",
    "        rbindlist(l)\n",
    "    }    \n",
    "    , keyby = .(symbol)\n",
    "    ][!is.na(date), .(stkcd_amount = uniqueN(symbol)), keyby = .(date, tag = ifelse(r3day_up == 1, \"r3day_up\", ifelse(r3day_dn == 1, \"r3day_dn\", \"others\")))\n",
    "    ][tag == \"r3day_dn\"|tag == \"r3day_up\"\n",
    "    ][1:5]"
   ]
  },
  {
   "cell_type": "markdown",
   "metadata": {},
   "source": [
    "## 39. 每天分别有多少股票是最近连续3个交易日收益率超过当天市场平均收益率？"
   ]
  },
  {
   "cell_type": "code",
   "execution_count": 60,
   "metadata": {
    "scrolled": true
   },
   "outputs": [
    {
     "data": {
      "text/html": [
       "<table>\n",
       "<thead><tr><th scope=col>date</th><th scope=col>stkcd_amount</th></tr></thead>\n",
       "<tbody>\n",
       "\t<tr><td>20120109</td><td> 81     </td></tr>\n",
       "\t<tr><td>20120110</td><td> 95     </td></tr>\n",
       "\t<tr><td>20120111</td><td>785     </td></tr>\n",
       "\t<tr><td>20120112</td><td>905     </td></tr>\n",
       "\t<tr><td>20120113</td><td>392     </td></tr>\n",
       "</tbody>\n",
       "</table>\n"
      ],
      "text/latex": [
       "\\begin{tabular}{r|ll}\n",
       " date & stkcd\\_amount\\\\\n",
       "\\hline\n",
       "\t 20120109 &  81     \\\\\n",
       "\t 20120110 &  95     \\\\\n",
       "\t 20120111 & 785     \\\\\n",
       "\t 20120112 & 905     \\\\\n",
       "\t 20120113 & 392     \\\\\n",
       "\\end{tabular}\n"
      ],
      "text/markdown": [
       "\n",
       "| date | stkcd_amount |\n",
       "|---|---|\n",
       "| 20120109 |  81      |\n",
       "| 20120110 |  95      |\n",
       "| 20120111 | 785      |\n",
       "| 20120112 | 905      |\n",
       "| 20120113 | 392      |\n",
       "\n"
      ],
      "text/plain": [
       "  date     stkcd_amount\n",
       "1 20120109  81         \n",
       "2 20120110  95         \n",
       "3 20120111 785         \n",
       "4 20120112 905         \n",
       "5 20120113 392         "
      ]
     },
     "metadata": {},
     "output_type": "display_data"
    }
   ],
   "source": [
    "data[, .(stkcd_ret = close/pre_close - 1, mkt_weight = capt/sum(capt), symbol), keyby = .(date)\n",
    "    ][, .(mkt_ret = sum(stkcd_ret * mkt_weight), symbol, stkcd_ret), keyby = .(date)\n",
    "    ][, .(r3day_ret = ifelse(stkcd_ret > mkt_ret, 1, 0)), keyby = .(symbol, date)\n",
    "    ][, {\n",
    "        l <- list()\n",
    "        for (t in 4:.N) {\n",
    "            l[[t]] <- as.list(c(r3day_ret = mean(c(r3day_ret[t-1], r3day_ret[t-2], r3day_ret[t-3])), date = date[t]))\n",
    "        }\n",
    "        rbindlist(l)\n",
    "    }, keyby = symbol\n",
    "    ][r3day_ret == 1 & !is.na(date), .(stkcd_amount = uniqueN(symbol)),\n",
    "      keyby = date\n",
    "    ][1:5]"
   ]
  },
  {
   "cell_type": "markdown",
   "metadata": {},
   "source": [
    "## 40. 每天分别有多少股票是最新5个交易日中至少有4个交易日的收益率超过当天市场平均收益率？"
   ]
  },
  {
   "cell_type": "code",
   "execution_count": 61,
   "metadata": {
    "scrolled": true
   },
   "outputs": [
    {
     "data": {
      "text/html": [
       "<table>\n",
       "<thead><tr><th scope=col>date</th><th scope=col>stkcd_amount</th></tr></thead>\n",
       "<tbody>\n",
       "\t<tr><td>20120111</td><td> 14     </td></tr>\n",
       "\t<tr><td>20120112</td><td> 22     </td></tr>\n",
       "\t<tr><td>20120113</td><td>184     </td></tr>\n",
       "\t<tr><td>20120116</td><td> 48     </td></tr>\n",
       "\t<tr><td>20120117</td><td> 18     </td></tr>\n",
       "</tbody>\n",
       "</table>\n"
      ],
      "text/latex": [
       "\\begin{tabular}{r|ll}\n",
       " date & stkcd\\_amount\\\\\n",
       "\\hline\n",
       "\t 20120111 &  14     \\\\\n",
       "\t 20120112 &  22     \\\\\n",
       "\t 20120113 & 184     \\\\\n",
       "\t 20120116 &  48     \\\\\n",
       "\t 20120117 &  18     \\\\\n",
       "\\end{tabular}\n"
      ],
      "text/markdown": [
       "\n",
       "| date | stkcd_amount |\n",
       "|---|---|\n",
       "| 20120111 |  14      |\n",
       "| 20120112 |  22      |\n",
       "| 20120113 | 184      |\n",
       "| 20120116 |  48      |\n",
       "| 20120117 |  18      |\n",
       "\n"
      ],
      "text/plain": [
       "  date     stkcd_amount\n",
       "1 20120111  14         \n",
       "2 20120112  22         \n",
       "3 20120113 184         \n",
       "4 20120116  48         \n",
       "5 20120117  18         "
      ]
     },
     "metadata": {},
     "output_type": "display_data"
    }
   ],
   "source": [
    "data[, .(stkcd_ret = close/pre_close - 1, mkt_weight = capt/sum(capt), symbol), keyby = .(date)\n",
    "    ][, .(mkt_ret = sum(stkcd_ret * mkt_weight), symbol, stkcd_ret), keyby = .(date)\n",
    "    ][, .(r3day_ret = ifelse(stkcd_ret > mkt_ret, 1, 0)), keyby = .(symbol, date)\n",
    "    ][, {\n",
    "        l <- list()\n",
    "        for (t in 6:.N) {\n",
    "            l[[t]] <- as.list(c(r3day_ret = mean(c(r3day_ret[t-1], r3day_ret[t-2], r3day_ret[t-3], r3day_ret[t-4], r3day_ret[t-5])), date = date[t]))\n",
    "        }\n",
    "        rbindlist(l)\n",
    "    }, keyby = symbol\n",
    "    ][r3day_ret > 0.8 & !is.na(date), .(stkcd_amount = uniqueN(symbol)), keyby = date\n",
    "    ][1:5]"
   ]
  },
  {
   "cell_type": "markdown",
   "metadata": {},
   "source": [
    "## 41. 每个月中，个股月收益超过市场月收益1倍以上的股票有哪些？"
   ]
  },
  {
   "cell_type": "code",
   "execution_count": 62,
   "metadata": {
    "scrolled": true
   },
   "outputs": [
    {
     "data": {
      "text/html": [
       "<table>\n",
       "<thead><tr><th scope=col>date_ym</th><th scope=col>symbol</th></tr></thead>\n",
       "<tbody>\n",
       "\t<tr><td>201201   </td><td>000009.SZ</td></tr>\n",
       "\t<tr><td>201201   </td><td>000012.SZ</td></tr>\n",
       "\t<tr><td>201201   </td><td>000017.SZ</td></tr>\n",
       "\t<tr><td>201201   </td><td>000018.SZ</td></tr>\n",
       "\t<tr><td>201201   </td><td>000030.SZ</td></tr>\n",
       "</tbody>\n",
       "</table>\n"
      ],
      "text/latex": [
       "\\begin{tabular}{r|ll}\n",
       " date\\_ym & symbol\\\\\n",
       "\\hline\n",
       "\t 201201    & 000009.SZ\\\\\n",
       "\t 201201    & 000012.SZ\\\\\n",
       "\t 201201    & 000017.SZ\\\\\n",
       "\t 201201    & 000018.SZ\\\\\n",
       "\t 201201    & 000030.SZ\\\\\n",
       "\\end{tabular}\n"
      ],
      "text/markdown": [
       "\n",
       "| date_ym | symbol |\n",
       "|---|---|\n",
       "| 201201    | 000009.SZ |\n",
       "| 201201    | 000012.SZ |\n",
       "| 201201    | 000017.SZ |\n",
       "| 201201    | 000018.SZ |\n",
       "| 201201    | 000030.SZ |\n",
       "\n"
      ],
      "text/plain": [
       "  date_ym symbol   \n",
       "1 201201  000009.SZ\n",
       "2 201201  000012.SZ\n",
       "3 201201  000017.SZ\n",
       "4 201201  000018.SZ\n",
       "5 201201  000030.SZ"
      ]
     },
     "metadata": {},
     "output_type": "display_data"
    }
   ],
   "source": [
    "data[, .(stkcd_ret = close/pre_close - 1, mkt_weight = capt/sum(capt), symbol), keyby = .(date)\n",
    "    ][, .(mkt_ret = sum(mkt_weight * stkcd_ret), stkcd_ret, symbol, date_ym = str_sub(date, start = 1, end = 6)), keyby = .(date)\n",
    "    ][, .(stkcd_m_ret = mean(stkcd_ret), date, mkt_ret), keyby = .(symbol, date_ym)\n",
    "    ][, .(stkcd_m_ret, symbol, date, mkt_m_ret = mean(mkt_ret)), keyby = .(date_ym)\n",
    "    ][stkcd_m_ret > 2*mkt_m_ret, .(symbol = unique(symbol)), keyby = .(date_ym)\n",
    "    ][1:5]"
   ]
  },
  {
   "cell_type": "markdown",
   "metadata": {},
   "source": [
    "## 42. 每个月中，个股月收益超过行业月收益1倍以上的股票有哪些？"
   ]
  },
  {
   "cell_type": "code",
   "execution_count": 63,
   "metadata": {
    "scrolled": true
   },
   "outputs": [
    {
     "data": {
      "text/html": [
       "<table>\n",
       "<thead><tr><th scope=col>date_ym</th><th scope=col>symbol</th></tr></thead>\n",
       "<tbody>\n",
       "\t<tr><td>201201   </td><td>000001.SZ</td></tr>\n",
       "\t<tr><td>201201   </td><td>000006.SZ</td></tr>\n",
       "\t<tr><td>201201   </td><td>000007.SZ</td></tr>\n",
       "\t<tr><td>201201   </td><td>000009.SZ</td></tr>\n",
       "\t<tr><td>201201   </td><td>000012.SZ</td></tr>\n",
       "</tbody>\n",
       "</table>\n"
      ],
      "text/latex": [
       "\\begin{tabular}{r|ll}\n",
       " date\\_ym & symbol\\\\\n",
       "\\hline\n",
       "\t 201201    & 000001.SZ\\\\\n",
       "\t 201201    & 000006.SZ\\\\\n",
       "\t 201201    & 000007.SZ\\\\\n",
       "\t 201201    & 000009.SZ\\\\\n",
       "\t 201201    & 000012.SZ\\\\\n",
       "\\end{tabular}\n"
      ],
      "text/markdown": [
       "\n",
       "| date_ym | symbol |\n",
       "|---|---|\n",
       "| 201201    | 000001.SZ |\n",
       "| 201201    | 000006.SZ |\n",
       "| 201201    | 000007.SZ |\n",
       "| 201201    | 000009.SZ |\n",
       "| 201201    | 000012.SZ |\n",
       "\n"
      ],
      "text/plain": [
       "  date_ym symbol   \n",
       "1 201201  000001.SZ\n",
       "2 201201  000006.SZ\n",
       "3 201201  000007.SZ\n",
       "4 201201  000009.SZ\n",
       "5 201201  000012.SZ"
      ]
     },
     "metadata": {},
     "output_type": "display_data"
    }
   ],
   "source": [
    "data[, .(stkcd_ret = close/pre_close - 1, ind_weight = capt/sum(capt), symbol), keyby = .(industry, date)\n",
    "    ][, .(ind_ret = sum(ind_weight * stkcd_ret), stkcd_ret, symbol, date_ym = str_sub(date, start = 1, end = 6)), keyby = .(industry, date)\n",
    "    ][, .(stkcd_m_ret = mean(stkcd_ret), date, ind_ret), keyby = .(symbol, date_ym)\n",
    "    ][, .(stkcd_m_ret, symbol, date, ind_m_ret = mean(ind_ret)), keyby = .(date_ym)\n",
    "    ][stkcd_m_ret > 2*ind_m_ret, .(symbol = unique(symbol)), keyby = .(date_ym)\n",
    "    ][1:5]"
   ]
  },
  {
   "cell_type": "markdown",
   "metadata": {},
   "source": [
    "## 43. 每个股票的收益率对市场收益率的相关系数最高的10个股票是哪些？"
   ]
  },
  {
   "cell_type": "code",
   "execution_count": 64,
   "metadata": {
    "scrolled": true
   },
   "outputs": [
    {
     "name": "stderr",
     "output_type": "stream",
     "text": [
      "Warning message in cor(stkcd_ret, mkt_ret):\n",
      "\"the standard deviation is zero\"Warning message in cor(stkcd_ret, mkt_ret):\n",
      "\"the standard deviation is zero\"Warning message in cor(stkcd_ret, mkt_ret):\n",
      "\"the standard deviation is zero\"Warning message in cor(stkcd_ret, mkt_ret):\n",
      "\"the standard deviation is zero\"Warning message in cor(stkcd_ret, mkt_ret):\n",
      "\"the standard deviation is zero\"Warning message in cor(stkcd_ret, mkt_ret):\n",
      "\"the standard deviation is zero\"Warning message in cor(stkcd_ret, mkt_ret):\n",
      "\"the standard deviation is zero\"Warning message in cor(stkcd_ret, mkt_ret):\n",
      "\"the standard deviation is zero\"Warning message in cor(stkcd_ret, mkt_ret):\n",
      "\"the standard deviation is zero\"Warning message in cor(stkcd_ret, mkt_ret):\n",
      "\"the standard deviation is zero\"Warning message in cor(stkcd_ret, mkt_ret):\n",
      "\"the standard deviation is zero\"Warning message in cor(stkcd_ret, mkt_ret):\n",
      "\"the standard deviation is zero\"Warning message in cor(stkcd_ret, mkt_ret):\n",
      "\"the standard deviation is zero\"Warning message in cor(stkcd_ret, mkt_ret):\n",
      "\"the standard deviation is zero\"Warning message in cor(stkcd_ret, mkt_ret):\n",
      "\"the standard deviation is zero\"Warning message in cor(stkcd_ret, mkt_ret):\n",
      "\"the standard deviation is zero\"Warning message in cor(stkcd_ret, mkt_ret):\n",
      "\"the standard deviation is zero\"Warning message in cor(stkcd_ret, mkt_ret):\n",
      "\"the standard deviation is zero\"Warning message in cor(stkcd_ret, mkt_ret):\n",
      "\"the standard deviation is zero\"Warning message in cor(stkcd_ret, mkt_ret):\n",
      "\"the standard deviation is zero\"Warning message in cor(stkcd_ret, mkt_ret):\n",
      "\"the standard deviation is zero\"Warning message in cor(stkcd_ret, mkt_ret):\n",
      "\"the standard deviation is zero\"Warning message in cor(stkcd_ret, mkt_ret):\n",
      "\"the standard deviation is zero\"Warning message in cor(stkcd_ret, mkt_ret):\n",
      "\"the standard deviation is zero\"Warning message in cor(stkcd_ret, mkt_ret):\n",
      "\"the standard deviation is zero\"Warning message in cor(stkcd_ret, mkt_ret):\n",
      "\"the standard deviation is zero\"Warning message in cor(stkcd_ret, mkt_ret):\n",
      "\"the standard deviation is zero\"Warning message in cor(stkcd_ret, mkt_ret):\n",
      "\"the standard deviation is zero\""
     ]
    },
    {
     "data": {
      "text/html": [
       "<table>\n",
       "<thead><tr><th scope=col>symbol</th><th scope=col>cor_coef</th></tr></thead>\n",
       "<tbody>\n",
       "\t<tr><td>300331.SZ</td><td>1.0000000</td></tr>\n",
       "\t<tr><td>600508.SH</td><td>0.9279554</td></tr>\n",
       "\t<tr><td>601101.SH</td><td>0.9097758</td></tr>\n",
       "\t<tr><td>000685.SZ</td><td>0.8979148</td></tr>\n",
       "\t<tr><td>601666.SH</td><td>0.8939529</td></tr>\n",
       "</tbody>\n",
       "</table>\n"
      ],
      "text/latex": [
       "\\begin{tabular}{r|ll}\n",
       " symbol & cor\\_coef\\\\\n",
       "\\hline\n",
       "\t 300331.SZ & 1.0000000\\\\\n",
       "\t 600508.SH & 0.9279554\\\\\n",
       "\t 601101.SH & 0.9097758\\\\\n",
       "\t 000685.SZ & 0.8979148\\\\\n",
       "\t 601666.SH & 0.8939529\\\\\n",
       "\\end{tabular}\n"
      ],
      "text/markdown": [
       "\n",
       "| symbol | cor_coef |\n",
       "|---|---|\n",
       "| 300331.SZ | 1.0000000 |\n",
       "| 600508.SH | 0.9279554 |\n",
       "| 601101.SH | 0.9097758 |\n",
       "| 000685.SZ | 0.8979148 |\n",
       "| 601666.SH | 0.8939529 |\n",
       "\n"
      ],
      "text/plain": [
       "  symbol    cor_coef \n",
       "1 300331.SZ 1.0000000\n",
       "2 600508.SH 0.9279554\n",
       "3 601101.SH 0.9097758\n",
       "4 000685.SZ 0.8979148\n",
       "5 601666.SH 0.8939529"
      ]
     },
     "metadata": {},
     "output_type": "display_data"
    }
   ],
   "source": [
    "data[, .(stkcd_ret = close/pre_close - 1, mkt_weight = capt/sum(capt), symbol), keyby = .(date)\n",
    "    ][, .(stkcd_ret, mkt_ret = sum(mkt_weight * stkcd_ret), symbol), keyby = .(date)\n",
    "    ][, .(cor_coef = cor(stkcd_ret, mkt_ret)), keyby = symbol\n",
    "    ][order(-cor_coef), .SD[1:10]\n",
    "    ][1:5]"
   ]
  },
  {
   "cell_type": "markdown",
   "metadata": {},
   "source": [
    "## 44. 每个行业日收益率的历史波动率是多少？（用日收益率计算标准差）"
   ]
  },
  {
   "cell_type": "code",
   "execution_count": 65,
   "metadata": {
    "scrolled": true
   },
   "outputs": [
    {
     "data": {
      "text/html": [
       "<table>\n",
       "<thead><tr><th scope=col>industry</th><th scope=col>ind_vol</th></tr></thead>\n",
       "<tbody>\n",
       "\t<tr><td>AERODEF    </td><td>0.017499519</td></tr>\n",
       "\t<tr><td>AIRLINE    </td><td>0.017127041</td></tr>\n",
       "\t<tr><td>AUTO       </td><td>0.015096513</td></tr>\n",
       "\t<tr><td>BANKS      </td><td>0.008105859</td></tr>\n",
       "\t<tr><td>BEV        </td><td>0.016407569</td></tr>\n",
       "</tbody>\n",
       "</table>\n"
      ],
      "text/latex": [
       "\\begin{tabular}{r|ll}\n",
       " industry & ind\\_vol\\\\\n",
       "\\hline\n",
       "\t AERODEF     & 0.017499519\\\\\n",
       "\t AIRLINE     & 0.017127041\\\\\n",
       "\t AUTO        & 0.015096513\\\\\n",
       "\t BANKS       & 0.008105859\\\\\n",
       "\t BEV         & 0.016407569\\\\\n",
       "\\end{tabular}\n"
      ],
      "text/markdown": [
       "\n",
       "| industry | ind_vol |\n",
       "|---|---|\n",
       "| AERODEF     | 0.017499519 |\n",
       "| AIRLINE     | 0.017127041 |\n",
       "| AUTO        | 0.015096513 |\n",
       "| BANKS       | 0.008105859 |\n",
       "| BEV         | 0.016407569 |\n",
       "\n"
      ],
      "text/plain": [
       "  industry ind_vol    \n",
       "1 AERODEF  0.017499519\n",
       "2 AIRLINE  0.017127041\n",
       "3 AUTO     0.015096513\n",
       "4 BANKS    0.008105859\n",
       "5 BEV      0.016407569"
      ]
     },
     "metadata": {},
     "output_type": "display_data"
    }
   ],
   "source": [
    "data[, .(stkcd_ret = close/pre_close - 1, ind_weight = capt/sum(capt), symbol), keyby = .(industry, date)\n",
    "    ][, .(ind_ret = sum(stkcd_ret * ind_weight)), keyby = .(industry, date)\n",
    "    ][, .(ind_vol = sd(ind_ret)), keyby = .(industry)\n",
    "    ][1:5]"
   ]
  },
  {
   "cell_type": "markdown",
   "metadata": {},
   "source": [
    "## 45. 各个行业的日收益率的相关系数矩阵如何？哪两个行业相关性最高、最低？"
   ]
  },
  {
   "cell_type": "code",
   "execution_count": 66,
   "metadata": {
    "scrolled": true
   },
   "outputs": [
    {
     "data": {
      "text/html": [
       "<table>\n",
       "<thead><tr><th></th><th scope=col>row</th><th scope=col>col</th></tr></thead>\n",
       "<tbody>\n",
       "\t<tr><th scope=row>HDWRSEMI</th><td>16</td><td>13</td></tr>\n",
       "\t<tr><th scope=row>ELECEQP</th><td>13</td><td>16</td></tr>\n",
       "</tbody>\n",
       "</table>\n"
      ],
      "text/latex": [
       "\\begin{tabular}{r|ll}\n",
       "  & row & col\\\\\n",
       "\\hline\n",
       "\tHDWRSEMI & 16 & 13\\\\\n",
       "\tELECEQP & 13 & 16\\\\\n",
       "\\end{tabular}\n"
      ],
      "text/markdown": [
       "\n",
       "| <!--/--> | row | col |\n",
       "|---|---|---|\n",
       "| HDWRSEMI | 16 | 13 |\n",
       "| ELECEQP | 13 | 16 |\n",
       "\n"
      ],
      "text/plain": [
       "         row col\n",
       "HDWRSEMI 16  13 \n",
       "ELECEQP  13  16 "
      ]
     },
     "metadata": {},
     "output_type": "display_data"
    },
    {
     "data": {
      "text/html": [
       "<table>\n",
       "<thead><tr><th></th><th scope=col>row</th><th scope=col>col</th></tr></thead>\n",
       "<tbody>\n",
       "\t<tr><th scope=row>BEV</th><td>5</td><td>4</td></tr>\n",
       "\t<tr><th scope=row>BANKS</th><td>4</td><td>5</td></tr>\n",
       "</tbody>\n",
       "</table>\n"
      ],
      "text/latex": [
       "\\begin{tabular}{r|ll}\n",
       "  & row & col\\\\\n",
       "\\hline\n",
       "\tBEV & 5 & 4\\\\\n",
       "\tBANKS & 4 & 5\\\\\n",
       "\\end{tabular}\n"
      ],
      "text/markdown": [
       "\n",
       "| <!--/--> | row | col |\n",
       "|---|---|---|\n",
       "| BEV | 5 | 4 |\n",
       "| BANKS | 4 | 5 |\n",
       "\n"
      ],
      "text/plain": [
       "      row col\n",
       "BEV   5   4  \n",
       "BANKS 4   5  "
      ]
     },
     "metadata": {},
     "output_type": "display_data"
    }
   ],
   "source": [
    "cor.coef <- data[, .(stkcd_ret = close/pre_close - 1, ind_weight = capt/sum(capt), symbol, capt), keyby = .(industry, date)\n",
    "    ][, .(ind_ret = sum(stkcd_ret * ind_weight)), keyby = .(industry, date)\n",
    "    ][,  dcast(.SD, date ~ industry, value.var = \"ind_ret\")\n",
    "    ][, cor(.SD[, -1])]\n",
    "\n",
    "which(max(cor.coef[cor.coef != 1]) == cor.coef, arr.ind = TRUE)\n",
    "\n",
    "which(min(cor.coef) == cor.coef, arr.ind = TRUE)\n",
    "\n",
    "rm(cor.coef)"
   ]
  },
  {
   "cell_type": "markdown",
   "metadata": {},
   "source": [
    "## 46. 各个行业的收益率对市场收益率的相关系数由高到低排列如何？"
   ]
  },
  {
   "cell_type": "code",
   "execution_count": 67,
   "metadata": {
    "scrolled": true
   },
   "outputs": [
    {
     "data": {
      "text/html": [
       "<table>\n",
       "<thead><tr><th scope=col>industry</th><th scope=col>cor_coef</th></tr></thead>\n",
       "<tbody>\n",
       "\t<tr><td>TRDDIST  </td><td>0.9519013</td></tr>\n",
       "\t<tr><td>MACH     </td><td>0.9511527</td></tr>\n",
       "\t<tr><td>CHEM     </td><td>0.9455305</td></tr>\n",
       "\t<tr><td>ELECEQP  </td><td>0.9451663</td></tr>\n",
       "\t<tr><td>CNSTENG  </td><td>0.9446049</td></tr>\n",
       "</tbody>\n",
       "</table>\n"
      ],
      "text/latex": [
       "\\begin{tabular}{r|ll}\n",
       " industry & cor\\_coef\\\\\n",
       "\\hline\n",
       "\t TRDDIST   & 0.9519013\\\\\n",
       "\t MACH      & 0.9511527\\\\\n",
       "\t CHEM      & 0.9455305\\\\\n",
       "\t ELECEQP   & 0.9451663\\\\\n",
       "\t CNSTENG   & 0.9446049\\\\\n",
       "\\end{tabular}\n"
      ],
      "text/markdown": [
       "\n",
       "| industry | cor_coef |\n",
       "|---|---|\n",
       "| TRDDIST   | 0.9519013 |\n",
       "| MACH      | 0.9511527 |\n",
       "| CHEM      | 0.9455305 |\n",
       "| ELECEQP   | 0.9451663 |\n",
       "| CNSTENG   | 0.9446049 |\n",
       "\n"
      ],
      "text/plain": [
       "  industry cor_coef \n",
       "1 TRDDIST  0.9519013\n",
       "2 MACH     0.9511527\n",
       "3 CHEM     0.9455305\n",
       "4 ELECEQP  0.9451663\n",
       "5 CNSTENG  0.9446049"
      ]
     },
     "metadata": {},
     "output_type": "display_data"
    }
   ],
   "source": [
    "data[, .(stkcd_ret = close/pre_close - 1, symbol, ind_weight = capt/sum(capt), capt), keyby = .(industry,date)\n",
    "    ][, .(ind_ret = sum(ind_weight*stkcd_ret), stkcd_ret, symbol, capt), keyby = .(industry, date)\n",
    "    ][, .(ind_ret, mkt_weight = capt/sum(capt), stkcd_ret, industry), keyby = date\n",
    "    ][, .(ind_ret, mkt_ret = sum(mkt_weight*stkcd_ret), industry), keyby = date\n",
    "    ][, unique(.SD)\n",
    "    ][, .(cor_coef = cor(ind_ret, mkt_ret)), keyby = .(industry)\n",
    "    ][order(-cor_coef)\n",
    "    ][1:5]"
   ]
  },
  {
   "cell_type": "markdown",
   "metadata": {},
   "source": [
    "## 47. 每个月总成交额比上个月下降幅度最大的行业是哪个？"
   ]
  },
  {
   "cell_type": "code",
   "execution_count": 70,
   "metadata": {
    "scrolled": true
   },
   "outputs": [
    {
     "data": {
      "text/html": [
       "<table>\n",
       "<thead><tr><th scope=col>date_ym</th><th scope=col>industry</th><th scope=col>dn_m_range</th></tr></thead>\n",
       "<tbody>\n",
       "\t<tr><td>201203       </td><td>CONMAT       </td><td> -21752549725</td></tr>\n",
       "\t<tr><td>201204       </td><td>MTLMIN       </td><td>-165775634730</td></tr>\n",
       "\t<tr><td>201205       </td><td>REALEST      </td><td>  -4528375663</td></tr>\n",
       "\t<tr><td>201206       </td><td>MTLMIN       </td><td>-123271994315</td></tr>\n",
       "</tbody>\n",
       "</table>\n"
      ],
      "text/latex": [
       "\\begin{tabular}{r|lll}\n",
       " date\\_ym & industry & dn\\_m\\_range\\\\\n",
       "\\hline\n",
       "\t 201203        & CONMAT        &  -21752549725\\\\\n",
       "\t 201204        & MTLMIN        & -165775634730\\\\\n",
       "\t 201205        & REALEST       &   -4528375663\\\\\n",
       "\t 201206        & MTLMIN        & -123271994315\\\\\n",
       "\\end{tabular}\n"
      ],
      "text/markdown": [
       "\n",
       "| date_ym | industry | dn_m_range |\n",
       "|---|---|---|\n",
       "| 201203        | CONMAT        |  -21752549725 |\n",
       "| 201204        | MTLMIN        | -165775634730 |\n",
       "| 201205        | REALEST       |   -4528375663 |\n",
       "| 201206        | MTLMIN        | -123271994315 |\n",
       "\n"
      ],
      "text/plain": [
       "  date_ym industry dn_m_range   \n",
       "1 201203  CONMAT    -21752549725\n",
       "2 201204  MTLMIN   -165775634730\n",
       "3 201205  REALEST    -4528375663\n",
       "4 201206  MTLMIN   -123271994315"
      ]
     },
     "metadata": {},
     "output_type": "display_data"
    }
   ],
   "source": [
    "data[, .(date_ym = str_sub(date, start = 1, end = 6), amount), keyby = .(industry, date)\n",
    "    ][, .(ind_m_amount = sum(amount)), keyby = .(industry, date_ym)\n",
    "    ][, .(dn_m_range = {\n",
    "        a <- vector()\n",
    "        for (t in 2:.N) {\n",
    "            a[t] <- ind_m_amount[t] - ind_m_amount[t-1]\n",
    "        }\n",
    "        a \n",
    "    }, date_ym = date_ym), keyby = industry\n",
    "    ][!is.na(dn_m_range), .SD[min(dn_m_range) == dn_m_range & dn_m_range < 0], keyby = date_ym]"
   ]
  },
  {
   "cell_type": "markdown",
   "metadata": {},
   "source": [
    "## 48. 数据当中各个股票的最大回撤幅度是多少？（最大回撤是从一个高点到低点的降幅的最大值）"
   ]
  },
  {
   "cell_type": "code",
   "execution_count": 71,
   "metadata": {
    "scrolled": true
   },
   "outputs": [
    {
     "data": {
      "text/html": [
       "<table>\n",
       "<thead><tr><th scope=col>symbol</th><th scope=col>max_rtrt</th></tr></thead>\n",
       "<tbody>\n",
       "\t<tr><td>000001.SZ</td><td>3.33     </td></tr>\n",
       "\t<tr><td>000002.SZ</td><td>2.43     </td></tr>\n",
       "\t<tr><td>000004.SZ</td><td>2.93     </td></tr>\n",
       "\t<tr><td>000005.SZ</td><td>1.74     </td></tr>\n",
       "\t<tr><td>000006.SZ</td><td>3.00     </td></tr>\n",
       "</tbody>\n",
       "</table>\n"
      ],
      "text/latex": [
       "\\begin{tabular}{r|ll}\n",
       " symbol & max\\_rtrt\\\\\n",
       "\\hline\n",
       "\t 000001.SZ & 3.33     \\\\\n",
       "\t 000002.SZ & 2.43     \\\\\n",
       "\t 000004.SZ & 2.93     \\\\\n",
       "\t 000005.SZ & 1.74     \\\\\n",
       "\t 000006.SZ & 3.00     \\\\\n",
       "\\end{tabular}\n"
      ],
      "text/markdown": [
       "\n",
       "| symbol | max_rtrt |\n",
       "|---|---|\n",
       "| 000001.SZ | 3.33      |\n",
       "| 000002.SZ | 2.43      |\n",
       "| 000004.SZ | 2.93      |\n",
       "| 000005.SZ | 1.74      |\n",
       "| 000006.SZ | 3.00      |\n",
       "\n"
      ],
      "text/plain": [
       "  symbol    max_rtrt\n",
       "1 000001.SZ 3.33    \n",
       "2 000002.SZ 2.43    \n",
       "3 000004.SZ 2.93    \n",
       "4 000005.SZ 1.74    \n",
       "5 000006.SZ 3.00    "
      ]
     },
     "metadata": {},
     "output_type": "display_data"
    }
   ],
   "source": [
    "data[, .(max_rtrt = max(high) - min(low)), keyby = symbol\n",
    "    ][1:5]"
   ]
  },
  {
   "cell_type": "markdown",
   "metadata": {},
   "source": [
    "## 49. 每只股票的胜率是多少？（胜率是每天收益率为正数的概率）"
   ]
  },
  {
   "cell_type": "code",
   "execution_count": 72,
   "metadata": {
    "scrolled": true
   },
   "outputs": [
    {
     "data": {
      "text/html": [
       "<table>\n",
       "<thead><tr><th scope=col>symbol</th><th scope=col>gain_ratio</th></tr></thead>\n",
       "<tbody>\n",
       "\t<tr><td>000001.SZ</td><td>0.4188034</td></tr>\n",
       "\t<tr><td>000002.SZ</td><td>0.4700855</td></tr>\n",
       "\t<tr><td>000004.SZ</td><td>0.5128205</td></tr>\n",
       "\t<tr><td>000005.SZ</td><td>0.1538462</td></tr>\n",
       "\t<tr><td>000006.SZ</td><td>0.5128205</td></tr>\n",
       "</tbody>\n",
       "</table>\n"
      ],
      "text/latex": [
       "\\begin{tabular}{r|ll}\n",
       " symbol & gain\\_ratio\\\\\n",
       "\\hline\n",
       "\t 000001.SZ & 0.4188034\\\\\n",
       "\t 000002.SZ & 0.4700855\\\\\n",
       "\t 000004.SZ & 0.5128205\\\\\n",
       "\t 000005.SZ & 0.1538462\\\\\n",
       "\t 000006.SZ & 0.5128205\\\\\n",
       "\\end{tabular}\n"
      ],
      "text/markdown": [
       "\n",
       "| symbol | gain_ratio |\n",
       "|---|---|\n",
       "| 000001.SZ | 0.4188034 |\n",
       "| 000002.SZ | 0.4700855 |\n",
       "| 000004.SZ | 0.5128205 |\n",
       "| 000005.SZ | 0.1538462 |\n",
       "| 000006.SZ | 0.5128205 |\n",
       "\n"
      ],
      "text/plain": [
       "  symbol    gain_ratio\n",
       "1 000001.SZ 0.4188034 \n",
       "2 000002.SZ 0.4700855 \n",
       "3 000004.SZ 0.5128205 \n",
       "4 000005.SZ 0.1538462 \n",
       "5 000006.SZ 0.5128205 "
      ]
     },
     "metadata": {},
     "output_type": "display_data"
    }
   ],
   "source": [
    "data[, .(stkcd_ret = close/pre_close - 1), keyby = .(symbol, date)\n",
    "    ][, .(gain_ratio = sum(stkcd_ret > 0)/.N), keyby = symbol\n",
    "    ][1:5]"
   ]
  },
  {
   "cell_type": "markdown",
   "metadata": {},
   "source": [
    "## 50. 每只股票的盈亏比是多少？（盈亏比是正收益之和与负收益之和的比值的绝对值）"
   ]
  },
  {
   "cell_type": "code",
   "execution_count": 73,
   "metadata": {
    "scrolled": true
   },
   "outputs": [
    {
     "data": {
      "text/html": [
       "<table>\n",
       "<thead><tr><th scope=col>symbol</th><th scope=col>gl_ratio</th></tr></thead>\n",
       "<tbody>\n",
       "\t<tr><td>000001.SZ</td><td>0.9718614</td></tr>\n",
       "\t<tr><td>000002.SZ</td><td>1.2796856</td></tr>\n",
       "\t<tr><td>000004.SZ</td><td>1.0828690</td></tr>\n",
       "\t<tr><td>000005.SZ</td><td>0.5532427</td></tr>\n",
       "\t<tr><td>000006.SZ</td><td>1.3719934</td></tr>\n",
       "</tbody>\n",
       "</table>\n"
      ],
      "text/latex": [
       "\\begin{tabular}{r|ll}\n",
       " symbol & gl\\_ratio\\\\\n",
       "\\hline\n",
       "\t 000001.SZ & 0.9718614\\\\\n",
       "\t 000002.SZ & 1.2796856\\\\\n",
       "\t 000004.SZ & 1.0828690\\\\\n",
       "\t 000005.SZ & 0.5532427\\\\\n",
       "\t 000006.SZ & 1.3719934\\\\\n",
       "\\end{tabular}\n"
      ],
      "text/markdown": [
       "\n",
       "| symbol | gl_ratio |\n",
       "|---|---|\n",
       "| 000001.SZ | 0.9718614 |\n",
       "| 000002.SZ | 1.2796856 |\n",
       "| 000004.SZ | 1.0828690 |\n",
       "| 000005.SZ | 0.5532427 |\n",
       "| 000006.SZ | 1.3719934 |\n",
       "\n"
      ],
      "text/plain": [
       "  symbol    gl_ratio \n",
       "1 000001.SZ 0.9718614\n",
       "2 000002.SZ 1.2796856\n",
       "3 000004.SZ 1.0828690\n",
       "4 000005.SZ 0.5532427\n",
       "5 000006.SZ 1.3719934"
      ]
     },
     "metadata": {},
     "output_type": "display_data"
    }
   ],
   "source": [
    "data[, .(stkcd_ret = close/pre_close - 1), keyby = .(symbol, date)\n",
    "    ][, .(stkcd_ret_pn = sum(stkcd_ret)), keyby = .(symbol, tag = ifelse(stkcd_ret > 0, \"gain\", \"loss\"))\n",
    "    ][, .(gl_ratio = abs(stkcd_ret_pn[1]/stkcd_ret_pn[.N])), keyby = symbol\n",
    "    ][1:5]"
   ]
  },
  {
   "cell_type": "markdown",
   "metadata": {},
   "source": [
    "## 51. 市场的胜率是多少？（市场收益率为正的概率）"
   ]
  },
  {
   "cell_type": "code",
   "execution_count": 75,
   "metadata": {},
   "outputs": [
    {
     "data": {
      "text/html": [
       "<table>\n",
       "<thead><tr><th scope=col>gain_ratio</th></tr></thead>\n",
       "<tbody>\n",
       "\t<tr><td>0.4871795</td></tr>\n",
       "</tbody>\n",
       "</table>\n"
      ],
      "text/latex": [
       "\\begin{tabular}{r|l}\n",
       " gain\\_ratio\\\\\n",
       "\\hline\n",
       "\t 0.4871795\\\\\n",
       "\\end{tabular}\n"
      ],
      "text/markdown": [
       "\n",
       "| gain_ratio |\n",
       "|---|\n",
       "| 0.4871795 |\n",
       "\n"
      ],
      "text/plain": [
       "  gain_ratio\n",
       "1 0.4871795 "
      ]
     },
     "metadata": {},
     "output_type": "display_data"
    }
   ],
   "source": [
    "data[, .(stkcd_ret = close/pre_close - 1, mkt_weight = capt/sum(capt)), keyby = date\n",
    "    ][, .(mkt_ret = sum(stkcd_ret * mkt_weight)), keyby = date\n",
    "    ][, .(gain_ratio = sum(mkt_ret > 0)/.N)]"
   ]
  },
  {
   "cell_type": "markdown",
   "metadata": {},
   "source": [
    "## 52. 市场的盈亏比是多少？（市场中每个股票的市值加权正收益和市值加权负收益之比）"
   ]
  },
  {
   "cell_type": "code",
   "execution_count": 76,
   "metadata": {
    "scrolled": true
   },
   "outputs": [
    {
     "data": {
      "text/html": [
       "<table>\n",
       "<thead><tr><th scope=col>gl_ratio</th></tr></thead>\n",
       "<tbody>\n",
       "\t<tr><td>1.147373</td></tr>\n",
       "</tbody>\n",
       "</table>\n"
      ],
      "text/latex": [
       "\\begin{tabular}{r|l}\n",
       " gl\\_ratio\\\\\n",
       "\\hline\n",
       "\t 1.147373\\\\\n",
       "\\end{tabular}\n"
      ],
      "text/markdown": [
       "\n",
       "| gl_ratio |\n",
       "|---|\n",
       "| 1.147373 |\n",
       "\n"
      ],
      "text/plain": [
       "  gl_ratio\n",
       "1 1.147373"
      ]
     },
     "metadata": {},
     "output_type": "display_data"
    }
   ],
   "source": [
    "data[, .(stkcd_ret = close/pre_close - 1, mkt_weight = capt/sum(capt)), keyby = date\n",
    "    ][, .(mkt_ret = sum(stkcd_ret * mkt_weight)), keyby = date\n",
    "    ][, .(mkt_ret_pn = sum(mkt_ret)), keyby = .(tag = ifelse(mkt_ret > 0, \"gain\", \"loss\"))\n",
    "    ][, .(gl_ratio = abs(mkt_ret_pn[1]/mkt_ret_pn[.N]))]"
   ]
  },
  {
   "cell_type": "markdown",
   "metadata": {},
   "source": [
    "## 53. 每个行业的胜率是多少？"
   ]
  },
  {
   "cell_type": "code",
   "execution_count": 77,
   "metadata": {
    "scrolled": true
   },
   "outputs": [
    {
     "data": {
      "text/html": [
       "<table>\n",
       "<thead><tr><th scope=col>industry</th><th scope=col>gain_ratio</th></tr></thead>\n",
       "<tbody>\n",
       "\t<tr><td>AERODEF  </td><td>0.5213675</td></tr>\n",
       "\t<tr><td>AIRLINE  </td><td>0.4786325</td></tr>\n",
       "\t<tr><td>AUTO     </td><td>0.4700855</td></tr>\n",
       "\t<tr><td>BANKS    </td><td>0.4615385</td></tr>\n",
       "\t<tr><td>BEV      </td><td>0.5470085</td></tr>\n",
       "</tbody>\n",
       "</table>\n"
      ],
      "text/latex": [
       "\\begin{tabular}{r|ll}\n",
       " industry & gain\\_ratio\\\\\n",
       "\\hline\n",
       "\t AERODEF   & 0.5213675\\\\\n",
       "\t AIRLINE   & 0.4786325\\\\\n",
       "\t AUTO      & 0.4700855\\\\\n",
       "\t BANKS     & 0.4615385\\\\\n",
       "\t BEV       & 0.5470085\\\\\n",
       "\\end{tabular}\n"
      ],
      "text/markdown": [
       "\n",
       "| industry | gain_ratio |\n",
       "|---|---|\n",
       "| AERODEF   | 0.5213675 |\n",
       "| AIRLINE   | 0.4786325 |\n",
       "| AUTO      | 0.4700855 |\n",
       "| BANKS     | 0.4615385 |\n",
       "| BEV       | 0.5470085 |\n",
       "\n"
      ],
      "text/plain": [
       "  industry gain_ratio\n",
       "1 AERODEF  0.5213675 \n",
       "2 AIRLINE  0.4786325 \n",
       "3 AUTO     0.4700855 \n",
       "4 BANKS    0.4615385 \n",
       "5 BEV      0.5470085 "
      ]
     },
     "metadata": {},
     "output_type": "display_data"
    }
   ],
   "source": [
    "data[, .(stkcd_ret = close/pre_close - 1, ind_weight = capt/sum(capt)), keyby = .(industry, date)\n",
    "    ][, .(ind_ret = sum(stkcd_ret * ind_weight)), keyby = .(industry, date)\n",
    "    ][, .(gain_ratio = sum(ind_ret > 0)/.N), keyby = industry\n",
    "    ][1:5]"
   ]
  },
  {
   "cell_type": "markdown",
   "metadata": {},
   "source": [
    "## 54. 每个行业的盈亏比是多少？（行业盈亏比是行业内每个股票的市值加权的正收益率和市值加权的负收益率之比）"
   ]
  },
  {
   "cell_type": "code",
   "execution_count": 78,
   "metadata": {
    "scrolled": true
   },
   "outputs": [
    {
     "data": {
      "text/html": [
       "<table>\n",
       "<thead><tr><th scope=col>industry</th><th scope=col>gl_ratio</th></tr></thead>\n",
       "<tbody>\n",
       "\t<tr><td>AERODEF  </td><td>0.9973617</td></tr>\n",
       "\t<tr><td>AIRLINE  </td><td>1.0715381</td></tr>\n",
       "\t<tr><td>AUTO     </td><td>1.1206090</td></tr>\n",
       "\t<tr><td>BANKS    </td><td>1.0158729</td></tr>\n",
       "\t<tr><td>BEV      </td><td>1.2812672</td></tr>\n",
       "</tbody>\n",
       "</table>\n"
      ],
      "text/latex": [
       "\\begin{tabular}{r|ll}\n",
       " industry & gl\\_ratio\\\\\n",
       "\\hline\n",
       "\t AERODEF   & 0.9973617\\\\\n",
       "\t AIRLINE   & 1.0715381\\\\\n",
       "\t AUTO      & 1.1206090\\\\\n",
       "\t BANKS     & 1.0158729\\\\\n",
       "\t BEV       & 1.2812672\\\\\n",
       "\\end{tabular}\n"
      ],
      "text/markdown": [
       "\n",
       "| industry | gl_ratio |\n",
       "|---|---|\n",
       "| AERODEF   | 0.9973617 |\n",
       "| AIRLINE   | 1.0715381 |\n",
       "| AUTO      | 1.1206090 |\n",
       "| BANKS     | 1.0158729 |\n",
       "| BEV       | 1.2812672 |\n",
       "\n"
      ],
      "text/plain": [
       "  industry gl_ratio \n",
       "1 AERODEF  0.9973617\n",
       "2 AIRLINE  1.0715381\n",
       "3 AUTO     1.1206090\n",
       "4 BANKS    1.0158729\n",
       "5 BEV      1.2812672"
      ]
     },
     "metadata": {},
     "output_type": "display_data"
    }
   ],
   "source": [
    "data[, .(stkcd_ret = close/pre_close - 1, ind_weight = capt/sum(capt)), keyby = .(industry, date)\n",
    "    ][, .(ind_ret = sum(stkcd_ret * ind_weight)), keyby = .(industry, date)\n",
    "    ][, .(ind_ret_pn = sum(ind_ret)), keyby = .(industry, tag = ifelse(ind_ret > 0, \"gain\", \"loss\"))\n",
    "    ][, .(gl_ratio = abs(ind_ret_pn[1]/ind_ret_pn[.N])), keyby = industry\n",
    "    ][1:5]"
   ]
  },
  {
   "cell_type": "markdown",
   "metadata": {},
   "source": [
    "## 55. 是否存在股票的月成交额超过所在行业当月中某天一天总成交额的情况？"
   ]
  },
  {
   "cell_type": "code",
   "execution_count": 79,
   "metadata": {
    "scrolled": true
   },
   "outputs": [
    {
     "data": {
      "text/html": [
       "<table>\n",
       "<thead><tr><th scope=col>industry</th><th scope=col>date</th><th scope=col>stkcd_m_amount</th><th scope=col>ind_d_amount</th><th scope=col>date_ym</th><th scope=col>symbol</th></tr></thead>\n",
       "<tbody>\n",
       "\t<tr><td>AERODEF   </td><td>20120104  </td><td>1460111191</td><td>493331236 </td><td>201201    </td><td>000768.SZ </td></tr>\n",
       "\t<tr><td>AERODEF   </td><td>20120104  </td><td> 976641005</td><td>493331236 </td><td>201201    </td><td>002025.SZ </td></tr>\n",
       "\t<tr><td>AERODEF   </td><td>20120104  </td><td>1125117546</td><td>493331236 </td><td>201201    </td><td>600118.SH </td></tr>\n",
       "\t<tr><td>AERODEF   </td><td>20120104  </td><td>1522650678</td><td>493331236 </td><td>201201    </td><td>600316.SH </td></tr>\n",
       "\t<tr><td>AERODEF   </td><td>20120104  </td><td> 675067956</td><td>493331236 </td><td>201201    </td><td>600879.SH </td></tr>\n",
       "</tbody>\n",
       "</table>\n"
      ],
      "text/latex": [
       "\\begin{tabular}{r|llllll}\n",
       " industry & date & stkcd\\_m\\_amount & ind\\_d\\_amount & date\\_ym & symbol\\\\\n",
       "\\hline\n",
       "\t AERODEF    & 20120104   & 1460111191 & 493331236  & 201201     & 000768.SZ \\\\\n",
       "\t AERODEF    & 20120104   &  976641005 & 493331236  & 201201     & 002025.SZ \\\\\n",
       "\t AERODEF    & 20120104   & 1125117546 & 493331236  & 201201     & 600118.SH \\\\\n",
       "\t AERODEF    & 20120104   & 1522650678 & 493331236  & 201201     & 600316.SH \\\\\n",
       "\t AERODEF    & 20120104   &  675067956 & 493331236  & 201201     & 600879.SH \\\\\n",
       "\\end{tabular}\n"
      ],
      "text/markdown": [
       "\n",
       "| industry | date | stkcd_m_amount | ind_d_amount | date_ym | symbol |\n",
       "|---|---|---|---|---|---|\n",
       "| AERODEF    | 20120104   | 1460111191 | 493331236  | 201201     | 000768.SZ  |\n",
       "| AERODEF    | 20120104   |  976641005 | 493331236  | 201201     | 002025.SZ  |\n",
       "| AERODEF    | 20120104   | 1125117546 | 493331236  | 201201     | 600118.SH  |\n",
       "| AERODEF    | 20120104   | 1522650678 | 493331236  | 201201     | 600316.SH  |\n",
       "| AERODEF    | 20120104   |  675067956 | 493331236  | 201201     | 600879.SH  |\n",
       "\n"
      ],
      "text/plain": [
       "  industry date     stkcd_m_amount ind_d_amount date_ym symbol   \n",
       "1 AERODEF  20120104 1460111191     493331236    201201  000768.SZ\n",
       "2 AERODEF  20120104  976641005     493331236    201201  002025.SZ\n",
       "3 AERODEF  20120104 1125117546     493331236    201201  600118.SH\n",
       "4 AERODEF  20120104 1522650678     493331236    201201  600316.SH\n",
       "5 AERODEF  20120104  675067956     493331236    201201  600879.SH"
      ]
     },
     "metadata": {},
     "output_type": "display_data"
    }
   ],
   "source": [
    "data[, .(date_ym = str_sub(date, start = 1, end = 6), amount, industry), keyby = .(symbol, date)\n",
    "    ][, .(stkcd_m_amount = sum(amount), amount, industry, date), keyby = .(date_ym, symbol)\n",
    "    ][, .(stkcd_m_amount, ind_d_amount = sum(amount), date_ym, symbol), keyby = .(industry, date)\n",
    "    ][stkcd_m_amount > ind_d_amount\n",
    "    ][1:5]"
   ]
  },
  {
   "cell_type": "markdown",
   "metadata": {},
   "source": [
    "## 56. 每天每个行业编入、编出的股票各有多少？"
   ]
  },
  {
   "cell_type": "code",
   "execution_count": 80,
   "metadata": {
    "scrolled": true
   },
   "outputs": [
    {
     "data": {
      "text/html": [
       "<table>\n",
       "<thead><tr><th scope=col>industry</th><th scope=col>export</th><th scope=col>import</th></tr></thead>\n",
       "<tbody>\n",
       "\t<tr><td>AERODEF</td><td>0      </td><td>0      </td></tr>\n",
       "\t<tr><td>AERODEF</td><td>0      </td><td>0      </td></tr>\n",
       "\t<tr><td>AERODEF</td><td>0      </td><td>0      </td></tr>\n",
       "\t<tr><td>AERODEF</td><td>0      </td><td>0      </td></tr>\n",
       "\t<tr><td>AERODEF</td><td>0      </td><td>0      </td></tr>\n",
       "</tbody>\n",
       "</table>\n"
      ],
      "text/latex": [
       "\\begin{tabular}{r|lll}\n",
       " industry & export & import\\\\\n",
       "\\hline\n",
       "\t AERODEF & 0       & 0      \\\\\n",
       "\t AERODEF & 0       & 0      \\\\\n",
       "\t AERODEF & 0       & 0      \\\\\n",
       "\t AERODEF & 0       & 0      \\\\\n",
       "\t AERODEF & 0       & 0      \\\\\n",
       "\\end{tabular}\n"
      ],
      "text/markdown": [
       "\n",
       "| industry | export | import |\n",
       "|---|---|---|\n",
       "| AERODEF | 0       | 0       |\n",
       "| AERODEF | 0       | 0       |\n",
       "| AERODEF | 0       | 0       |\n",
       "| AERODEF | 0       | 0       |\n",
       "| AERODEF | 0       | 0       |\n",
       "\n"
      ],
      "text/plain": [
       "  industry export import\n",
       "1 AERODEF  0      0     \n",
       "2 AERODEF  0      0     \n",
       "3 AERODEF  0      0     \n",
       "4 AERODEF  0      0     \n",
       "5 AERODEF  0      0     "
      ]
     },
     "metadata": {},
     "output_type": "display_data"
    }
   ],
   "source": [
    "data[, .(symbol_list = list(symbol)), keyby = .(industry, date)\n",
    "    ][, {\n",
    "        l <- list()\n",
    "        for (i in 2:.N) {\n",
    "            intec <- intersect(symbol_list[[i]], symbol_list[[i-1]]) %>% length()\n",
    "            len1 <- length(symbol_list[[i]])\n",
    "            len2 <- length(symbol_list[[i-1]])\n",
    "            l[[i]] <- list(export = len2-intec, import = len1-intec)\n",
    "        }\n",
    "        rbindlist(l)\n",
    "    }, keyby = industry\n",
    "    ][1:5]"
   ]
  },
  {
   "cell_type": "markdown",
   "metadata": {},
   "source": [
    "## 57. 每天每个行业内股票收益率的标准差是多少？"
   ]
  },
  {
   "cell_type": "code",
   "execution_count": 81,
   "metadata": {
    "scrolled": true
   },
   "outputs": [
    {
     "data": {
      "text/html": [
       "<table>\n",
       "<thead><tr><th scope=col>industry</th><th scope=col>date</th><th scope=col>ret_sd</th></tr></thead>\n",
       "<tbody>\n",
       "\t<tr><td>AERODEF   </td><td>20120104  </td><td>0.02836880</td></tr>\n",
       "\t<tr><td>AERODEF   </td><td>20120105  </td><td>0.02902021</td></tr>\n",
       "\t<tr><td>AERODEF   </td><td>20120106  </td><td>0.03193141</td></tr>\n",
       "\t<tr><td>AERODEF   </td><td>20120109  </td><td>0.01377493</td></tr>\n",
       "\t<tr><td>AERODEF   </td><td>20120110  </td><td>0.01417229</td></tr>\n",
       "</tbody>\n",
       "</table>\n"
      ],
      "text/latex": [
       "\\begin{tabular}{r|lll}\n",
       " industry & date & ret\\_sd\\\\\n",
       "\\hline\n",
       "\t AERODEF    & 20120104   & 0.02836880\\\\\n",
       "\t AERODEF    & 20120105   & 0.02902021\\\\\n",
       "\t AERODEF    & 20120106   & 0.03193141\\\\\n",
       "\t AERODEF    & 20120109   & 0.01377493\\\\\n",
       "\t AERODEF    & 20120110   & 0.01417229\\\\\n",
       "\\end{tabular}\n"
      ],
      "text/markdown": [
       "\n",
       "| industry | date | ret_sd |\n",
       "|---|---|---|\n",
       "| AERODEF    | 20120104   | 0.02836880 |\n",
       "| AERODEF    | 20120105   | 0.02902021 |\n",
       "| AERODEF    | 20120106   | 0.03193141 |\n",
       "| AERODEF    | 20120109   | 0.01377493 |\n",
       "| AERODEF    | 20120110   | 0.01417229 |\n",
       "\n"
      ],
      "text/plain": [
       "  industry date     ret_sd    \n",
       "1 AERODEF  20120104 0.02836880\n",
       "2 AERODEF  20120105 0.02902021\n",
       "3 AERODEF  20120106 0.03193141\n",
       "4 AERODEF  20120109 0.01377493\n",
       "5 AERODEF  20120110 0.01417229"
      ]
     },
     "metadata": {},
     "output_type": "display_data"
    }
   ],
   "source": [
    "data[, .(stkcd_ret = close/pre_close - 1), keyby = .(symbol, industry, date)\n",
    "    ][, .(ret_sd = sd(stkcd_ret)), keyby = .(industry, date)\n",
    "    ][1:5]"
   ]
  },
  {
   "cell_type": "markdown",
   "metadata": {},
   "source": [
    "## 58. 每天每个行业内股票收益率的标准差的相关性如何？"
   ]
  },
  {
   "cell_type": "code",
   "execution_count": 85,
   "metadata": {
    "scrolled": true
   },
   "outputs": [
    {
     "data": {
      "text/html": [
       "<table>\n",
       "<thead><tr><th></th><th scope=col>AERODEF</th><th scope=col>AIRLINE</th><th scope=col>AUTO</th><th scope=col>BANKS</th><th scope=col>BEV</th></tr></thead>\n",
       "<tbody>\n",
       "\t<tr><th scope=row>AERODEF</th><td>1.00000000</td><td>0.11523031</td><td>0.33195634</td><td>0.08021524</td><td>0.02497865</td></tr>\n",
       "\t<tr><th scope=row>AIRLINE</th><td>0.11523031</td><td>1.00000000</td><td>0.22235548</td><td>0.02446198</td><td>0.02250268</td></tr>\n",
       "\t<tr><th scope=row>AUTO</th><td>0.33195634</td><td>0.22235548</td><td>1.00000000</td><td>0.07283962</td><td>0.26374233</td></tr>\n",
       "\t<tr><th scope=row>BANKS</th><td>0.08021524</td><td>0.02446198</td><td>0.07283962</td><td>1.00000000</td><td>0.06073737</td></tr>\n",
       "\t<tr><th scope=row>BEV</th><td>0.02497865</td><td>0.02250268</td><td>0.26374233</td><td>0.06073737</td><td>1.00000000</td></tr>\n",
       "</tbody>\n",
       "</table>\n"
      ],
      "text/latex": [
       "\\begin{tabular}{r|lllll}\n",
       "  & AERODEF & AIRLINE & AUTO & BANKS & BEV\\\\\n",
       "\\hline\n",
       "\tAERODEF & 1.00000000 & 0.11523031 & 0.33195634 & 0.08021524 & 0.02497865\\\\\n",
       "\tAIRLINE & 0.11523031 & 1.00000000 & 0.22235548 & 0.02446198 & 0.02250268\\\\\n",
       "\tAUTO & 0.33195634 & 0.22235548 & 1.00000000 & 0.07283962 & 0.26374233\\\\\n",
       "\tBANKS & 0.08021524 & 0.02446198 & 0.07283962 & 1.00000000 & 0.06073737\\\\\n",
       "\tBEV & 0.02497865 & 0.02250268 & 0.26374233 & 0.06073737 & 1.00000000\\\\\n",
       "\\end{tabular}\n"
      ],
      "text/markdown": [
       "\n",
       "| <!--/--> | AERODEF | AIRLINE | AUTO | BANKS | BEV |\n",
       "|---|---|---|---|---|---|\n",
       "| AERODEF | 1.00000000 | 0.11523031 | 0.33195634 | 0.08021524 | 0.02497865 |\n",
       "| AIRLINE | 0.11523031 | 1.00000000 | 0.22235548 | 0.02446198 | 0.02250268 |\n",
       "| AUTO | 0.33195634 | 0.22235548 | 1.00000000 | 0.07283962 | 0.26374233 |\n",
       "| BANKS | 0.08021524 | 0.02446198 | 0.07283962 | 1.00000000 | 0.06073737 |\n",
       "| BEV | 0.02497865 | 0.02250268 | 0.26374233 | 0.06073737 | 1.00000000 |\n",
       "\n"
      ],
      "text/plain": [
       "        AERODEF    AIRLINE    AUTO       BANKS      BEV       \n",
       "AERODEF 1.00000000 0.11523031 0.33195634 0.08021524 0.02497865\n",
       "AIRLINE 0.11523031 1.00000000 0.22235548 0.02446198 0.02250268\n",
       "AUTO    0.33195634 0.22235548 1.00000000 0.07283962 0.26374233\n",
       "BANKS   0.08021524 0.02446198 0.07283962 1.00000000 0.06073737\n",
       "BEV     0.02497865 0.02250268 0.26374233 0.06073737 1.00000000"
      ]
     },
     "metadata": {},
     "output_type": "display_data"
    }
   ],
   "source": [
    "data[, .(stkcd_ret = close/pre_close - 1), keyby = .(symbol, industry, date)\n",
    "    ][, .(ret_sd = sd(stkcd_ret)), keyby = .(industry, date)\n",
    "    ][, dcast(.SD, date ~ industry, value.var = \"ret_sd\")\n",
    "    ][, cor(.SD[, -1])\n",
    "    ][1:5, 1:5]"
   ]
  },
  {
   "cell_type": "markdown",
   "metadata": {},
   "source": [
    "## 59. 每天计算出成交额的 z-score （减去均值除以标准差）, 该指标能解释下一天个股超额收益率的多少比例？"
   ]
  },
  {
   "cell_type": "code",
   "execution_count": 87,
   "metadata": {
    "scrolled": true
   },
   "outputs": [
    {
     "data": {
      "text/html": [
       "0.000331348729460984"
      ],
      "text/latex": [
       "0.000331348729460984"
      ],
      "text/markdown": [
       "0.000331348729460984"
      ],
      "text/plain": [
       "[1] 0.0003313487"
      ]
     },
     "metadata": {},
     "output_type": "display_data"
    }
   ],
   "source": [
    "data[, .(stkcd_ret = close/pre_close - 1, weight = capt/sum(capt), symbol, amount), keyby = date\n",
    "    ][, .(mkt_ret = sum(weight*stkcd_ret), stkcd_ret, symbol, amount), keyby = date\n",
    "    ][, .(alpha = coef(lm(stkcd_ret ~ mkt_ret))[1], beta = coef(lm(stkcd_ret ~ mkt_ret))[2], mkt_ret, stkcd_ret, symbol, date, amount)\n",
    "    ][, .(abnr_ret = stkcd_ret - alpha - beta * mkt_ret, amount), keyby = .(date, symbol)\n",
    "    ][, .(abnr_ret, zscore = (amount - mean(amount))/ sd(amount), symbol), keyby = date\n",
    "    ][, .(abnr_lead_ret = shift(abnr_ret, n = 1L, type = \"lead\"), zscore, symbol), keyby = symbol\n",
    "    ][, summary(lm(abnr_lead_ret ~ zscore))$r.squared]"
   ]
  },
  {
   "cell_type": "markdown",
   "metadata": {},
   "source": [
    "## 60. 每个股票的收益率和300、500指数收益率可以回归出一个截距项和2个beta，这两个beta的分布如何？"
   ]
  },
  {
   "cell_type": "code",
   "execution_count": 88,
   "metadata": {
    "scrolled": true
   },
   "outputs": [
    {
     "data": {
      "text/html": [
       "<table>\n",
       "<thead><tr><th scope=col>tag</th><th scope=col>sample_mean</th><th scope=col>sample_sd</th></tr></thead>\n",
       "<tbody>\n",
       "\t<tr><td>ind_w300_ret</td><td>-0.1583057  </td><td>0.9317869   </td></tr>\n",
       "\t<tr><td>ind_w500_ret</td><td> 1.1264276  </td><td>0.8311509   </td></tr>\n",
       "</tbody>\n",
       "</table>\n"
      ],
      "text/latex": [
       "\\begin{tabular}{r|lll}\n",
       " tag & sample\\_mean & sample\\_sd\\\\\n",
       "\\hline\n",
       "\t ind\\_w300\\_ret & -0.1583057       & 0.9317869       \\\\\n",
       "\t ind\\_w500\\_ret &  1.1264276       & 0.8311509       \\\\\n",
       "\\end{tabular}\n"
      ],
      "text/markdown": [
       "\n",
       "| tag | sample_mean | sample_sd |\n",
       "|---|---|---|\n",
       "| ind_w300_ret | -0.1583057   | 0.9317869    |\n",
       "| ind_w500_ret |  1.1264276   | 0.8311509    |\n",
       "\n"
      ],
      "text/plain": [
       "  tag          sample_mean sample_sd\n",
       "1 ind_w300_ret -0.1583057  0.9317869\n",
       "2 ind_w500_ret  1.1264276  0.8311509"
      ]
     },
     "metadata": {},
     "output_type": "display_data"
    }
   ],
   "source": [
    "data[, .(stkcd_ret = close/pre_close - 1, ind_w300_ret = sum((close/pre_close - 1) * index_w300), ind_w500_ret = sum((close/pre_close - 1) * index_w500), symbol), keyby = date\n",
    "    ][, .(coef_beta = coef(lm(stkcd_ret ~ ind_w300_ret + ind_w500_ret))[-1], tag = c(\"ind_w300_ret\", \"ind_w500_ret\")), keyby = symbol\n",
    "    ][!is.na(coef_beta), .(sample_mean = mean(coef_beta), sample_sd = sd(coef_beta)), keyby = tag]"
   ]
  },
  {
   "cell_type": "markdown",
   "metadata": {},
   "source": [
    "## 61. 每天开盘后到最高价涨幅最大的100只股票同样也是全天(昨收到今收)涨幅最大的100只股票的比例是多少?"
   ]
  },
  {
   "cell_type": "code",
   "execution_count": 89,
   "metadata": {
    "scrolled": true
   },
   "outputs": [
    {
     "data": {
      "text/html": [
       "<table>\n",
       "<thead><tr><th scope=col>date</th><th scope=col>ratio</th></tr></thead>\n",
       "<tbody>\n",
       "\t<tr><td>20120104</td><td>0.52    </td></tr>\n",
       "\t<tr><td>20120105</td><td>0.52    </td></tr>\n",
       "\t<tr><td>20120106</td><td>0.61    </td></tr>\n",
       "\t<tr><td>20120109</td><td>0.70    </td></tr>\n",
       "\t<tr><td>20120110</td><td>0.59    </td></tr>\n",
       "</tbody>\n",
       "</table>\n"
      ],
      "text/latex": [
       "\\begin{tabular}{r|ll}\n",
       " date & ratio\\\\\n",
       "\\hline\n",
       "\t 20120104 & 0.52    \\\\\n",
       "\t 20120105 & 0.52    \\\\\n",
       "\t 20120106 & 0.61    \\\\\n",
       "\t 20120109 & 0.70    \\\\\n",
       "\t 20120110 & 0.59    \\\\\n",
       "\\end{tabular}\n"
      ],
      "text/markdown": [
       "\n",
       "| date | ratio |\n",
       "|---|---|\n",
       "| 20120104 | 0.52     |\n",
       "| 20120105 | 0.52     |\n",
       "| 20120106 | 0.61     |\n",
       "| 20120109 | 0.70     |\n",
       "| 20120110 | 0.59     |\n",
       "\n"
      ],
      "text/plain": [
       "  date     ratio\n",
       "1 20120104 0.52 \n",
       "2 20120105 0.52 \n",
       "3 20120106 0.61 \n",
       "4 20120109 0.70 \n",
       "5 20120110 0.59 "
      ]
     },
     "metadata": {},
     "output_type": "display_data"
    }
   ],
   "source": [
    "data[, .(high_open = high/open - 1, clo_pre = close/pre_close - 1), by = .(symbol, date)\n",
    "    ][order(date, -high_open), .(ho_symbol = list(symbol[1:100])), \n",
    "      keyby = date\n",
    "    ][data[, .(high_open = high/open - 1, clo_pre = close/pre_close - 1), by = .(symbol, date)    \n",
    "        ][order(date, -clo_pre), .(cp_symbol = list(symbol[1:100])), \n",
    "          keyby = date], on = .(date)\n",
    "    ][, {\n",
    "        l <- list()\n",
    "        for (i in 1:.N) {\n",
    "            l[[i]] <- list(intec = intersect(cp_symbol[[i]], ho_symbol[[i]]))\n",
    "        }\n",
    "        rbindlist(l)\n",
    "    }, keyby = date\n",
    "    ][, .(ratio = .N/100), keyby = date\n",
    "    ][1:5]"
   ]
  },
  {
   "cell_type": "markdown",
   "metadata": {},
   "source": [
    "## 62. 每天计算最近三天每天对市场的超额收益率都排进当天前100的股票有哪些?"
   ]
  },
  {
   "cell_type": "code",
   "execution_count": 90,
   "metadata": {
    "scrolled": true
   },
   "outputs": [
    {
     "name": "stderr",
     "output_type": "stream",
     "text": [
      "Warning message in rbindlist(l):\n",
      "\"Column 1 ['symbol'] of item 4 is length 0. This (and 10 others like it) has been filled with NA (NULL for list columns) to make each item uniform.\""
     ]
    },
    {
     "data": {
      "text/html": [
       "<table>\n",
       "<thead><tr><th scope=col>symbol</th><th scope=col>date</th></tr></thead>\n",
       "<tbody>\n",
       "\t<tr><td>NA       </td><td>20120109 </td></tr>\n",
       "\t<tr><td>000791.SZ</td><td>20120110 </td></tr>\n",
       "\t<tr><td>002118.SZ</td><td>20120111 </td></tr>\n",
       "\t<tr><td>600971.SH</td><td>20120111 </td></tr>\n",
       "\t<tr><td>000791.SZ</td><td>20120111 </td></tr>\n",
       "</tbody>\n",
       "</table>\n"
      ],
      "text/latex": [
       "\\begin{tabular}{r|ll}\n",
       " symbol & date\\\\\n",
       "\\hline\n",
       "\t NA        & 20120109 \\\\\n",
       "\t 000791.SZ & 20120110 \\\\\n",
       "\t 002118.SZ & 20120111 \\\\\n",
       "\t 600971.SH & 20120111 \\\\\n",
       "\t 000791.SZ & 20120111 \\\\\n",
       "\\end{tabular}\n"
      ],
      "text/markdown": [
       "\n",
       "| symbol | date |\n",
       "|---|---|\n",
       "| NA        | 20120109  |\n",
       "| 000791.SZ | 20120110  |\n",
       "| 002118.SZ | 20120111  |\n",
       "| 600971.SH | 20120111  |\n",
       "| 000791.SZ | 20120111  |\n",
       "\n"
      ],
      "text/plain": [
       "  symbol    date    \n",
       "1 NA        20120109\n",
       "2 000791.SZ 20120110\n",
       "3 002118.SZ 20120111\n",
       "4 600971.SH 20120111\n",
       "5 000791.SZ 20120111"
      ]
     },
     "metadata": {},
     "output_type": "display_data"
    }
   ],
   "source": [
    "data[, .(stkcd_ret = close/pre_close - 1, weight = capt/sum(capt), symbol), keyby = date\n",
    "    ][, .(mkt_ret = sum(weight*stkcd_ret), stkcd_ret, symbol), keyby = date\n",
    "    ][, .(alpha = coef(lm(stkcd_ret ~ mkt_ret))[1], beta = coef(lm(stkcd_ret ~ mkt_ret))[2], mkt_ret, stkcd_ret, symbol, date)\n",
    "    ][, .(abnr_ret = stkcd_ret - alpha - beta * mkt_ret), keyby = .(date, symbol)\n",
    "    ][order(date, -abnr_ret), .(symbol = list(symbol[1:100])), keyby = date\n",
    "    ][, {\n",
    "        l <- list()\n",
    "        for (t in 4:.N) {\n",
    "            l[[t]] <- list(symbol = Reduce(intersect, list(symbol[[t]], symbol[[t-1]], symbol[[t-2]])), date = date[[t]])\n",
    "        }\n",
    "        rbindlist(l)\n",
    "    }][1:5]"
   ]
  },
  {
   "cell_type": "markdown",
   "metadata": {},
   "source": [
    "## 63. 每天计算最近三天每天对行业的超额收益率都排进当天行业前30%的股票有哪些?"
   ]
  },
  {
   "cell_type": "code",
   "execution_count": 91,
   "metadata": {
    "scrolled": true
   },
   "outputs": [
    {
     "data": {
      "text/html": [
       "<table>\n",
       "<thead><tr><th scope=col>symbol</th><th scope=col>date</th></tr></thead>\n",
       "<tbody>\n",
       "\t<tr><td>000039.SZ</td><td>20120109 </td></tr>\n",
       "\t<tr><td>000045.SZ</td><td>20120109 </td></tr>\n",
       "\t<tr><td>000411.SZ</td><td>20120109 </td></tr>\n",
       "\t<tr><td>000422.SZ</td><td>20120109 </td></tr>\n",
       "\t<tr><td>000518.SZ</td><td>20120109 </td></tr>\n",
       "</tbody>\n",
       "</table>\n"
      ],
      "text/latex": [
       "\\begin{tabular}{r|ll}\n",
       " symbol & date\\\\\n",
       "\\hline\n",
       "\t 000039.SZ & 20120109 \\\\\n",
       "\t 000045.SZ & 20120109 \\\\\n",
       "\t 000411.SZ & 20120109 \\\\\n",
       "\t 000422.SZ & 20120109 \\\\\n",
       "\t 000518.SZ & 20120109 \\\\\n",
       "\\end{tabular}\n"
      ],
      "text/markdown": [
       "\n",
       "| symbol | date |\n",
       "|---|---|\n",
       "| 000039.SZ | 20120109  |\n",
       "| 000045.SZ | 20120109  |\n",
       "| 000411.SZ | 20120109  |\n",
       "| 000422.SZ | 20120109  |\n",
       "| 000518.SZ | 20120109  |\n",
       "\n"
      ],
      "text/plain": [
       "  symbol    date    \n",
       "1 000039.SZ 20120109\n",
       "2 000045.SZ 20120109\n",
       "3 000411.SZ 20120109\n",
       "4 000422.SZ 20120109\n",
       "5 000518.SZ 20120109"
      ]
     },
     "metadata": {},
     "output_type": "display_data"
    }
   ],
   "source": [
    "data[, .(stkcd_ret = close/pre_close - 1, symbol, weight = capt/sum(capt)), keyby = .(industry,date)\n",
    "    ][, .(ind_ret = sum(weight*stkcd_ret), stkcd_ret, symbol), keyby = .(industry, date)\n",
    "    ][, .(alpha = coef(lm(stkcd_ret ~ ind_ret))[1], beta = coef(lm(stkcd_ret ~ ind_ret))[2], ind_ret, stkcd_ret, symbol, date), keyby = .(industry)\n",
    "    ][, .(abnr_ret = stkcd_ret - alpha - beta * ind_ret), keyby = .(date, symbol)\n",
    "    ][order(date, -abnr_ret) & abnr_ret > quantile(abnr_ret, 0.7), .(symbol = list(symbol)), keyby = date\n",
    "    ][, {\n",
    "        l <- list()\n",
    "        for (t in 4:.N) {\n",
    "            l[[t]] <- list(symbol = Reduce(intersect, list(symbol[[t]], symbol[[t-1]], symbol[[t-2]])), date = date[[t]])\n",
    "        }\n",
    "        rbindlist(l)\n",
    "    }][1:5]"
   ]
  }
 ],
 "metadata": {
  "kernelspec": {
   "display_name": "R",
   "language": "R",
   "name": "ir"
  },
  "language_info": {
   "codemirror_mode": "r",
   "file_extension": ".r",
   "mimetype": "text/x-r-source",
   "name": "R",
   "pygments_lexer": "r",
   "version": "3.5.3"
  },
  "toc-autonumbering": false
 },
 "nbformat": 4,
 "nbformat_minor": 4
}
